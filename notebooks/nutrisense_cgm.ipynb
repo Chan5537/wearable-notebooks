{
  "nbformat": 4,
  "nbformat_minor": 0,
  "metadata": {
    "colab": {
      "provenance": [],
      "toc_visible": true
    },
    "kernelspec": {
      "name": "python3",
      "display_name": "Python 3"
    },
    "language_info": {
      "name": "python"
    }
  },
  "cells": [
    {
      "cell_type": "markdown",
      "source": [
        "# Nutrisense CGM: Guide to data extraction and analysis"
      ],
      "metadata": {
        "id": "e_dmeLdCgHlO"
      }
    },
    {
      "cell_type": "markdown",
      "source": [
        "<img src=\"https://assets.nutrisense.io/62c477aa7b7db12cfffa5de3/633386632eabe28ff072973d_Activity.webp\" width=\"200px\" />\n",
        "\n"
      ],
      "metadata": {
        "id": "DAn8JGTbFTD4"
      }
    },
    {
      "cell_type": "markdown",
      "source": [
        "The [Abbott Freestyle Libre Version 1 Continuous Glucose Monitor](https://www.freestyle.abbott/us-en/products/freestyle-libre-3.html?utm_source=Google&utm_medium=SEM&utm_campaign=Brand&utm_content=General%20FSL3&gclid=EAIaIQobChMIyaaZs4Gv_gIVkSytBh11yQZOEAAYASAAEgIiY_D_BwE&gclsrc=aw.ds) is a sensor that tracks your blood glucose levels over a period of two weeks. A variety of vendors use the Freestyle Libre CGM; in this notebook, we use [Nutrisense](https://to.nutrisense.io/cgm-3?g_acctid=195-120-5766&g_adgroupid=145363696209&g_adid=588697352068&g_adtype=search&g_campaign=brand_exact_desktop_tcpa_conv_groups+_low_cpc&g_campaignid=18640003106&g_keyword=nutrisense%20cgm&g_keywordid=kwd-927595745176&g_network=g&utm_adgroup=conv&utm_adpos=&utm_campaign=brand_exact_desktop_tcpa_conv_groups__low_cpc&utm_keyword=nutrisense%20cgm&utm_medium=cpc&utm_source=google&gclid=EAIaIQobChMI_Ie08PTD_QIVsRR9Ch3A_wRrEAAYASAAEgJBPfD_BwE). In addition to logging continuous data, purchasing the Nutrisense CGM pairs you with a dietitian who helps you interpret, understand, and manage your glucose levels.\n",
        "\n",
        "Having used the Nutrisense CGM, we'll show you how to extract, visualize, and compute statistics for data collected by the monitor. All you will need for this notebook is your username and password!\n",
        "\n",
        "You can extract the parameters with known sampling frequencies as below:\n",
        "\n",
        "Parameter Name  | Sampling Frequency\n",
        "-------------------|------------------\n",
        "Glucose level      |  15 minutes\n",
        "Glucose Peak |  24 hours\n",
        "Glucose Average |  24 hours\n",
        "Glucose Adaptability | 24 hours\n",
        "Glucose Variability | 24 hours\n",
        "\n",
        "In this guide, we sequentially cover the following **nine** topics to extract from the Nutrisense CGM:\n",
        "1. **Setup**\n",
        "2. **Authentication/Authorization**\n",
        "    - Requires only username and password, no OAuth.\n",
        "3. **Data extraction**\n",
        "    - We get data via `wearipedia` in a couple lines of code.\n",
        "4. **Data Exporting**\n",
        "    - We export all of this data to file formats compatible by R, Excel, and MatLab.\n",
        "5. **Adherence**\n",
        "    - We simulate non-adherence by dynamically removing datapoints from our simulated data.\n",
        "6. **Visualization**\n",
        "    - We create a simple plot to visualize our data.\n",
        "7. **Advanced visualization**\n",
        "    - 7.1: We plot a calendar heatmap of step counts every day, revealing which days the user has worn the watch.\n",
        "    - 7.2: We reproduce a time series plot from the Garmin Connect website of heart rate and activity (steps) throughout a given day.\n",
        "8. **Outlier Detection and Data Cleaning**\n",
        "    - We detect outliers in our data and filter them out.\n",
        "9. **Data analysis**\n",
        "    - 9.1: We test whether activity (step counts) and heart rates within 15 minute intervals are correlated and find a statistically significant relationship.\n",
        "    - 9.2: We check for a correlation between breathing rate and heart rate, and find a statistically significant link.\n",
        "    - Note that we are not making any scientific claims here as our sample size is small and the data collection process was not rigorously vetted (it is our own data), only demonstrating that this code could potentially be used to perform rigorous analyses in the future.\n",
        "\n",
        "Disclaimer: this notebook is purely for educational purposes. All of the data currently stored in this notebook is purely *synthetic*, meaning randomly generated according to rules we created. Despite this, the end-to-end data extraction pipeline has been tested on our own data, meaning that if you enter your own email and password on your own Colab instance, you can visualize your own *real* data. That being said, we were unable to thoroughly test the timezone functionality, though, since we only have one account, so beware.\n",
        "\n"
      ],
      "metadata": {
        "id": "ftAnpNNrgMZy"
      }
    },
    {
      "cell_type": "markdown",
      "source": [
        "# 1. Setup"
      ],
      "metadata": {
        "id": "gxWvBALLgRGS"
      }
    },
    {
      "cell_type": "markdown",
      "source": [
        "# 1. Setup\n",
        "\n",
        "## Participant Setup\n",
        "\n",
        "Dear Participant,\n",
        "\n",
        "Once you unbox your Nutrisense CGM, please set up the device by following the Official Guide: https://support.nutrisense.io/hc/en-us/articles/4402815217687-How-Do-I-Put-on-My-CGM-\n",
        "\n",
        "This guide is also available on the nutrisense app, which is where you will log and view your data.\n",
        "\n",
        "Make sure that your phone is paired to it using the Nutrisense login credentials (email and password) given to you by the data receiver.\n",
        "\n",
        "Best,\n",
        "\n",
        "Wearipedia\n",
        "\n",
        "## Data Receiver Setup\n",
        "\n",
        "Please follow the below steps:\n",
        "\n",
        "1. Create an email address for the participant, for example `foo@email.com`.\n",
        "2. Create a Nutrisense account with the email `foo@email.com` and some random password.\n",
        "3. Keep `foo@email.com` and password stored somewhere safe.\n",
        "4. Distribute the device to the participant and instruct them to follow the participant setup letter above.\n",
        "5. Install the `wearipedia` Python package to easily extract data from this device."
      ],
      "metadata": {
        "id": "Y2ZKhRCp94-0"
      }
    },
    {
      "cell_type": "code",
      "source": [
        "!pip install git+https://github.com/Stanford-Health/wearipedia"
      ],
      "metadata": {
        "id": "_V4AjApi-gtQ",
        "colab": {
          "base_uri": "https://localhost:8080/"
        },
        "outputId": "c01cd77f-53cc-4739-ff84-b2ecc5889907"
      },
      "execution_count": 1,
      "outputs": [
        {
          "output_type": "stream",
          "name": "stdout",
          "text": [
            "Collecting git+https://github.com/Stanford-Health/wearipedia\n",
            "  Cloning https://github.com/Stanford-Health/wearipedia to /tmp/pip-req-build-6yo5af4f\n",
            "  Running command git clone --filter=blob:none --quiet https://github.com/Stanford-Health/wearipedia /tmp/pip-req-build-6yo5af4f\n",
            "  Resolved https://github.com/Stanford-Health/wearipedia to commit e128fc36d93c90718c404fcaf5bbc8b84811f849\n",
            "  Installing build dependencies ... \u001b[?25l\u001b[?25hdone\n",
            "  Getting requirements to build wheel ... \u001b[?25l\u001b[?25hdone\n",
            "  Preparing metadata (pyproject.toml) ... \u001b[?25l\u001b[?25hdone\n",
            "Collecting beautifulsoup4<5.0.0,>=4.12.2 (from wearipedia==0.1.2)\n",
            "  Downloading beautifulsoup4-4.12.3-py3-none-any.whl (147 kB)\n",
            "\u001b[2K     \u001b[90m━━━━━━━━━━━━━━━━━━━━━━━━━━━━━━━━━━━━━━━━\u001b[0m \u001b[32m147.9/147.9 kB\u001b[0m \u001b[31m1.9 MB/s\u001b[0m eta \u001b[36m0:00:00\u001b[0m\n",
            "\u001b[?25hCollecting fastapi==0.101 (from wearipedia==0.1.2)\n",
            "  Downloading fastapi-0.101.0-py3-none-any.whl (65 kB)\n",
            "\u001b[2K     \u001b[90m━━━━━━━━━━━━━━━━━━━━━━━━━━━━━━━━━━━━━━━━\u001b[0m \u001b[32m65.7/65.7 kB\u001b[0m \u001b[31m6.8 MB/s\u001b[0m eta \u001b[36m0:00:00\u001b[0m\n",
            "\u001b[?25hCollecting fbm<0.4.0,>=0.3.0 (from wearipedia==0.1.2)\n",
            "  Downloading fbm-0.3.0-py3-none-any.whl (9.4 kB)\n",
            "Collecting garminconnect<0.2.0,>=0.1.48 (from wearipedia==0.1.2)\n",
            "  Downloading garminconnect-0.1.55.tar.gz (20 kB)\n",
            "  Preparing metadata (setup.py) ... \u001b[?25l\u001b[?25hdone\n",
            "Collecting jupyter<2.0.0,>=1.0.0 (from wearipedia==0.1.2)\n",
            "  Downloading jupyter-1.0.0-py2.py3-none-any.whl (2.7 kB)\n",
            "Collecting kaleido==0.2.1 (from wearipedia==0.1.2)\n",
            "  Downloading kaleido-0.2.1-py2.py3-none-manylinux1_x86_64.whl (79.9 MB)\n",
            "\u001b[2K     \u001b[90m━━━━━━━━━━━━━━━━━━━━━━━━━━━━━━━━━━━━━━━━\u001b[0m \u001b[32m79.9/79.9 MB\u001b[0m \u001b[31m6.2 MB/s\u001b[0m eta \u001b[36m0:00:00\u001b[0m\n",
            "\u001b[?25hCollecting lida<0.0.12,>=0.0.11 (from wearipedia==0.1.2)\n",
            "  Downloading lida-0.0.11-py3-none-any.whl (7.3 MB)\n",
            "\u001b[2K     \u001b[90m━━━━━━━━━━━━━━━━━━━━━━━━━━━━━━━━━━━━━━━━\u001b[0m \u001b[32m7.3/7.3 MB\u001b[0m \u001b[31m59.9 MB/s\u001b[0m eta \u001b[36m0:00:00\u001b[0m\n",
            "\u001b[?25hCollecting myfitnesspal<3.0.0,>=2.0.1 (from wearipedia==0.1.2)\n",
            "  Downloading myfitnesspal-2.1.0-py3-none-any.whl (30 kB)\n",
            "Requirement already satisfied: pandas==1.5.3 in /usr/local/lib/python3.10/dist-packages (from wearipedia==0.1.2) (1.5.3)\n",
            "Collecting polyline<3.0.0,>=2.0.0 (from wearipedia==0.1.2)\n",
            "  Downloading polyline-2.0.1-py3-none-any.whl (6.0 kB)\n",
            "Collecting rich<13.0.0,>=12.6.0 (from wearipedia==0.1.2)\n",
            "  Downloading rich-12.6.0-py3-none-any.whl (237 kB)\n",
            "\u001b[2K     \u001b[90m━━━━━━━━━━━━━━━━━━━━━━━━━━━━━━━━━━━━━━━━\u001b[0m \u001b[32m237.5/237.5 kB\u001b[0m \u001b[31m24.3 MB/s\u001b[0m eta \u001b[36m0:00:00\u001b[0m\n",
            "\u001b[?25hRequirement already satisfied: scipy<2.0,>=1.6 in /usr/local/lib/python3.10/dist-packages (from wearipedia==0.1.2) (1.11.4)\n",
            "Requirement already satisfied: tqdm<5.0.0,>=4.64.1 in /usr/local/lib/python3.10/dist-packages (from wearipedia==0.1.2) (4.66.1)\n",
            "Collecting typer[all]<0.7.0,>=0.6.1 (from wearipedia==0.1.2)\n",
            "  Downloading typer-0.6.1-py3-none-any.whl (38 kB)\n",
            "Requirement already satisfied: typing-extensions==4.5.0 in /usr/local/lib/python3.10/dist-packages (from wearipedia==0.1.2) (4.5.0)\n",
            "Collecting wget<4.0,>=3.2 (from wearipedia==0.1.2)\n",
            "  Downloading wget-3.2.zip (10 kB)\n",
            "  Preparing metadata (setup.py) ... \u001b[?25l\u001b[?25hdone\n",
            "Requirement already satisfied: pydantic!=1.8,!=1.8.1,!=2.0.0,!=2.0.1,!=2.1.0,<3.0.0,>=1.7.4 in /usr/local/lib/python3.10/dist-packages (from fastapi==0.101->wearipedia==0.1.2) (1.10.13)\n",
            "Collecting starlette<0.28.0,>=0.27.0 (from fastapi==0.101->wearipedia==0.1.2)\n",
            "  Downloading starlette-0.27.0-py3-none-any.whl (66 kB)\n",
            "\u001b[2K     \u001b[90m━━━━━━━━━━━━━━━━━━━━━━━━━━━━━━━━━━━━━━━━\u001b[0m \u001b[32m67.0/67.0 kB\u001b[0m \u001b[31m7.8 MB/s\u001b[0m eta \u001b[36m0:00:00\u001b[0m\n",
            "\u001b[?25hRequirement already satisfied: python-dateutil>=2.8.1 in /usr/local/lib/python3.10/dist-packages (from pandas==1.5.3->wearipedia==0.1.2) (2.8.2)\n",
            "Requirement already satisfied: pytz>=2020.1 in /usr/local/lib/python3.10/dist-packages (from pandas==1.5.3->wearipedia==0.1.2) (2023.3.post1)\n",
            "Requirement already satisfied: numpy>=1.21.0 in /usr/local/lib/python3.10/dist-packages (from pandas==1.5.3->wearipedia==0.1.2) (1.23.5)\n",
            "Requirement already satisfied: soupsieve>1.2 in /usr/local/lib/python3.10/dist-packages (from beautifulsoup4<5.0.0,>=4.12.2->wearipedia==0.1.2) (2.5)\n",
            "Requirement already satisfied: requests in /usr/local/lib/python3.10/dist-packages (from garminconnect<0.2.0,>=0.1.48->wearipedia==0.1.2) (2.31.0)\n",
            "Collecting cloudscraper (from garminconnect<0.2.0,>=0.1.48->wearipedia==0.1.2)\n",
            "  Downloading cloudscraper-1.2.71-py2.py3-none-any.whl (99 kB)\n",
            "\u001b[2K     \u001b[90m━━━━━━━━━━━━━━━━━━━━━━━━━━━━━━━━━━━━━━━━\u001b[0m \u001b[32m99.7/99.7 kB\u001b[0m \u001b[31m10.9 MB/s\u001b[0m eta \u001b[36m0:00:00\u001b[0m\n",
            "\u001b[?25hRequirement already satisfied: notebook in /usr/local/lib/python3.10/dist-packages (from jupyter<2.0.0,>=1.0.0->wearipedia==0.1.2) (6.5.5)\n",
            "Collecting qtconsole (from jupyter<2.0.0,>=1.0.0->wearipedia==0.1.2)\n",
            "  Downloading qtconsole-5.5.1-py3-none-any.whl (123 kB)\n",
            "\u001b[2K     \u001b[90m━━━━━━━━━━━━━━━━━━━━━━━━━━━━━━━━━━━━━━━━\u001b[0m \u001b[32m123.4/123.4 kB\u001b[0m \u001b[31m13.6 MB/s\u001b[0m eta \u001b[36m0:00:00\u001b[0m\n",
            "\u001b[?25hRequirement already satisfied: jupyter-console in /usr/local/lib/python3.10/dist-packages (from jupyter<2.0.0,>=1.0.0->wearipedia==0.1.2) (6.1.0)\n",
            "Requirement already satisfied: nbconvert in /usr/local/lib/python3.10/dist-packages (from jupyter<2.0.0,>=1.0.0->wearipedia==0.1.2) (6.5.4)\n",
            "Requirement already satisfied: ipykernel in /usr/local/lib/python3.10/dist-packages (from jupyter<2.0.0,>=1.0.0->wearipedia==0.1.2) (5.5.6)\n",
            "Requirement already satisfied: ipywidgets in /usr/local/lib/python3.10/dist-packages (from jupyter<2.0.0,>=1.0.0->wearipedia==0.1.2) (7.7.1)\n",
            "Collecting llmx>=0.0.18a (from lida<0.0.12,>=0.0.11->wearipedia==0.1.2)\n",
            "  Downloading llmx-0.0.18a0-py3-none-any.whl (19 kB)\n",
            "Collecting uvicorn (from lida<0.0.12,>=0.0.11->wearipedia==0.1.2)\n",
            "  Downloading uvicorn-0.27.0-py3-none-any.whl (60 kB)\n",
            "\u001b[2K     \u001b[90m━━━━━━━━━━━━━━━━━━━━━━━━━━━━━━━━━━━━━━━━\u001b[0m \u001b[32m60.6/60.6 kB\u001b[0m \u001b[31m7.0 MB/s\u001b[0m eta \u001b[36m0:00:00\u001b[0m\n",
            "\u001b[?25hRequirement already satisfied: typer in /usr/local/lib/python3.10/dist-packages (from lida<0.0.12,>=0.0.11->wearipedia==0.1.2) (0.9.0)\n",
            "Collecting python-multipart (from lida<0.0.12,>=0.0.11->wearipedia==0.1.2)\n",
            "  Downloading python_multipart-0.0.6-py3-none-any.whl (45 kB)\n",
            "\u001b[2K     \u001b[90m━━━━━━━━━━━━━━━━━━━━━━━━━━━━━━━━━━━━━━━━\u001b[0m \u001b[32m45.7/45.7 kB\u001b[0m \u001b[31m5.4 MB/s\u001b[0m eta \u001b[36m0:00:00\u001b[0m\n",
            "\u001b[?25hRequirement already satisfied: matplotlib in /usr/local/lib/python3.10/dist-packages (from lida<0.0.12,>=0.0.11->wearipedia==0.1.2) (3.7.1)\n",
            "Requirement already satisfied: altair in /usr/local/lib/python3.10/dist-packages (from lida<0.0.12,>=0.0.11->wearipedia==0.1.2) (4.2.2)\n",
            "Requirement already satisfied: seaborn in /usr/local/lib/python3.10/dist-packages (from lida<0.0.12,>=0.0.11->wearipedia==0.1.2) (0.13.1)\n",
            "Requirement already satisfied: plotly in /usr/local/lib/python3.10/dist-packages (from lida<0.0.12,>=0.0.11->wearipedia==0.1.2) (5.15.0)\n",
            "Requirement already satisfied: plotnine in /usr/local/lib/python3.10/dist-packages (from lida<0.0.12,>=0.0.11->wearipedia==0.1.2) (0.12.4)\n",
            "Requirement already satisfied: statsmodels in /usr/local/lib/python3.10/dist-packages (from lida<0.0.12,>=0.0.11->wearipedia==0.1.2) (0.14.1)\n",
            "Requirement already satisfied: networkx in /usr/local/lib/python3.10/dist-packages (from lida<0.0.12,>=0.0.11->wearipedia==0.1.2) (3.2.1)\n",
            "Requirement already satisfied: geopandas in /usr/local/lib/python3.10/dist-packages (from lida<0.0.12,>=0.0.11->wearipedia==0.1.2) (0.13.2)\n",
            "Requirement already satisfied: matplotlib-venn in /usr/local/lib/python3.10/dist-packages (from lida<0.0.12,>=0.0.11->wearipedia==0.1.2) (0.11.9)\n",
            "Requirement already satisfied: wordcloud in /usr/local/lib/python3.10/dist-packages (from lida<0.0.12,>=0.0.11->wearipedia==0.1.2) (1.9.3)\n",
            "Collecting blessed<2.0,>=1.8.5 (from myfitnesspal<3.0.0,>=2.0.1->wearipedia==0.1.2)\n",
            "  Downloading blessed-1.20.0-py2.py3-none-any.whl (58 kB)\n",
            "\u001b[2K     \u001b[90m━━━━━━━━━━━━━━━━━━━━━━━━━━━━━━━━━━━━━━━━\u001b[0m \u001b[32m58.4/58.4 kB\u001b[0m \u001b[31m6.0 MB/s\u001b[0m eta \u001b[36m0:00:00\u001b[0m\n",
            "\u001b[?25hCollecting browser-cookie3<1,>=0.16.1 (from myfitnesspal<3.0.0,>=2.0.1->wearipedia==0.1.2)\n",
            "  Downloading browser_cookie3-0.19.1-py3-none-any.whl (14 kB)\n",
            "Requirement already satisfied: lxml<5,>=4.2.5 in /usr/local/lib/python3.10/dist-packages (from myfitnesspal<3.0.0,>=2.0.1->wearipedia==0.1.2) (4.9.4)\n",
            "Collecting measurement<4.0,>=3.2.0 (from myfitnesspal<3.0.0,>=2.0.1->wearipedia==0.1.2)\n",
            "  Downloading measurement-3.2.2-py3-none-any.whl (17 kB)\n",
            "Collecting commonmark<0.10.0,>=0.9.0 (from rich<13.0.0,>=12.6.0->wearipedia==0.1.2)\n",
            "  Downloading commonmark-0.9.1-py2.py3-none-any.whl (51 kB)\n",
            "\u001b[2K     \u001b[90m━━━━━━━━━━━━━━━━━━━━━━━━━━━━━━━━━━━━━━━━\u001b[0m \u001b[32m51.1/51.1 kB\u001b[0m \u001b[31m5.9 MB/s\u001b[0m eta \u001b[36m0:00:00\u001b[0m\n",
            "\u001b[?25hRequirement already satisfied: pygments<3.0.0,>=2.6.0 in /usr/local/lib/python3.10/dist-packages (from rich<13.0.0,>=12.6.0->wearipedia==0.1.2) (2.16.1)\n",
            "Requirement already satisfied: click<9.0.0,>=7.1.1 in /usr/local/lib/python3.10/dist-packages (from typer[all]<0.7.0,>=0.6.1->wearipedia==0.1.2) (8.1.7)\n",
            "Collecting colorama<0.5.0,>=0.4.3 (from typer[all]<0.7.0,>=0.6.1->wearipedia==0.1.2)\n",
            "  Downloading colorama-0.4.6-py2.py3-none-any.whl (25 kB)\n",
            "Collecting shellingham<2.0.0,>=1.3.0 (from typer[all]<0.7.0,>=0.6.1->wearipedia==0.1.2)\n",
            "  Downloading shellingham-1.5.4-py2.py3-none-any.whl (9.8 kB)\n",
            "Requirement already satisfied: wcwidth>=0.1.4 in /usr/local/lib/python3.10/dist-packages (from blessed<2.0,>=1.8.5->myfitnesspal<3.0.0,>=2.0.1->wearipedia==0.1.2) (0.2.13)\n",
            "Requirement already satisfied: six>=1.9.0 in /usr/local/lib/python3.10/dist-packages (from blessed<2.0,>=1.8.5->myfitnesspal<3.0.0,>=2.0.1->wearipedia==0.1.2) (1.16.0)\n",
            "Collecting lz4 (from browser-cookie3<1,>=0.16.1->myfitnesspal<3.0.0,>=2.0.1->wearipedia==0.1.2)\n",
            "  Downloading lz4-4.3.3-cp310-cp310-manylinux_2_17_x86_64.manylinux2014_x86_64.whl (1.3 MB)\n",
            "\u001b[2K     \u001b[90m━━━━━━━━━━━━━━━━━━━━━━━━━━━━━━━━━━━━━━━━\u001b[0m \u001b[32m1.3/1.3 MB\u001b[0m \u001b[31m64.7 MB/s\u001b[0m eta \u001b[36m0:00:00\u001b[0m\n",
            "\u001b[?25hCollecting pycryptodomex (from browser-cookie3<1,>=0.16.1->myfitnesspal<3.0.0,>=2.0.1->wearipedia==0.1.2)\n",
            "  Downloading pycryptodomex-3.20.0-cp35-abi3-manylinux_2_17_x86_64.manylinux2014_x86_64.whl (2.1 MB)\n",
            "\u001b[2K     \u001b[90m━━━━━━━━━━━━━━━━━━━━━━━━━━━━━━━━━━━━━━━━\u001b[0m \u001b[32m2.1/2.1 MB\u001b[0m \u001b[31m71.1 MB/s\u001b[0m eta \u001b[36m0:00:00\u001b[0m\n",
            "\u001b[?25hRequirement already satisfied: jeepney in /usr/lib/python3/dist-packages (from browser-cookie3<1,>=0.16.1->myfitnesspal<3.0.0,>=2.0.1->wearipedia==0.1.2) (0.7.1)\n",
            "Requirement already satisfied: pyparsing>=2.4.7 in /usr/local/lib/python3.10/dist-packages (from cloudscraper->garminconnect<0.2.0,>=0.1.48->wearipedia==0.1.2) (3.1.1)\n",
            "Collecting requests-toolbelt>=0.9.1 (from cloudscraper->garminconnect<0.2.0,>=0.1.48->wearipedia==0.1.2)\n",
            "  Downloading requests_toolbelt-1.0.0-py2.py3-none-any.whl (54 kB)\n",
            "\u001b[2K     \u001b[90m━━━━━━━━━━━━━━━━━━━━━━━━━━━━━━━━━━━━━━━━\u001b[0m \u001b[32m54.5/54.5 kB\u001b[0m \u001b[31m3.8 MB/s\u001b[0m eta \u001b[36m0:00:00\u001b[0m\n",
            "\u001b[?25hCollecting openai==0.28.1 (from llmx>=0.0.18a->lida<0.0.12,>=0.0.11->wearipedia==0.1.2)\n",
            "  Downloading openai-0.28.1-py3-none-any.whl (76 kB)\n",
            "\u001b[2K     \u001b[90m━━━━━━━━━━━━━━━━━━━━━━━━━━━━━━━━━━━━━━━━\u001b[0m \u001b[32m77.0/77.0 kB\u001b[0m \u001b[31m9.0 MB/s\u001b[0m eta \u001b[36m0:00:00\u001b[0m\n",
            "\u001b[?25hCollecting tiktoken (from llmx>=0.0.18a->lida<0.0.12,>=0.0.11->wearipedia==0.1.2)\n",
            "  Downloading tiktoken-0.5.2-cp310-cp310-manylinux_2_17_x86_64.manylinux2014_x86_64.whl (2.0 MB)\n",
            "\u001b[2K     \u001b[90m━━━━━━━━━━━━━━━━━━━━━━━━━━━━━━━━━━━━━━━━\u001b[0m \u001b[32m2.0/2.0 MB\u001b[0m \u001b[31m38.6 MB/s\u001b[0m eta \u001b[36m0:00:00\u001b[0m\n",
            "\u001b[?25hRequirement already satisfied: diskcache in /usr/local/lib/python3.10/dist-packages (from llmx>=0.0.18a->lida<0.0.12,>=0.0.11->wearipedia==0.1.2) (5.6.3)\n",
            "Collecting cohere (from llmx>=0.0.18a->lida<0.0.12,>=0.0.11->wearipedia==0.1.2)\n",
            "  Downloading cohere-4.44-py3-none-any.whl (51 kB)\n",
            "\u001b[2K     \u001b[90m━━━━━━━━━━━━━━━━━━━━━━━━━━━━━━━━━━━━━━━━\u001b[0m \u001b[32m51.9/51.9 kB\u001b[0m \u001b[31m6.5 MB/s\u001b[0m eta \u001b[36m0:00:00\u001b[0m\n",
            "\u001b[?25hRequirement already satisfied: google.auth in /usr/local/lib/python3.10/dist-packages (from llmx>=0.0.18a->lida<0.0.12,>=0.0.11->wearipedia==0.1.2) (2.17.3)\n",
            "Requirement already satisfied: pyyaml in /usr/local/lib/python3.10/dist-packages (from llmx>=0.0.18a->lida<0.0.12,>=0.0.11->wearipedia==0.1.2) (6.0.1)\n",
            "Requirement already satisfied: aiohttp in /usr/local/lib/python3.10/dist-packages (from openai==0.28.1->llmx>=0.0.18a->lida<0.0.12,>=0.0.11->wearipedia==0.1.2) (3.9.1)\n",
            "Requirement already satisfied: sympy in /usr/local/lib/python3.10/dist-packages (from measurement<4.0,>=3.2.0->myfitnesspal<3.0.0,>=2.0.1->wearipedia==0.1.2) (1.12)\n",
            "Requirement already satisfied: charset-normalizer<4,>=2 in /usr/local/lib/python3.10/dist-packages (from requests->garminconnect<0.2.0,>=0.1.48->wearipedia==0.1.2) (3.3.2)\n",
            "Requirement already satisfied: idna<4,>=2.5 in /usr/local/lib/python3.10/dist-packages (from requests->garminconnect<0.2.0,>=0.1.48->wearipedia==0.1.2) (3.6)\n",
            "Requirement already satisfied: urllib3<3,>=1.21.1 in /usr/local/lib/python3.10/dist-packages (from requests->garminconnect<0.2.0,>=0.1.48->wearipedia==0.1.2) (2.0.7)\n",
            "Requirement already satisfied: certifi>=2017.4.17 in /usr/local/lib/python3.10/dist-packages (from requests->garminconnect<0.2.0,>=0.1.48->wearipedia==0.1.2) (2023.11.17)\n",
            "Requirement already satisfied: anyio<5,>=3.4.0 in /usr/local/lib/python3.10/dist-packages (from starlette<0.28.0,>=0.27.0->fastapi==0.101->wearipedia==0.1.2) (3.7.1)\n",
            "Requirement already satisfied: entrypoints in /usr/local/lib/python3.10/dist-packages (from altair->lida<0.0.12,>=0.0.11->wearipedia==0.1.2) (0.4)\n",
            "Requirement already satisfied: jinja2 in /usr/local/lib/python3.10/dist-packages (from altair->lida<0.0.12,>=0.0.11->wearipedia==0.1.2) (3.1.3)\n",
            "Requirement already satisfied: jsonschema>=3.0 in /usr/local/lib/python3.10/dist-packages (from altair->lida<0.0.12,>=0.0.11->wearipedia==0.1.2) (4.19.2)\n",
            "Requirement already satisfied: toolz in /usr/local/lib/python3.10/dist-packages (from altair->lida<0.0.12,>=0.0.11->wearipedia==0.1.2) (0.12.0)\n",
            "Requirement already satisfied: fiona>=1.8.19 in /usr/local/lib/python3.10/dist-packages (from geopandas->lida<0.0.12,>=0.0.11->wearipedia==0.1.2) (1.9.5)\n",
            "Requirement already satisfied: packaging in /usr/local/lib/python3.10/dist-packages (from geopandas->lida<0.0.12,>=0.0.11->wearipedia==0.1.2) (23.2)\n",
            "Requirement already satisfied: pyproj>=3.0.1 in /usr/local/lib/python3.10/dist-packages (from geopandas->lida<0.0.12,>=0.0.11->wearipedia==0.1.2) (3.6.1)\n",
            "Requirement already satisfied: shapely>=1.7.1 in /usr/local/lib/python3.10/dist-packages (from geopandas->lida<0.0.12,>=0.0.11->wearipedia==0.1.2) (2.0.2)\n",
            "Requirement already satisfied: ipython-genutils in /usr/local/lib/python3.10/dist-packages (from ipykernel->jupyter<2.0.0,>=1.0.0->wearipedia==0.1.2) (0.2.0)\n",
            "Requirement already satisfied: ipython>=5.0.0 in /usr/local/lib/python3.10/dist-packages (from ipykernel->jupyter<2.0.0,>=1.0.0->wearipedia==0.1.2) (7.34.0)\n",
            "Requirement already satisfied: traitlets>=4.1.0 in /usr/local/lib/python3.10/dist-packages (from ipykernel->jupyter<2.0.0,>=1.0.0->wearipedia==0.1.2) (5.7.1)\n",
            "Requirement already satisfied: jupyter-client in /usr/local/lib/python3.10/dist-packages (from ipykernel->jupyter<2.0.0,>=1.0.0->wearipedia==0.1.2) (6.1.12)\n",
            "Requirement already satisfied: tornado>=4.2 in /usr/local/lib/python3.10/dist-packages (from ipykernel->jupyter<2.0.0,>=1.0.0->wearipedia==0.1.2) (6.3.2)\n",
            "Requirement already satisfied: widgetsnbextension~=3.6.0 in /usr/local/lib/python3.10/dist-packages (from ipywidgets->jupyter<2.0.0,>=1.0.0->wearipedia==0.1.2) (3.6.6)\n",
            "Requirement already satisfied: jupyterlab-widgets>=1.0.0 in /usr/local/lib/python3.10/dist-packages (from ipywidgets->jupyter<2.0.0,>=1.0.0->wearipedia==0.1.2) (3.0.9)\n",
            "Requirement already satisfied: prompt-toolkit!=3.0.0,!=3.0.1,<3.1.0,>=2.0.0 in /usr/local/lib/python3.10/dist-packages (from jupyter-console->jupyter<2.0.0,>=1.0.0->wearipedia==0.1.2) (3.0.43)\n",
            "Requirement already satisfied: contourpy>=1.0.1 in /usr/local/lib/python3.10/dist-packages (from matplotlib->lida<0.0.12,>=0.0.11->wearipedia==0.1.2) (1.2.0)\n",
            "Requirement already satisfied: cycler>=0.10 in /usr/local/lib/python3.10/dist-packages (from matplotlib->lida<0.0.12,>=0.0.11->wearipedia==0.1.2) (0.12.1)\n",
            "Requirement already satisfied: fonttools>=4.22.0 in /usr/local/lib/python3.10/dist-packages (from matplotlib->lida<0.0.12,>=0.0.11->wearipedia==0.1.2) (4.47.2)\n",
            "Requirement already satisfied: kiwisolver>=1.0.1 in /usr/local/lib/python3.10/dist-packages (from matplotlib->lida<0.0.12,>=0.0.11->wearipedia==0.1.2) (1.4.5)\n",
            "Requirement already satisfied: pillow>=6.2.0 in /usr/local/lib/python3.10/dist-packages (from matplotlib->lida<0.0.12,>=0.0.11->wearipedia==0.1.2) (9.4.0)\n",
            "Requirement already satisfied: bleach in /usr/local/lib/python3.10/dist-packages (from nbconvert->jupyter<2.0.0,>=1.0.0->wearipedia==0.1.2) (6.1.0)\n",
            "Requirement already satisfied: defusedxml in /usr/local/lib/python3.10/dist-packages (from nbconvert->jupyter<2.0.0,>=1.0.0->wearipedia==0.1.2) (0.7.1)\n",
            "Requirement already satisfied: jupyter-core>=4.7 in /usr/local/lib/python3.10/dist-packages (from nbconvert->jupyter<2.0.0,>=1.0.0->wearipedia==0.1.2) (5.7.1)\n",
            "Requirement already satisfied: jupyterlab-pygments in /usr/local/lib/python3.10/dist-packages (from nbconvert->jupyter<2.0.0,>=1.0.0->wearipedia==0.1.2) (0.3.0)\n",
            "Requirement already satisfied: MarkupSafe>=2.0 in /usr/local/lib/python3.10/dist-packages (from nbconvert->jupyter<2.0.0,>=1.0.0->wearipedia==0.1.2) (2.1.3)\n",
            "Requirement already satisfied: mistune<2,>=0.8.1 in /usr/local/lib/python3.10/dist-packages (from nbconvert->jupyter<2.0.0,>=1.0.0->wearipedia==0.1.2) (0.8.4)\n",
            "Requirement already satisfied: nbclient>=0.5.0 in /usr/local/lib/python3.10/dist-packages (from nbconvert->jupyter<2.0.0,>=1.0.0->wearipedia==0.1.2) (0.9.0)\n",
            "Requirement already satisfied: nbformat>=5.1 in /usr/local/lib/python3.10/dist-packages (from nbconvert->jupyter<2.0.0,>=1.0.0->wearipedia==0.1.2) (5.9.2)\n",
            "Requirement already satisfied: pandocfilters>=1.4.1 in /usr/local/lib/python3.10/dist-packages (from nbconvert->jupyter<2.0.0,>=1.0.0->wearipedia==0.1.2) (1.5.0)\n",
            "Requirement already satisfied: tinycss2 in /usr/local/lib/python3.10/dist-packages (from nbconvert->jupyter<2.0.0,>=1.0.0->wearipedia==0.1.2) (1.2.1)\n",
            "Requirement already satisfied: pyzmq<25,>=17 in /usr/local/lib/python3.10/dist-packages (from notebook->jupyter<2.0.0,>=1.0.0->wearipedia==0.1.2) (23.2.1)\n",
            "Requirement already satisfied: argon2-cffi in /usr/local/lib/python3.10/dist-packages (from notebook->jupyter<2.0.0,>=1.0.0->wearipedia==0.1.2) (23.1.0)\n",
            "Requirement already satisfied: nest-asyncio>=1.5 in /usr/local/lib/python3.10/dist-packages (from notebook->jupyter<2.0.0,>=1.0.0->wearipedia==0.1.2) (1.5.9)\n",
            "Requirement already satisfied: Send2Trash>=1.8.0 in /usr/local/lib/python3.10/dist-packages (from notebook->jupyter<2.0.0,>=1.0.0->wearipedia==0.1.2) (1.8.2)\n",
            "Requirement already satisfied: terminado>=0.8.3 in /usr/local/lib/python3.10/dist-packages (from notebook->jupyter<2.0.0,>=1.0.0->wearipedia==0.1.2) (0.18.0)\n",
            "Requirement already satisfied: prometheus-client in /usr/local/lib/python3.10/dist-packages (from notebook->jupyter<2.0.0,>=1.0.0->wearipedia==0.1.2) (0.19.0)\n",
            "Requirement already satisfied: nbclassic>=0.4.7 in /usr/local/lib/python3.10/dist-packages (from notebook->jupyter<2.0.0,>=1.0.0->wearipedia==0.1.2) (1.0.0)\n",
            "Requirement already satisfied: tenacity>=6.2.0 in /usr/local/lib/python3.10/dist-packages (from plotly->lida<0.0.12,>=0.0.11->wearipedia==0.1.2) (8.2.3)\n",
            "Requirement already satisfied: mizani<0.10.0,>0.9.0 in /usr/local/lib/python3.10/dist-packages (from plotnine->lida<0.0.12,>=0.0.11->wearipedia==0.1.2) (0.9.3)\n",
            "Requirement already satisfied: patsy>=0.5.1 in /usr/local/lib/python3.10/dist-packages (from plotnine->lida<0.0.12,>=0.0.11->wearipedia==0.1.2) (0.5.6)\n",
            "Collecting qtpy>=2.4.0 (from qtconsole->jupyter<2.0.0,>=1.0.0->wearipedia==0.1.2)\n",
            "  Downloading QtPy-2.4.1-py3-none-any.whl (93 kB)\n",
            "\u001b[2K     \u001b[90m━━━━━━━━━━━━━━━━━━━━━━━━━━━━━━━━━━━━━━━━\u001b[0m \u001b[32m93.5/93.5 kB\u001b[0m \u001b[31m10.8 MB/s\u001b[0m eta \u001b[36m0:00:00\u001b[0m\n",
            "\u001b[?25hCollecting h11>=0.8 (from uvicorn->lida<0.0.12,>=0.0.11->wearipedia==0.1.2)\n",
            "  Downloading h11-0.14.0-py3-none-any.whl (58 kB)\n",
            "\u001b[2K     \u001b[90m━━━━━━━━━━━━━━━━━━━━━━━━━━━━━━━━━━━━━━━━\u001b[0m \u001b[32m58.3/58.3 kB\u001b[0m \u001b[31m6.7 MB/s\u001b[0m eta \u001b[36m0:00:00\u001b[0m\n",
            "\u001b[?25hRequirement already satisfied: sniffio>=1.1 in /usr/local/lib/python3.10/dist-packages (from anyio<5,>=3.4.0->starlette<0.28.0,>=0.27.0->fastapi==0.101->wearipedia==0.1.2) (1.3.0)\n",
            "Requirement already satisfied: exceptiongroup in /usr/local/lib/python3.10/dist-packages (from anyio<5,>=3.4.0->starlette<0.28.0,>=0.27.0->fastapi==0.101->wearipedia==0.1.2) (1.2.0)\n",
            "Requirement already satisfied: attrs>=19.2.0 in /usr/local/lib/python3.10/dist-packages (from fiona>=1.8.19->geopandas->lida<0.0.12,>=0.0.11->wearipedia==0.1.2) (23.2.0)\n",
            "Requirement already satisfied: click-plugins>=1.0 in /usr/local/lib/python3.10/dist-packages (from fiona>=1.8.19->geopandas->lida<0.0.12,>=0.0.11->wearipedia==0.1.2) (1.1.1)\n",
            "Requirement already satisfied: cligj>=0.5 in /usr/local/lib/python3.10/dist-packages (from fiona>=1.8.19->geopandas->lida<0.0.12,>=0.0.11->wearipedia==0.1.2) (0.7.2)\n",
            "Requirement already satisfied: setuptools in /usr/local/lib/python3.10/dist-packages (from fiona>=1.8.19->geopandas->lida<0.0.12,>=0.0.11->wearipedia==0.1.2) (67.7.2)\n",
            "Collecting jedi>=0.16 (from ipython>=5.0.0->ipykernel->jupyter<2.0.0,>=1.0.0->wearipedia==0.1.2)\n",
            "  Downloading jedi-0.19.1-py2.py3-none-any.whl (1.6 MB)\n",
            "\u001b[2K     \u001b[90m━━━━━━━━━━━━━━━━━━━━━━━━━━━━━━━━━━━━━━━━\u001b[0m \u001b[32m1.6/1.6 MB\u001b[0m \u001b[31m59.1 MB/s\u001b[0m eta \u001b[36m0:00:00\u001b[0m\n",
            "\u001b[?25hRequirement already satisfied: decorator in /usr/local/lib/python3.10/dist-packages (from ipython>=5.0.0->ipykernel->jupyter<2.0.0,>=1.0.0->wearipedia==0.1.2) (4.4.2)\n",
            "Requirement already satisfied: pickleshare in /usr/local/lib/python3.10/dist-packages (from ipython>=5.0.0->ipykernel->jupyter<2.0.0,>=1.0.0->wearipedia==0.1.2) (0.7.5)\n",
            "Requirement already satisfied: backcall in /usr/local/lib/python3.10/dist-packages (from ipython>=5.0.0->ipykernel->jupyter<2.0.0,>=1.0.0->wearipedia==0.1.2) (0.2.0)\n",
            "Requirement already satisfied: matplotlib-inline in /usr/local/lib/python3.10/dist-packages (from ipython>=5.0.0->ipykernel->jupyter<2.0.0,>=1.0.0->wearipedia==0.1.2) (0.1.6)\n",
            "Requirement already satisfied: pexpect>4.3 in /usr/local/lib/python3.10/dist-packages (from ipython>=5.0.0->ipykernel->jupyter<2.0.0,>=1.0.0->wearipedia==0.1.2) (4.9.0)\n",
            "Requirement already satisfied: jsonschema-specifications>=2023.03.6 in /usr/local/lib/python3.10/dist-packages (from jsonschema>=3.0->altair->lida<0.0.12,>=0.0.11->wearipedia==0.1.2) (2023.12.1)\n",
            "Requirement already satisfied: referencing>=0.28.4 in /usr/local/lib/python3.10/dist-packages (from jsonschema>=3.0->altair->lida<0.0.12,>=0.0.11->wearipedia==0.1.2) (0.32.1)\n",
            "Requirement already satisfied: rpds-py>=0.7.1 in /usr/local/lib/python3.10/dist-packages (from jsonschema>=3.0->altair->lida<0.0.12,>=0.0.11->wearipedia==0.1.2) (0.17.1)\n",
            "Requirement already satisfied: platformdirs>=2.5 in /usr/local/lib/python3.10/dist-packages (from jupyter-core>=4.7->nbconvert->jupyter<2.0.0,>=1.0.0->wearipedia==0.1.2) (4.1.0)\n",
            "Requirement already satisfied: jupyter-server>=1.8 in /usr/local/lib/python3.10/dist-packages (from nbclassic>=0.4.7->notebook->jupyter<2.0.0,>=1.0.0->wearipedia==0.1.2) (1.24.0)\n",
            "Requirement already satisfied: notebook-shim>=0.2.3 in /usr/local/lib/python3.10/dist-packages (from nbclassic>=0.4.7->notebook->jupyter<2.0.0,>=1.0.0->wearipedia==0.1.2) (0.2.3)\n",
            "Requirement already satisfied: fastjsonschema in /usr/local/lib/python3.10/dist-packages (from nbformat>=5.1->nbconvert->jupyter<2.0.0,>=1.0.0->wearipedia==0.1.2) (2.19.1)\n",
            "Requirement already satisfied: ptyprocess in /usr/local/lib/python3.10/dist-packages (from terminado>=0.8.3->notebook->jupyter<2.0.0,>=1.0.0->wearipedia==0.1.2) (0.7.0)\n",
            "Requirement already satisfied: argon2-cffi-bindings in /usr/local/lib/python3.10/dist-packages (from argon2-cffi->notebook->jupyter<2.0.0,>=1.0.0->wearipedia==0.1.2) (21.2.0)\n",
            "Requirement already satisfied: webencodings in /usr/local/lib/python3.10/dist-packages (from bleach->nbconvert->jupyter<2.0.0,>=1.0.0->wearipedia==0.1.2) (0.5.1)\n",
            "Collecting backoff<3.0,>=2.0 (from cohere->llmx>=0.0.18a->lida<0.0.12,>=0.0.11->wearipedia==0.1.2)\n",
            "  Downloading backoff-2.2.1-py3-none-any.whl (15 kB)\n",
            "Collecting fastavro<2.0,>=1.8 (from cohere->llmx>=0.0.18a->lida<0.0.12,>=0.0.11->wearipedia==0.1.2)\n",
            "  Downloading fastavro-1.9.3-cp310-cp310-manylinux_2_17_x86_64.manylinux2014_x86_64.whl (3.1 MB)\n",
            "\u001b[2K     \u001b[90m━━━━━━━━━━━━━━━━━━━━━━━━━━━━━━━━━━━━━━━━\u001b[0m \u001b[32m3.1/3.1 MB\u001b[0m \u001b[31m68.2 MB/s\u001b[0m eta \u001b[36m0:00:00\u001b[0m\n",
            "\u001b[?25hCollecting importlib_metadata<7.0,>=6.0 (from cohere->llmx>=0.0.18a->lida<0.0.12,>=0.0.11->wearipedia==0.1.2)\n",
            "  Downloading importlib_metadata-6.11.0-py3-none-any.whl (23 kB)\n",
            "Requirement already satisfied: cachetools<6.0,>=2.0.0 in /usr/local/lib/python3.10/dist-packages (from google.auth->llmx>=0.0.18a->lida<0.0.12,>=0.0.11->wearipedia==0.1.2) (5.3.2)\n",
            "Requirement already satisfied: pyasn1-modules>=0.2.1 in /usr/local/lib/python3.10/dist-packages (from google.auth->llmx>=0.0.18a->lida<0.0.12,>=0.0.11->wearipedia==0.1.2) (0.3.0)\n",
            "Requirement already satisfied: rsa<5,>=3.1.4 in /usr/local/lib/python3.10/dist-packages (from google.auth->llmx>=0.0.18a->lida<0.0.12,>=0.0.11->wearipedia==0.1.2) (4.9)\n",
            "Requirement already satisfied: mpmath>=0.19 in /usr/local/lib/python3.10/dist-packages (from sympy->measurement<4.0,>=3.2.0->myfitnesspal<3.0.0,>=2.0.1->wearipedia==0.1.2) (1.3.0)\n",
            "Requirement already satisfied: regex>=2022.1.18 in /usr/local/lib/python3.10/dist-packages (from tiktoken->llmx>=0.0.18a->lida<0.0.12,>=0.0.11->wearipedia==0.1.2) (2023.6.3)\n",
            "Requirement already satisfied: multidict<7.0,>=4.5 in /usr/local/lib/python3.10/dist-packages (from aiohttp->openai==0.28.1->llmx>=0.0.18a->lida<0.0.12,>=0.0.11->wearipedia==0.1.2) (6.0.4)\n",
            "Requirement already satisfied: yarl<2.0,>=1.0 in /usr/local/lib/python3.10/dist-packages (from aiohttp->openai==0.28.1->llmx>=0.0.18a->lida<0.0.12,>=0.0.11->wearipedia==0.1.2) (1.9.4)\n",
            "Requirement already satisfied: frozenlist>=1.1.1 in /usr/local/lib/python3.10/dist-packages (from aiohttp->openai==0.28.1->llmx>=0.0.18a->lida<0.0.12,>=0.0.11->wearipedia==0.1.2) (1.4.1)\n",
            "Requirement already satisfied: aiosignal>=1.1.2 in /usr/local/lib/python3.10/dist-packages (from aiohttp->openai==0.28.1->llmx>=0.0.18a->lida<0.0.12,>=0.0.11->wearipedia==0.1.2) (1.3.1)\n",
            "Requirement already satisfied: async-timeout<5.0,>=4.0 in /usr/local/lib/python3.10/dist-packages (from aiohttp->openai==0.28.1->llmx>=0.0.18a->lida<0.0.12,>=0.0.11->wearipedia==0.1.2) (4.0.3)\n",
            "Requirement already satisfied: zipp>=0.5 in /usr/local/lib/python3.10/dist-packages (from importlib_metadata<7.0,>=6.0->cohere->llmx>=0.0.18a->lida<0.0.12,>=0.0.11->wearipedia==0.1.2) (3.17.0)\n",
            "Requirement already satisfied: parso<0.9.0,>=0.8.3 in /usr/local/lib/python3.10/dist-packages (from jedi>=0.16->ipython>=5.0.0->ipykernel->jupyter<2.0.0,>=1.0.0->wearipedia==0.1.2) (0.8.3)\n",
            "Requirement already satisfied: websocket-client in /usr/local/lib/python3.10/dist-packages (from jupyter-server>=1.8->nbclassic>=0.4.7->notebook->jupyter<2.0.0,>=1.0.0->wearipedia==0.1.2) (1.7.0)\n",
            "Requirement already satisfied: pyasn1<0.6.0,>=0.4.6 in /usr/local/lib/python3.10/dist-packages (from pyasn1-modules>=0.2.1->google.auth->llmx>=0.0.18a->lida<0.0.12,>=0.0.11->wearipedia==0.1.2) (0.5.1)\n",
            "Requirement already satisfied: cffi>=1.0.1 in /usr/local/lib/python3.10/dist-packages (from argon2-cffi-bindings->argon2-cffi->notebook->jupyter<2.0.0,>=1.0.0->wearipedia==0.1.2) (1.16.0)\n",
            "Requirement already satisfied: pycparser in /usr/local/lib/python3.10/dist-packages (from cffi>=1.0.1->argon2-cffi-bindings->argon2-cffi->notebook->jupyter<2.0.0,>=1.0.0->wearipedia==0.1.2) (2.21)\n",
            "Building wheels for collected packages: wearipedia, garminconnect, wget\n",
            "  Building wheel for wearipedia (pyproject.toml) ... \u001b[?25l\u001b[?25hdone\n",
            "  Created wheel for wearipedia: filename=wearipedia-0.1.2-py3-none-any.whl size=134005 sha256=aaf078be75d724b60ca44f14c4554656297f76107debdfc644374d7ffdf86af4\n",
            "  Stored in directory: /tmp/pip-ephem-wheel-cache-j9v77axe/wheels/20/67/3d/f75669d8bf213a9a127fb0632a4a4715f6624f81f830023036\n",
            "  Building wheel for garminconnect (setup.py) ... \u001b[?25l\u001b[?25hdone\n",
            "  Created wheel for garminconnect: filename=garminconnect-0.1.55-py3-none-any.whl size=13621 sha256=871004f89cfab880fb229a2435ae91ac570f17e1212be484aad8fcb71e7775f1\n",
            "  Stored in directory: /root/.cache/pip/wheels/8b/dc/11/9aa5c8473be40bed2c4032fded0fa7da63ff844b439681afcb\n",
            "  Building wheel for wget (setup.py) ... \u001b[?25l\u001b[?25hdone\n",
            "  Created wheel for wget: filename=wget-3.2-py3-none-any.whl size=9655 sha256=68d89f9d1ba710ff4a04934927d942c2c11a197176d6bc7382f4241c842b6deb\n",
            "  Stored in directory: /root/.cache/pip/wheels/8b/f1/7f/5c94f0a7a505ca1c81cd1d9208ae2064675d97582078e6c769\n",
            "Successfully built wearipedia garminconnect wget\n",
            "Installing collected packages: wget, kaleido, commonmark, typer, shellingham, rich, qtpy, python-multipart, pycryptodomex, polyline, lz4, jedi, importlib_metadata, h11, fbm, fastavro, colorama, blessed, beautifulsoup4, backoff, uvicorn, tiktoken, starlette, requests-toolbelt, measurement, browser-cookie3, openai, fastapi, cohere, cloudscraper, qtconsole, myfitnesspal, llmx, garminconnect, lida, jupyter, wearipedia\n",
            "  Attempting uninstall: typer\n",
            "    Found existing installation: typer 0.9.0\n",
            "    Uninstalling typer-0.9.0:\n",
            "      Successfully uninstalled typer-0.9.0\n",
            "  Attempting uninstall: rich\n",
            "    Found existing installation: rich 13.7.0\n",
            "    Uninstalling rich-13.7.0:\n",
            "      Successfully uninstalled rich-13.7.0\n",
            "  Attempting uninstall: importlib_metadata\n",
            "    Found existing installation: importlib-metadata 7.0.1\n",
            "    Uninstalling importlib-metadata-7.0.1:\n",
            "      Successfully uninstalled importlib-metadata-7.0.1\n",
            "  Attempting uninstall: beautifulsoup4\n",
            "    Found existing installation: beautifulsoup4 4.11.2\n",
            "    Uninstalling beautifulsoup4-4.11.2:\n",
            "      Successfully uninstalled beautifulsoup4-4.11.2\n",
            "  Attempting uninstall: llmx\n",
            "    Found existing installation: llmx 0.0.15a0\n",
            "    Uninstalling llmx-0.0.15a0:\n",
            "      Successfully uninstalled llmx-0.0.15a0\n",
            "  Attempting uninstall: lida\n",
            "    Found existing installation: lida 0.0.10\n",
            "    Uninstalling lida-0.0.10:\n",
            "      Successfully uninstalled lida-0.0.10\n",
            "Successfully installed backoff-2.2.1 beautifulsoup4-4.12.3 blessed-1.20.0 browser-cookie3-0.19.1 cloudscraper-1.2.71 cohere-4.44 colorama-0.4.6 commonmark-0.9.1 fastapi-0.101.0 fastavro-1.9.3 fbm-0.3.0 garminconnect-0.1.55 h11-0.14.0 importlib_metadata-6.11.0 jedi-0.19.1 jupyter-1.0.0 kaleido-0.2.1 lida-0.0.11 llmx-0.0.18a0 lz4-4.3.3 measurement-3.2.2 myfitnesspal-2.1.0 openai-0.28.1 polyline-2.0.1 pycryptodomex-3.20.0 python-multipart-0.0.6 qtconsole-5.5.1 qtpy-2.4.1 requests-toolbelt-1.0.0 rich-12.6.0 shellingham-1.5.4 starlette-0.27.0 tiktoken-0.5.2 typer-0.6.1 uvicorn-0.27.0 wearipedia-0.1.2 wget-3.2\n"
          ]
        }
      ]
    },
    {
      "cell_type": "markdown",
      "source": [
        "# 2. Authentication/Authorization\n",
        "\n",
        "To obtain access to data, authorization is required. All you'll need to do here is just put in your email and password for your nutrisense account. We'll use this username and password to extract the data in the sections below."
      ],
      "metadata": {
        "id": "MYztPubjgX_f"
      }
    },
    {
      "cell_type": "code",
      "source": [
        "#@title Enter Nutrisense login credentials\n",
        "email_address = \"foo@stanford.edu\" #@param {type:\"string\"}\n",
        "password = \"foo\" #@param {type:\"string\"}"
      ],
      "metadata": {
        "id": "hAbsFbuZhBiP"
      },
      "execution_count": 2,
      "outputs": []
    },
    {
      "cell_type": "markdown",
      "source": [
        "# 3. Data Extraction\n",
        "\n",
        "Data can be extracted via [wearipedia](https://github.com/Stanford-Health/wearipedia/), our open-source Python package that unifies dozens of complex wearable device APIs into one simple, common interface.\n",
        "\n",
        "First, we'll set a date range and then extract all of the data within that date range. You can select whether you would like synthetic data or not with the checkbox."
      ],
      "metadata": {
        "id": "6iHF2-kagcQc"
      }
    },
    {
      "cell_type": "code",
      "source": [
        "#@title Enter start and end dates (in the format yyyy-mm-dd)\n",
        "\n",
        "#set start and end dates - this will give you all the data from 2000-01-01 (January 1st, 2000) to 2100-02-03 (February 3rd, 2100), for example\n",
        "start_date='2022-03-01' #@param {type:\"string\"}\n",
        "end_date='2023-03-12' #@param {type:\"string\"}\n",
        "synthetic = True #@param {type:\"boolean\"}"
      ],
      "metadata": {
        "id": "puUo4f7bhYk8"
      },
      "execution_count": 3,
      "outputs": []
    },
    {
      "cell_type": "code",
      "source": [
        "import wearipedia\n",
        "\n",
        "device = wearipedia.get_device(\"nutrisense/cgm\")\n",
        "\n",
        "if not synthetic:\n",
        "    device.authenticate({\"email\": email_address, \"password\": password})\n",
        "\n",
        "params = {\"start_date\": start_date, \"end_date\": end_date}\n",
        "\n",
        "continuous = device.get_data(\"continuous\", params=params)\n",
        "statistics = device.get_data(\"statistics\", params=params)\n",
        "scoremain = device.get_data(\"scores\", params=params)\n",
        "summary = device.get_data(\"summary\", params=params)"
      ],
      "metadata": {
        "id": "-3yf-G4CPyZ6",
        "colab": {
          "base_uri": "https://localhost:8080/"
        },
        "outputId": "ec6ac328-864f-43c0-d5b9-1ac4e1689dcd"
      },
      "execution_count": 4,
      "outputs": [
        {
          "output_type": "stream",
          "name": "stderr",
          "text": [
            "100%|██████████| 109/109 [00:00<00:00, 30234.72it/s]\n",
            "100%|██████████| 109/109 [00:00<00:00, 24608.63it/s]\n"
          ]
        }
      ]
    },
    {
      "cell_type": "code",
      "source": [
        "print(continuous[1])"
      ],
      "metadata": {
        "colab": {
          "base_uri": "https://localhost:8080/"
        },
        "id": "xVaQQaNogz4L",
        "outputId": "d70c485a-4ccc-4f0b-9a56-e10664e719ba"
      },
      "execution_count": 5,
      "outputs": [
        {
          "output_type": "stream",
          "name": "stdout",
          "text": [
            "{'x': '2022-03-01T00:30:00-08:00', 'y': 144.57506506003088, 'interpolated': False, '__typename': 'TimePair'}\n"
          ]
        }
      ]
    },
    {
      "cell_type": "markdown",
      "source": [
        "# 4. Data Exporting"
      ],
      "metadata": {
        "id": "TyC9aya7gd2f"
      }
    },
    {
      "cell_type": "markdown",
      "source": [
        "In this section, we export all of this data to formats compatible with popular scientific computing software (R, Excel, Google Sheets, Matlab). Specifically, we will first export to JSON, which can be read by R and Matlab. Then, we will export to CSV, which can be consumed by Excel, Google Sheets, and every other popular programming language.\n",
        "\n",
        "## Exporting to JSON (R, Matlab, etc.)\n",
        "\n",
        "Exporting to JSON is fairly simple. We export each datatype separately and also export a complete version that includes all simultaneously."
      ],
      "metadata": {
        "id": "qOkOh_7y-4tk"
      }
    },
    {
      "cell_type": "code",
      "source": [
        "import json\n",
        "\n",
        "json.dump(continuous, open(\"continuous.json\", \"w\"))\n",
        "json.dump(statistics, open(\"statistics.json\", \"w\"))\n",
        "json.dump(scoremain, open(\"scores.json\", \"w\"))\n",
        "json.dump(summary, open(\"summary.json\", \"w\"))\n",
        "\n",
        "complete = {\n",
        "    \"continuous\": continuous,\n",
        "    \"statistics\": statistics,\n",
        "    \"scores\": scoremain,\n",
        "    \"summary\": summary\n",
        "}\n",
        "\n",
        "json.dump(complete, open(\"complete.json\", \"w\"))"
      ],
      "metadata": {
        "id": "F-YvOQ9b_ASD"
      },
      "execution_count": 6,
      "outputs": []
    },
    {
      "cell_type": "markdown",
      "source": [
        "Feel free to open the file viewer (see left pane) to look at the outputs!\n",
        "\n",
        "## Exporting to CSV and XLSX (Excel, Google Sheets, R, Matlab, etc.)\n",
        "\n",
        "Exporting to CSV/XLSX requires a bit more processing, since they enforce a pretty restrictive schema.\n",
        "\n",
        "Here we will put the continuous glucose data into a dataframe."
      ],
      "metadata": {
        "id": "PfJ-NuNl_Avl"
      }
    },
    {
      "cell_type": "code",
      "source": [
        "import pandas as pd\n",
        "import copy\n",
        "\n",
        "# glucose scores dataframe\n",
        "data = []\n",
        "for elem in continuous:\n",
        "  t = pd.DataFrame({'time': [elem['x']], 'level': [elem['y']], 'interpolated': [elem['interpolated']]})\n",
        "  data.append(copy.deepcopy(t))\n",
        "\n",
        "data = pd.concat(data)\n",
        "\n",
        "display(data)"
      ],
      "metadata": {
        "colab": {
          "base_uri": "https://localhost:8080/",
          "height": 424
        },
        "id": "nTHM-QzTAFRd",
        "outputId": "954c1c3c-cac2-4e14-bced-a7da81efd8ae"
      },
      "execution_count": 7,
      "outputs": [
        {
          "output_type": "display_data",
          "data": {
            "text/plain": [
              "                         time       level  interpolated\n",
              "0   2022-03-01T00:15:00-08:00  122.153035         False\n",
              "0   2022-03-01T00:30:00-08:00  144.575065         False\n",
              "0   2022-03-01T00:45:00-08:00  135.063114          True\n",
              "0   2022-03-01T01:00:00-08:00  133.561388         False\n",
              "0   2022-03-01T01:15:00-08:00  132.108973         False\n",
              "..                        ...         ...           ...\n",
              "0   2022-06-17T22:45:00-08:00  135.643399         False\n",
              "0   2022-06-17T23:00:00-08:00  133.796981         False\n",
              "0   2022-06-17T23:15:00-08:00  122.887501         False\n",
              "0   2022-06-17T23:30:00-08:00  107.835660         False\n",
              "0   2022-06-17T23:45:00-08:00  102.928913          True\n",
              "\n",
              "[10463 rows x 3 columns]"
            ],
            "text/html": [
              "\n",
              "  <div id=\"df-f27fa2ac-e1b0-4082-a690-cb6c5f56dce6\" class=\"colab-df-container\">\n",
              "    <div>\n",
              "<style scoped>\n",
              "    .dataframe tbody tr th:only-of-type {\n",
              "        vertical-align: middle;\n",
              "    }\n",
              "\n",
              "    .dataframe tbody tr th {\n",
              "        vertical-align: top;\n",
              "    }\n",
              "\n",
              "    .dataframe thead th {\n",
              "        text-align: right;\n",
              "    }\n",
              "</style>\n",
              "<table border=\"1\" class=\"dataframe\">\n",
              "  <thead>\n",
              "    <tr style=\"text-align: right;\">\n",
              "      <th></th>\n",
              "      <th>time</th>\n",
              "      <th>level</th>\n",
              "      <th>interpolated</th>\n",
              "    </tr>\n",
              "  </thead>\n",
              "  <tbody>\n",
              "    <tr>\n",
              "      <th>0</th>\n",
              "      <td>2022-03-01T00:15:00-08:00</td>\n",
              "      <td>122.153035</td>\n",
              "      <td>False</td>\n",
              "    </tr>\n",
              "    <tr>\n",
              "      <th>0</th>\n",
              "      <td>2022-03-01T00:30:00-08:00</td>\n",
              "      <td>144.575065</td>\n",
              "      <td>False</td>\n",
              "    </tr>\n",
              "    <tr>\n",
              "      <th>0</th>\n",
              "      <td>2022-03-01T00:45:00-08:00</td>\n",
              "      <td>135.063114</td>\n",
              "      <td>True</td>\n",
              "    </tr>\n",
              "    <tr>\n",
              "      <th>0</th>\n",
              "      <td>2022-03-01T01:00:00-08:00</td>\n",
              "      <td>133.561388</td>\n",
              "      <td>False</td>\n",
              "    </tr>\n",
              "    <tr>\n",
              "      <th>0</th>\n",
              "      <td>2022-03-01T01:15:00-08:00</td>\n",
              "      <td>132.108973</td>\n",
              "      <td>False</td>\n",
              "    </tr>\n",
              "    <tr>\n",
              "      <th>...</th>\n",
              "      <td>...</td>\n",
              "      <td>...</td>\n",
              "      <td>...</td>\n",
              "    </tr>\n",
              "    <tr>\n",
              "      <th>0</th>\n",
              "      <td>2022-06-17T22:45:00-08:00</td>\n",
              "      <td>135.643399</td>\n",
              "      <td>False</td>\n",
              "    </tr>\n",
              "    <tr>\n",
              "      <th>0</th>\n",
              "      <td>2022-06-17T23:00:00-08:00</td>\n",
              "      <td>133.796981</td>\n",
              "      <td>False</td>\n",
              "    </tr>\n",
              "    <tr>\n",
              "      <th>0</th>\n",
              "      <td>2022-06-17T23:15:00-08:00</td>\n",
              "      <td>122.887501</td>\n",
              "      <td>False</td>\n",
              "    </tr>\n",
              "    <tr>\n",
              "      <th>0</th>\n",
              "      <td>2022-06-17T23:30:00-08:00</td>\n",
              "      <td>107.835660</td>\n",
              "      <td>False</td>\n",
              "    </tr>\n",
              "    <tr>\n",
              "      <th>0</th>\n",
              "      <td>2022-06-17T23:45:00-08:00</td>\n",
              "      <td>102.928913</td>\n",
              "      <td>True</td>\n",
              "    </tr>\n",
              "  </tbody>\n",
              "</table>\n",
              "<p>10463 rows × 3 columns</p>\n",
              "</div>\n",
              "    <div class=\"colab-df-buttons\">\n",
              "\n",
              "  <div class=\"colab-df-container\">\n",
              "    <button class=\"colab-df-convert\" onclick=\"convertToInteractive('df-f27fa2ac-e1b0-4082-a690-cb6c5f56dce6')\"\n",
              "            title=\"Convert this dataframe to an interactive table.\"\n",
              "            style=\"display:none;\">\n",
              "\n",
              "  <svg xmlns=\"http://www.w3.org/2000/svg\" height=\"24px\" viewBox=\"0 -960 960 960\">\n",
              "    <path d=\"M120-120v-720h720v720H120Zm60-500h600v-160H180v160Zm220 220h160v-160H400v160Zm0 220h160v-160H400v160ZM180-400h160v-160H180v160Zm440 0h160v-160H620v160ZM180-180h160v-160H180v160Zm440 0h160v-160H620v160Z\"/>\n",
              "  </svg>\n",
              "    </button>\n",
              "\n",
              "  <style>\n",
              "    .colab-df-container {\n",
              "      display:flex;\n",
              "      gap: 12px;\n",
              "    }\n",
              "\n",
              "    .colab-df-convert {\n",
              "      background-color: #E8F0FE;\n",
              "      border: none;\n",
              "      border-radius: 50%;\n",
              "      cursor: pointer;\n",
              "      display: none;\n",
              "      fill: #1967D2;\n",
              "      height: 32px;\n",
              "      padding: 0 0 0 0;\n",
              "      width: 32px;\n",
              "    }\n",
              "\n",
              "    .colab-df-convert:hover {\n",
              "      background-color: #E2EBFA;\n",
              "      box-shadow: 0px 1px 2px rgba(60, 64, 67, 0.3), 0px 1px 3px 1px rgba(60, 64, 67, 0.15);\n",
              "      fill: #174EA6;\n",
              "    }\n",
              "\n",
              "    .colab-df-buttons div {\n",
              "      margin-bottom: 4px;\n",
              "    }\n",
              "\n",
              "    [theme=dark] .colab-df-convert {\n",
              "      background-color: #3B4455;\n",
              "      fill: #D2E3FC;\n",
              "    }\n",
              "\n",
              "    [theme=dark] .colab-df-convert:hover {\n",
              "      background-color: #434B5C;\n",
              "      box-shadow: 0px 1px 3px 1px rgba(0, 0, 0, 0.15);\n",
              "      filter: drop-shadow(0px 1px 2px rgba(0, 0, 0, 0.3));\n",
              "      fill: #FFFFFF;\n",
              "    }\n",
              "  </style>\n",
              "\n",
              "    <script>\n",
              "      const buttonEl =\n",
              "        document.querySelector('#df-f27fa2ac-e1b0-4082-a690-cb6c5f56dce6 button.colab-df-convert');\n",
              "      buttonEl.style.display =\n",
              "        google.colab.kernel.accessAllowed ? 'block' : 'none';\n",
              "\n",
              "      async function convertToInteractive(key) {\n",
              "        const element = document.querySelector('#df-f27fa2ac-e1b0-4082-a690-cb6c5f56dce6');\n",
              "        const dataTable =\n",
              "          await google.colab.kernel.invokeFunction('convertToInteractive',\n",
              "                                                    [key], {});\n",
              "        if (!dataTable) return;\n",
              "\n",
              "        const docLinkHtml = 'Like what you see? Visit the ' +\n",
              "          '<a target=\"_blank\" href=https://colab.research.google.com/notebooks/data_table.ipynb>data table notebook</a>'\n",
              "          + ' to learn more about interactive tables.';\n",
              "        element.innerHTML = '';\n",
              "        dataTable['output_type'] = 'display_data';\n",
              "        await google.colab.output.renderOutput(dataTable, element);\n",
              "        const docLink = document.createElement('div');\n",
              "        docLink.innerHTML = docLinkHtml;\n",
              "        element.appendChild(docLink);\n",
              "      }\n",
              "    </script>\n",
              "  </div>\n",
              "\n",
              "\n",
              "<div id=\"df-99869eec-d0bb-4e39-8af1-b56111084df9\">\n",
              "  <button class=\"colab-df-quickchart\" onclick=\"quickchart('df-99869eec-d0bb-4e39-8af1-b56111084df9')\"\n",
              "            title=\"Suggest charts\"\n",
              "            style=\"display:none;\">\n",
              "\n",
              "<svg xmlns=\"http://www.w3.org/2000/svg\" height=\"24px\"viewBox=\"0 0 24 24\"\n",
              "     width=\"24px\">\n",
              "    <g>\n",
              "        <path d=\"M19 3H5c-1.1 0-2 .9-2 2v14c0 1.1.9 2 2 2h14c1.1 0 2-.9 2-2V5c0-1.1-.9-2-2-2zM9 17H7v-7h2v7zm4 0h-2V7h2v10zm4 0h-2v-4h2v4z\"/>\n",
              "    </g>\n",
              "</svg>\n",
              "  </button>\n",
              "\n",
              "<style>\n",
              "  .colab-df-quickchart {\n",
              "      --bg-color: #E8F0FE;\n",
              "      --fill-color: #1967D2;\n",
              "      --hover-bg-color: #E2EBFA;\n",
              "      --hover-fill-color: #174EA6;\n",
              "      --disabled-fill-color: #AAA;\n",
              "      --disabled-bg-color: #DDD;\n",
              "  }\n",
              "\n",
              "  [theme=dark] .colab-df-quickchart {\n",
              "      --bg-color: #3B4455;\n",
              "      --fill-color: #D2E3FC;\n",
              "      --hover-bg-color: #434B5C;\n",
              "      --hover-fill-color: #FFFFFF;\n",
              "      --disabled-bg-color: #3B4455;\n",
              "      --disabled-fill-color: #666;\n",
              "  }\n",
              "\n",
              "  .colab-df-quickchart {\n",
              "    background-color: var(--bg-color);\n",
              "    border: none;\n",
              "    border-radius: 50%;\n",
              "    cursor: pointer;\n",
              "    display: none;\n",
              "    fill: var(--fill-color);\n",
              "    height: 32px;\n",
              "    padding: 0;\n",
              "    width: 32px;\n",
              "  }\n",
              "\n",
              "  .colab-df-quickchart:hover {\n",
              "    background-color: var(--hover-bg-color);\n",
              "    box-shadow: 0 1px 2px rgba(60, 64, 67, 0.3), 0 1px 3px 1px rgba(60, 64, 67, 0.15);\n",
              "    fill: var(--button-hover-fill-color);\n",
              "  }\n",
              "\n",
              "  .colab-df-quickchart-complete:disabled,\n",
              "  .colab-df-quickchart-complete:disabled:hover {\n",
              "    background-color: var(--disabled-bg-color);\n",
              "    fill: var(--disabled-fill-color);\n",
              "    box-shadow: none;\n",
              "  }\n",
              "\n",
              "  .colab-df-spinner {\n",
              "    border: 2px solid var(--fill-color);\n",
              "    border-color: transparent;\n",
              "    border-bottom-color: var(--fill-color);\n",
              "    animation:\n",
              "      spin 1s steps(1) infinite;\n",
              "  }\n",
              "\n",
              "  @keyframes spin {\n",
              "    0% {\n",
              "      border-color: transparent;\n",
              "      border-bottom-color: var(--fill-color);\n",
              "      border-left-color: var(--fill-color);\n",
              "    }\n",
              "    20% {\n",
              "      border-color: transparent;\n",
              "      border-left-color: var(--fill-color);\n",
              "      border-top-color: var(--fill-color);\n",
              "    }\n",
              "    30% {\n",
              "      border-color: transparent;\n",
              "      border-left-color: var(--fill-color);\n",
              "      border-top-color: var(--fill-color);\n",
              "      border-right-color: var(--fill-color);\n",
              "    }\n",
              "    40% {\n",
              "      border-color: transparent;\n",
              "      border-right-color: var(--fill-color);\n",
              "      border-top-color: var(--fill-color);\n",
              "    }\n",
              "    60% {\n",
              "      border-color: transparent;\n",
              "      border-right-color: var(--fill-color);\n",
              "    }\n",
              "    80% {\n",
              "      border-color: transparent;\n",
              "      border-right-color: var(--fill-color);\n",
              "      border-bottom-color: var(--fill-color);\n",
              "    }\n",
              "    90% {\n",
              "      border-color: transparent;\n",
              "      border-bottom-color: var(--fill-color);\n",
              "    }\n",
              "  }\n",
              "</style>\n",
              "\n",
              "  <script>\n",
              "    async function quickchart(key) {\n",
              "      const quickchartButtonEl =\n",
              "        document.querySelector('#' + key + ' button');\n",
              "      quickchartButtonEl.disabled = true;  // To prevent multiple clicks.\n",
              "      quickchartButtonEl.classList.add('colab-df-spinner');\n",
              "      try {\n",
              "        const charts = await google.colab.kernel.invokeFunction(\n",
              "            'suggestCharts', [key], {});\n",
              "      } catch (error) {\n",
              "        console.error('Error during call to suggestCharts:', error);\n",
              "      }\n",
              "      quickchartButtonEl.classList.remove('colab-df-spinner');\n",
              "      quickchartButtonEl.classList.add('colab-df-quickchart-complete');\n",
              "    }\n",
              "    (() => {\n",
              "      let quickchartButtonEl =\n",
              "        document.querySelector('#df-99869eec-d0bb-4e39-8af1-b56111084df9 button');\n",
              "      quickchartButtonEl.style.display =\n",
              "        google.colab.kernel.accessAllowed ? 'block' : 'none';\n",
              "    })();\n",
              "  </script>\n",
              "</div>\n",
              "    </div>\n",
              "  </div>\n"
            ]
          },
          "metadata": {}
        }
      ]
    },
    {
      "cell_type": "markdown",
      "source": [
        "# 5. Adherence\n",
        "\n",
        "Since the Nutrisense CGM only holds around 8 hours of data at a time, if the user forgets to sync their data to their phone on time, there'll likely be a gap with missing data. Take it from us, it happens more than you might think!\n",
        "\n",
        "In this section, we will simulate this non-adherence over different periods of time from the participant.\n",
        "\n",
        "Then, we will detect this non-adherence and give a Pandas DataFrame that concisely describes when the participant has had their device on and off throughout the entirety of the time period, allowing you to calculate how long they've had it on/off etc.\n",
        "\n",
        "We will first delete a certain % of blocks, with user input."
      ],
      "metadata": {
        "id": "59pl2tLwgg8b"
      }
    },
    {
      "cell_type": "code",
      "source": [
        "#@title Non-adherence simulation\n",
        "start_date='2022-03-01' #@param {type:\"string\"}\n",
        "days=1 #@param {type:\"number\"}\n",
        "adherence_percent = 0.94 #@param {type:\"slider\", min:0, max:1, step:0.01}"
      ],
      "metadata": {
        "id": "dSWRLMQwG_BU",
        "cellView": "form"
      },
      "execution_count": 8,
      "outputs": []
    },
    {
      "cell_type": "markdown",
      "source": [
        "Now let's detect non-adherence. We will plot the periods when the participant syncs their data."
      ],
      "metadata": {
        "id": "0bOICDIfXSpm"
      }
    },
    {
      "cell_type": "code",
      "source": [
        "import matplotlib.pyplot as plt\n",
        "from datetime import datetime, timedelta\n",
        "import pandas as pd\n",
        "import numpy as np\n",
        "import copy\n",
        "\n",
        "# convert string to date\n",
        "def strToD(s):\n",
        "  c = s[:19]\n",
        "  return datetime.strptime(c, \"%Y-%m-%dT%H:%M:%S\")\n",
        "\n",
        "start = datetime.strptime(start_date, \"%Y-%m-%d\")\n",
        "end = start + timedelta(days=days)\n",
        "\n",
        "dta = []\n",
        "for elem in continuous:\n",
        "  if strToD(elem[\"x\"]) < start:\n",
        "    continue\n",
        "  elif strToD(elem[\"x\"]) > end:\n",
        "    break\n",
        "\n",
        "  dta.append(copy.deepcopy(elem))\n",
        "  if np.random.uniform(low=0, high=1, size=(1,))[0] > adherence_percent:\n",
        "    dta[-1][\"interpolated\"] = True\n",
        "\n",
        "\n",
        "datelist = pd.date_range(start_date,datetime.strftime(end,\"%Y-%m-%d\"), freq=\"15min\")\n",
        "valid = []\n",
        "for point in dta:\n",
        "  if point['interpolated'] == True:\n",
        "    valid.append(0)\n",
        "  else:\n",
        "    valid.append(1)\n",
        "\n",
        "plt.figure(figsize=(12, 6))\n",
        "datelist = datelist[:len(valid)]\n",
        "plt.plot(datelist,valid,drawstyle=\"steps-mid\")"
      ],
      "metadata": {
        "colab": {
          "base_uri": "https://localhost:8080/",
          "height": 391
        },
        "id": "S8CwR-4Hawlr",
        "outputId": "411ef7a1-49cb-482a-f51b-a97aa67a6d68"
      },
      "execution_count": 9,
      "outputs": [
        {
          "output_type": "execute_result",
          "data": {
            "text/plain": [
              "[<matplotlib.lines.Line2D at 0x79ff289a8820>]"
            ]
          },
          "metadata": {},
          "execution_count": 9
        },
        {
          "output_type": "display_data",
          "data": {
            "text/plain": [
              "<Figure size 1200x600 with 1 Axes>"
            ],
            "image/png": "[encoded data removed]"
          },
          "metadata": {}
        }
      ]
    },
    {
      "cell_type": "markdown",
      "source": [
        "# 6. Visualization"
      ],
      "metadata": {
        "id": "rwxfl8stgkCP"
      }
    },
    {
      "cell_type": "markdown",
      "source": [
        "We've extracted lots of data, but what does it look like?\n",
        "\n",
        "In this section, we will be visualizing our three kinds of data in a simple, customizable plot! This plot is intended to provide a starter example for plotting, whereas later examples emphasize deep control and aesthetics."
      ],
      "metadata": {
        "id": "USB3t03SP9c2"
      }
    },
    {
      "cell_type": "code",
      "source": [
        "#@title Basic Plot\n",
        "feature = \"continuous\" #@param [\"continuous\"]\n",
        "start_date = \"2022-06-17\" #@param {type:\"date\"}\n",
        "periods = 96 #@param {type:\"slider\", min:0, max:96, step:1}\n",
        "smoothness = 0.01 #@param {type:\"slider\", min:0, max:1, step:0.01}\n",
        "smooth_plot = True #@param {type:\"boolean\"}\n",
        "\n",
        "\n",
        "from scipy.special import y0\n",
        "import matplotlib.dates as mdates\n",
        "import matplotlib.pyplot as plt\n",
        "from datetime import datetime, timedelta\n",
        "import pandas as pd\n",
        "from scipy.ndimage import gaussian_filter1d\n",
        "\n",
        "datelist = pd.date_range(start_date,datetime.strftime(datetime.strptime(start_date,\"%Y-%m-%d\")+timedelta(minutes=15*periods),\"%Y-%m-%d\"), freq=\"15min\")\n",
        "start = datelist[0]\n",
        "end = datelist[len(datelist)-1]\n",
        "title_fillin = \"Continuous Glucose Data\"\n",
        "\n",
        "# convert string to date\n",
        "def strToD(s):\n",
        "  c = s[:19]\n",
        "  return datetime.strptime(c, \"%Y-%m-%dT%H:%M:%S\")\n",
        "\n",
        "dta = copy.deepcopy(data)\n",
        "\n",
        "# extract the necessary data. notice we must convert\n",
        "# the dates in the dataframe from string to actual datetime object\n",
        "dta['time'] = dta['time'].apply(strToD)\n",
        "dta = dta[dta['time'] >= start]\n",
        "dta = dta[dta['time'] < end]\n",
        "x = dta['time']\n",
        "y = dta[\"level\"]\n",
        "\n",
        "sigma = 100*smoothness\n",
        "\n",
        "if smooth_plot:\n",
        "  y = list(gaussian_filter1d(y, sigma=sigma))\n",
        "plt.figure(figsize=(16,10))\n",
        "\n",
        "plt.plot(x, y)\n",
        "plt.ylim(40,200)\n",
        "\n",
        "plt.title(f\"{title_fillin} from {start_date} to {datetime.strftime(end,'%Y-%m-%d')}\",fontsize=20)\n",
        "plt.xlabel(\"Time\")\n",
        "plt.ylabel(title_fillin[:-1])"
      ],
      "metadata": {
        "colab": {
          "base_uri": "https://localhost:8080/",
          "height": 489
        },
        "id": "C-tfx2OGavTy",
        "outputId": "d7634262-3749-40ab-ee8d-b07a22cf299a"
      },
      "execution_count": 10,
      "outputs": [
        {
          "output_type": "execute_result",
          "data": {
            "text/plain": [
              "Text(0, 0.5, 'Continuous Glucose Dat')"
            ]
          },
          "metadata": {},
          "execution_count": 10
        },
        {
          "output_type": "display_data",
          "data": {
            "text/plain": [
              "<Figure size 1600x1000 with 1 Axes>"
            ],
            "image/png": "[encoded data removed]"
          },
          "metadata": {}
        }
      ]
    },
    {
      "cell_type": "markdown",
      "source": [
        "# 7. Advanced Visualization"
      ],
      "metadata": {
        "id": "uiaccbddglyJ"
      }
    },
    {
      "cell_type": "markdown",
      "source": [
        "## 7.1 Glucose levels over a day"
      ],
      "metadata": {
        "id": "DMGIGfYEiTkC"
      }
    },
    {
      "cell_type": "markdown",
      "source": [
        "Here we will be graphing a more highly stylized plot, specifically the glucose levels chart displayed in the main screen of the official Nutrisense app. This graph shows the glucose levels (mg/dL) at each time of day."
      ],
      "metadata": {
        "id": "CUjo-lgytxoM"
      }
    },
    {
      "cell_type": "markdown",
      "source": [
        "<img src=\"https://i.imgur.com/I60vYHU.png\" width='750px'>"
      ],
      "metadata": {
        "id": "5d6sCznqtswr"
      }
    },
    {
      "cell_type": "markdown",
      "source": [
        "The darker green sections of the graph denote healthy levels of glucose, which is defined as being between 70 mg/dL and 140 mg/dL. Anything outside of this range is colored light green.\n",
        "\n",
        "To make this plot, we can extract the glucose levels data from our pandas dataframe and the associated time from the dataframe as well."
      ],
      "metadata": {
        "id": "7zRZ_Bu_6PnQ"
      }
    },
    {
      "cell_type": "code",
      "source": [
        "#@title Glucose Plot Date\n",
        "start_date = \"2022-06-17\" #@param {type:\"date\"}\n",
        "\n",
        "import pandas as pd\n",
        "\n",
        "datelist = pd.date_range(start_date, periods=2)\n",
        "start = datelist[0]\n",
        "end = datelist[-1]"
      ],
      "metadata": {
        "cellView": "form",
        "id": "mx6rr_rrY0A7"
      },
      "execution_count": 11,
      "outputs": []
    },
    {
      "cell_type": "code",
      "source": [
        "from datetime import datetime, timedelta\n",
        "import copy\n",
        "\n",
        "# convert string to date\n",
        "def strToD(s):\n",
        "  c = s[:19]\n",
        "  return datetime.strptime(c, \"%Y-%m-%dT%H:%M:%S\")\n",
        "\n",
        "dta = copy.deepcopy(data)\n",
        "\n",
        "# extract the necessary data. notice we must convert\n",
        "# the dates in the dataframe from string to actual datetime object\n",
        "dta['time'] = dta['time'].apply(strToD)\n",
        "dta = dta[dta['time'] >= start]\n",
        "dta = dta[dta['time'] < end]\n",
        "x = list(dta['time'])\n",
        "\n",
        "cp = copy.deepcopy(dta)\n",
        "\n",
        "# for datapoints that were \"interpolated\" (i.e. made up),\n",
        "# set the value to a very large negative. This behavior\n",
        "# matches how nutrisense deals with missing datapoints\n",
        "cp.loc[cp[\"interpolated\"] == True, \"level\"] = -float('inf')\n",
        "y1 = list(cp['level'])\n",
        "x = x[:len(y1)]"
      ],
      "metadata": {
        "id": "MsTn8tELPeij"
      },
      "execution_count": 12,
      "outputs": []
    },
    {
      "cell_type": "markdown",
      "source": [
        "Having extracted the necessary data, we can use a matplotlib plot to get the basic shape of the desired graph. The remaining work is in the styling!"
      ],
      "metadata": {
        "id": "f3crlPTs7B5J"
      }
    },
    {
      "cell_type": "code",
      "source": [
        "import matplotlib.pyplot as plt\n",
        "from scipy.ndimage import gaussian_filter1d\n",
        "import numpy as np\n",
        "import matplotlib.dates as mdates\n",
        "\n",
        "healthy = 140\n",
        "\n",
        "figsize = (10, 6)\n",
        "fig = plt.figure(figsize=figsize, facecolor=\"#1d2525\")\n",
        "\n",
        "# set the grid style\n",
        "ax = plt.axes()\n",
        "# ax.yaxis.grid(linewidth='2', ls=\":\", dashes=(1,3,1,3), color=\"#7c7d7d\")\n",
        "ax.yaxis.grid(linewidth='1', ls=\":\", dashes=(0.5,5,0.5,5), color=\"#7c7d7d\")\n",
        "\n",
        "# remove frame\n",
        "ax.spines['top'].set_visible(False)\n",
        "ax.spines['right'].set_visible(False)\n",
        "ax.spines['bottom'].set_visible(False)\n",
        "ax.spines['left'].set_visible(False)\n",
        "\n",
        "# set colors\n",
        "ax.set_facecolor(\"#1d2525\")\n",
        "\n",
        "# set the range and style of ticks\n",
        "plt.yticks(np.arange(70.0, max(y1)+10, 10.0), color=\"#7c7d7d\", fontsize=10)\n",
        "plt.xticks(color=\"#7c7d7d\")\n",
        "plt.ylim(70, max(y1)+10)\n",
        "plt.xlim(x[0], x[len(x)-1])\n",
        "\n",
        "# set the xaxis labels to the time\n",
        "xts = list(pd.date_range(start_date,datetime.strftime(datetime.strptime(end_date,\"%Y-%m-%d\")+timedelta(days=1),\"%Y-%m-%d\"), freq=\"3H\"))\n",
        "ax.set_xticklabels(xts, weight='bold')\n",
        "ax.xaxis.set_major_formatter(mdates.DateFormatter('%l%p'))\n",
        "\n",
        "# smooth the plot points\n",
        "y = list(gaussian_filter1d(y1, sigma=0.01*5))\n",
        "\n",
        "# plot the graph and fill in the correct colors\n",
        "plt.plot(x,y,color=\"#76885f\", alpha=.0)\n",
        "plt.plot(np.where(np.array(y)>= healthy, np.array(y), None), color=\"#c1c59a\", label=\"1\", alpha=.0)\n",
        "plt.plot(np.where(np.array(y)<= healthy, np.array(y), None), color=\"#76885f\", label=\"1\", alpha=.0)\n",
        "\n",
        "lower = np.array(y).clip(max=healthy)\n",
        "upper = np.array(y)\n",
        "#ax.fill_between(x, y, 0, color='#76885f', alpha=.8)\n",
        "\n",
        "ax.fill_between(x, lower, upper, color='#c1c59a', alpha=.8)\n",
        "ax.fill_between(x, 0, lower, color='#76885f', alpha=.8)"
      ],
      "metadata": {
        "colab": {
          "base_uri": "https://localhost:8080/",
          "height": 510
        },
        "id": "B2J8dbk7iXgU",
        "outputId": "975bdc17-ff03-423a-8d4a-e20d3e39dbcd"
      },
      "execution_count": 13,
      "outputs": [
        {
          "output_type": "stream",
          "name": "stderr",
          "text": [
            "<ipython-input-13-0b214d236c20>:33: UserWarning: FixedFormatter should only be used together with FixedLocator\n",
            "  ax.set_xticklabels(xts, weight='bold')\n"
          ]
        },
        {
          "output_type": "execute_result",
          "data": {
            "text/plain": [
              "<matplotlib.collections.PolyCollection at 0x79ff241954e0>"
            ]
          },
          "metadata": {},
          "execution_count": 13
        },
        {
          "output_type": "display_data",
          "data": {
            "text/plain": [
              "<Figure size 1000x600 with 1 Axes>"
            ],
            "image/png": "[encoded data removed]"
          },
          "metadata": {}
        }
      ]
    },
    {
      "cell_type": "markdown",
      "source": [
        "This plot is important because it quickly helps us visualize all of the continuous data collected by the monitor, as well as identify healthy ranges of glucose levels, spikes, and times when the participant failed to log data."
      ],
      "metadata": {
        "id": "a0E_RboQ7vsl"
      }
    },
    {
      "cell_type": "markdown",
      "source": [
        "## 7.2 Glucose Scores"
      ],
      "metadata": {
        "id": "r8eKQTw2iZpb"
      }
    },
    {
      "cell_type": "markdown",
      "source": [
        "For our second chart, we will be attempting to replicate the glucose scores summary, which displays various statistics about your daily glucose levels."
      ],
      "metadata": {
        "id": "gAZrEz_Nt3tY"
      }
    },
    {
      "cell_type": "markdown",
      "source": [
        "<img src=\"https://i.imgur.com/4k5hgln.png\" width='750px'>"
      ],
      "metadata": {
        "id": "1s7KzEpBZWCg"
      }
    },
    {
      "cell_type": "markdown",
      "source": [
        "The only data we will need here are the summary scores taken from the `scoremain` dictionary variable which we created during data extraction.\n",
        "\n",
        "Here will begin by setting up the colors and score arrays:"
      ],
      "metadata": {
        "id": "_H7gRjlduFEM"
      }
    },
    {
      "cell_type": "code",
      "source": [
        "import pandas as pd\n",
        "import numpy as np\n",
        "\n",
        "# colors dict: put a color for every index\n",
        "# we will do: (0) peak, (1) average, (2) adaptability, (3) variability\n",
        "\n",
        "scores = [scoremain[\"scorePeak\"], scoremain[\"scoreMean\"], scoremain[\"scoreTimeOutsideRange\"], scoremain[\"scoreStdDev\"]]\n",
        "lpos = [-0.112,-0.06,0.0,-0.03]\n",
        "\n",
        "# This will give us our desired 10-block bar chart\n",
        "basescore = [0.1]*10\n",
        "base2 = {'peak': basescore}\n",
        "bg2 =pd.DataFrame(base2).transpose()\n",
        "\n",
        "# the labels for the plots\n",
        "lsb = [\"Peak\", \"Average\", \"Adaptability\", \"Variability\"]\n",
        "\n",
        "# set an array of colors which will be used to determine partition coloring\n",
        "colors = ['#343e33']\n",
        "for score in scores:\n",
        "  # divisions: 0-4, 5-7,\n",
        "  if score <= 4:\n",
        "    colors.append('#ff3e4d')\n",
        "  elif score <= 7:\n",
        "    colors.append('#ef893f')\n",
        "  else:\n",
        "    colors.append('#a9c180')\n",
        "colors.append('#343e33')"
      ],
      "metadata": {
        "id": "pJiz_TN4C2Kp"
      },
      "execution_count": 14,
      "outputs": []
    },
    {
      "cell_type": "markdown",
      "source": [
        "All that is left for us to do now is tons of plotting and styling!"
      ],
      "metadata": {
        "id": "M5E0Qu1bu435"
      }
    },
    {
      "cell_type": "code",
      "source": [
        "# position will tell matplotlib where to place each plot, figsize is dynamic based off of our number of plots\n",
        "from collections import defaultdict\n",
        "from matplotlib.patches import FancyBboxPatch\n",
        "\n",
        "# initialize the figure\n",
        "Position = range(1,5)\n",
        "figsize = (18, 3*(4//3+1))\n",
        "fig = plt.figure(figsize=figsize, facecolor=\"#1d2525\")\n",
        "\n",
        "for i in range(4):\n",
        "\n",
        "  # color array that will be applied to the current plot\n",
        "  cs = []\n",
        "  for j in range(scores[i]):\n",
        "    cs.append(colors[i+1])\n",
        "  while len(cs) < 10:\n",
        "    cs.append(colors[0])\n",
        "\n",
        "  # add one bar chart for each statistic\n",
        "  ax2 = fig.add_subplot(4, 1, Position[i], facecolor=\"#1d2525\")\n",
        "  ax = bg2.plot(kind='barh', stacked=True, legend=False, secondary_y=True, ax = ax2, xlim=(-0.4,1.), color=cs) # #343e33\n",
        "\n",
        "  # redo the plot's elements to style it\n",
        "  new_patches = []\n",
        "  for patch in reversed(ax.patches):\n",
        "    bb = patch.get_bbox()\n",
        "    color=patch.get_facecolor()\n",
        "\n",
        "    # the fancy bbox patch module gives us additional ways to customize\n",
        "    p_bbox = FancyBboxPatch((bb.xmin, bb.ymin),\n",
        "                        abs(bb.width), abs(bb.height),\n",
        "                        boxstyle=\"round,pad=-0.0030,rounding_size=0.010\",\n",
        "                        ec=\"none\", fc=color,\n",
        "                        mutation_aspect= 4\n",
        "                        )\n",
        "    patch.remove()\n",
        "    new_patches.append(p_bbox)\n",
        "  for patch in new_patches:\n",
        "    ax.add_patch(patch)\n",
        "\n",
        "  # set the ylabel and ylabel position\n",
        "  ax.set_ylabel(lsb[i], color=\"white\", fontsize=64, rotation=0, position=(0,0))\n",
        "  ax.yaxis.set_label_coords(lpos[i],-0.1)\n",
        "  ax.yaxis.set_label_position(\"left\")\n",
        "\n",
        "  plt.text(1.05,-0.2, str(int(scores[i])), fontsize=64, color=\"white\")\n",
        "\n",
        "  # remove frame\n",
        "  ax.spines['top'].set_visible(False)\n",
        "  ax.spines['right'].set_visible(False)\n",
        "  ax.spines['bottom'].set_visible(False)\n",
        "  ax.spines['left'].set_visible(False)\n",
        "\n",
        "  # remove frame\n",
        "  ax2.spines['top'].set_visible(False)\n",
        "  ax2.spines['right'].set_visible(False)\n",
        "  ax2.spines['bottom'].set_visible(False)\n",
        "  ax2.spines['left'].set_visible(False)\n",
        "\n",
        "  # hide the ticks and tick labels\n",
        "  plt.setp( ax.get_xticklabels(), visible=False)\n",
        "  plt.setp( ax2.get_xticklabels(), visible=False)\n",
        "  plt.setp( ax.get_yticklabels(), visible=False)\n",
        "  plt.setp( ax2.get_yticklabels(), visible=False)\n",
        "  plt.xticks([])\n",
        "  plt.yticks([])"
      ],
      "metadata": {
        "id": "ZBSP-_LWNbmZ",
        "colab": {
          "base_uri": "https://localhost:8080/",
          "height": 206
        },
        "outputId": "93bc8bd6-d93c-42a1-ea21-d392a8671d13"
      },
      "execution_count": 15,
      "outputs": [
        {
          "output_type": "display_data",
          "data": {
            "text/plain": [
              "<Figure size 1800x600 with 8 Axes>"
            ],
            "image/png": "[encoded data removed]"
          },
          "metadata": {}
        }
      ]
    },
    {
      "cell_type": "markdown",
      "source": [
        "This plot gives us a simple and visually appealing way to visualize summary statistics for a patient's glucose levels, allowing us to easily identify which scores are considered bad and which are good depending on color coding."
      ],
      "metadata": {
        "id": "j84ncZjZ8Do3"
      }
    },
    {
      "cell_type": "markdown",
      "source": [
        "## 7.3 Glucose Summary"
      ],
      "metadata": {
        "id": "xS9JMLrpidwo"
      }
    },
    {
      "cell_type": "markdown",
      "source": [
        "The following is a box plot summarizing the daily glucose statistics. The text on the green rectangle gives the `Mean / Standard Deviation` and the caps represent the maximum/minimum.\n",
        "\n",
        "The weekly is compared with the daily in this graph"
      ],
      "metadata": {
        "id": "ZLFqsRey8wNJ"
      }
    },
    {
      "cell_type": "markdown",
      "source": [
        "<img src=\"https://i.imgur.com/X6lXdk7.png\"/>"
      ],
      "metadata": {
        "id": "vE2H6Y9s4DyM"
      }
    },
    {
      "cell_type": "markdown",
      "source": [
        "For this graph, the data we need will all come from the statistics variable we extracted at the start of this notebook."
      ],
      "metadata": {
        "id": "yn46sK7G9ZL7"
      }
    },
    {
      "cell_type": "code",
      "source": [
        "s = [statistics[\"today\"], statistics[\"average\"]][::-1]"
      ],
      "metadata": {
        "id": "ahPslVqRRgMH"
      },
      "execution_count": 16,
      "outputs": []
    },
    {
      "cell_type": "code",
      "source": [
        "print(statistics)"
      ],
      "metadata": {
        "colab": {
          "base_uri": "https://localhost:8080/"
        },
        "id": "If_8rWG09vy2",
        "outputId": "60ed2f73-1435-4ded-b88e-d749e2358557"
      },
      "execution_count": 17,
      "outputs": [
        {
          "output_type": "stream",
          "name": "stdout",
          "text": [
            "{'today': {'healthyRange': {'min': 70.0, 'max': 140.0, '__typename': 'Range'}, 'range': {'min': 51.14815994331366, 'max': 165.12003700131407, '__typename': 'Range'}, 'timeWithinRange': 10023.0, 'min': 70, 'max': 140, 'mean': 105.92332823891968, 'median': 106.52577110359762, 'standardDeviation': 19.051715035245127, 'q1': 90.7, 'q3': 121.0, 'score': 0.0, '__typename': 'Stat'}, 'average': {'healthyRange': {'min': 70.0, 'max': 140.0, '__typename': 'Range'}, 'range': {'min': 79, 'max': 98, '__typename': 'Range'}, 'timeWithinRange': 88, 'min': 79, 'max': 98, 'mean': 91, 'median': 97, 'standardDeviation': 4, 'q1': 85, 'q3': 97, 'score': 0.0, '__typename': 'Stat'}}\n"
          ]
        }
      ]
    },
    {
      "cell_type": "code",
      "source": [
        "print(s)"
      ],
      "metadata": {
        "colab": {
          "base_uri": "https://localhost:8080/"
        },
        "id": "sLHbj-gC8aQ8",
        "outputId": "282e3f28-fcb0-4c17-f641-bf33cf37b2b0"
      },
      "execution_count": 18,
      "outputs": [
        {
          "output_type": "stream",
          "name": "stdout",
          "text": [
            "[{'healthyRange': {'min': 70.0, 'max': 140.0, '__typename': 'Range'}, 'range': {'min': 79, 'max': 98, '__typename': 'Range'}, 'timeWithinRange': 88, 'min': 79, 'max': 98, 'mean': 91, 'median': 97, 'standardDeviation': 4, 'q1': 85, 'q3': 97, 'score': 0.0, '__typename': 'Stat'}, {'healthyRange': {'min': 70.0, 'max': 140.0, '__typename': 'Range'}, 'range': {'min': 51.14815994331366, 'max': 165.12003700131407, '__typename': 'Range'}, 'timeWithinRange': 10023.0, 'min': 70, 'max': 140, 'mean': 105.92332823891968, 'median': 106.52577110359762, 'standardDeviation': 19.051715035245127, 'q1': 90.7, 'q3': 121.0, 'score': 0.0, '__typename': 'Stat'}]\n"
          ]
        }
      ]
    },
    {
      "cell_type": "markdown",
      "source": [
        "Since matplotlib's default boxplot looks a farcry from the beautiful plot featured, we have some extra work to do!\n",
        "\n",
        "Since we are plotting this chart straight from precalculated statistics, we will be using the `bxp` function rather than the standard `boxplot`."
      ],
      "metadata": {
        "id": "9y7yPlo39lIU"
      }
    },
    {
      "cell_type": "code",
      "source": [
        "import matplotlib.pyplot as plt\n",
        "from matplotlib.patches import FancyBboxPatch\n",
        "\n",
        "# boxplot for daily and weekly\n",
        "# bottom line is healthy range\n",
        "# daily is min and max\n",
        "\n",
        "# plt.boxplot()\n",
        "figsize = (18, 6)\n",
        "\n",
        "# healthy range:\n",
        "lbound, rbound = 70.0, 140.0\n",
        "\n",
        "# vars\n",
        "labels = [\"average\", \"today\"]\n",
        "medianprops = {\"linestyle\":'none'}\n",
        "whiskerprops = {\"color\": \"#a6a8a7\",\"linewidth\":2.2}\n",
        "capprops = {\"color\": \"white\",\"linewidth\":2.2}\n",
        "\n",
        "stat_data = []\n",
        "for i in range(len(s)):\n",
        "  d = s[i]\n",
        "  mn, mx = d[\"min\"], d[\"max\"]\n",
        "  avg, sd = d[\"mean\"], d[\"standardDeviation\"]\n",
        "  q1, q3 = d[\"q1\"], d[\"q3\"]\n",
        "\n",
        "  stat_data.append({'med': avg, 'q1': q1, 'q3':q3, 'whislo': mn, 'whishi': mx, 'label': labels[i]})\n",
        "\n",
        "fig, ax = plt.subplots(nrows=1, ncols=1, figsize=figsize, facecolor=\"#1d2525\")\n",
        "ax.yaxis.grid(linewidth='2', ls=\":\", dashes=(1,3,1,3), color=\"#7c7d7d\")\n",
        "ax.set_axisbelow(True)\n",
        "\n",
        "ax.tick_params(axis='y',colors='white', labelrotation=90, labelsize=12, pad=10)\n",
        "\n",
        "# might want to change below into a self drawn patch tick\n",
        "ax.tick_params(axis='x',colors='red', width=4.0, length=10.0, labelsize=12, pad=10, bottom=100)\n",
        "\n",
        "\n",
        "ax.set_yticklabels([\"average\", \"today\"], rotation=90, ha='center', rotation_mode='anchor', weight=\"bold\")\n",
        "ax.set_xticklabels([lbound,rbound], ha='center', rotation_mode='anchor', weight=\"bold\", color=\"#a6a8a7\")\n",
        "plt.tick_params(left = False)\n",
        "\n",
        "bplot = ax.bxp(\n",
        "    stat_data,\n",
        "    showfliers=False,\n",
        "    vert=False,\n",
        "    patch_artist=True,\n",
        "    medianprops=medianprops,\n",
        "    whiskerprops=whiskerprops,\n",
        "    capprops=capprops,\n",
        "    )\n",
        "\n",
        "new_patches = []\n",
        "\n",
        "for patch in bplot['boxes']:\n",
        "  bb = patch.get_path().get_extents()\n",
        "  p_bbox = FancyBboxPatch((bb.xmin, bb.ymin),\n",
        "                        abs(bb.width), abs(bb.height),\n",
        "                        boxstyle=\"round,pad=0,rounding_size=0.2\",\n",
        "                        ec=\"#a9c180\", fc=\"#a9c180\",\n",
        "                        mutation_aspect=0.1)\n",
        "  patch.remove()\n",
        "  new_patches.append(p_bbox)\n",
        "\n",
        "for i in range(len(new_patches)):\n",
        "  patch = new_patches[i]\n",
        "  ax.add_patch(patch)\n",
        "  l, r = patch.get_x(), patch.get_x() + patch.get_width()\n",
        "  h = patch.get_y() + patch.get_height()\n",
        "  plt.text((l+r)/2-3, h+0.01, str(int(s[i]['mean']))+\"/\"+str(int(s[i]['standardDeviation'])), color=\"#a6a8a7\", fontweight='semibold')\n",
        "  plt.text(s[i]['min']-0.9,h+0.01, str(int(s[i]['min'])), color=\"#a6a8a7\", fontweight='semibold')\n",
        "  plt.text(s[i]['max']-0.9,h+0.01, str(int(s[i]['max'])), color=\"#a6a8a7\", fontweight='semibold')\n",
        "\n",
        "plt.xlim(60.0, max(s[0]['max'], s[1]['max'])+10)\n",
        "plt.xticks([lbound, rbound])\n",
        "\n",
        "# set colors\n",
        "ax.set_facecolor(\"#1d2525\")\n",
        "\n",
        "# remove frame\n",
        "ax.spines['top'].set_visible(False)\n",
        "ax.spines['right'].set_visible(False)\n",
        "ax.spines['bottom'].set(color=\"#a6a8a7\", linewidth=2.0)\n",
        "ax.spines['left'].set_visible(False)\n",
        "\n",
        "# add the inner side to the ticks\n",
        "ax2 = ax.twiny()\n",
        "ax2.axis('off')\n",
        "\n",
        "ax4 = ax2.twiny()\n",
        "ax4.tick_params(axis=\"x\",direction=\"out\", pad=-15, bottom = True, top=False)\n",
        "ax4.spines['bottom'].set(color=\"#a6a8a7\", linewidth=2.0)\n",
        "ax4.tick_params(axis='x',colors='red', width=4.0, length=10.0, labelsize=12, pad=10, bottom=100)\n",
        "ax4.xaxis.set_ticklabels([])\n",
        "ax4.set_xlim(ax.get_xlim())\n",
        "ax4.set_xticks([lbound,rbound])\n",
        "\n",
        "ax3 = ax2.twiny()\n",
        "ax3.tick_params(axis=\"x\",direction=\"in\", pad=-15, bottom = True, top=False)\n",
        "ax3.spines['bottom'].set(color=\"#a6a8a7\", linewidth=2.0)\n",
        "ax3.tick_params(axis='x',colors='red', width=4.0, length=10.0, labelsize=12, pad=10, bottom=100)\n",
        "ax3.xaxis.set_ticklabels([])\n",
        "ax3.set_xlim(ax.get_xlim())\n",
        "ax3.set_xticks([lbound,rbound])\n",
        "\n",
        "ax3.spines['top'].set_visible(False)\n",
        "ax3.spines['right'].set_visible(False)\n",
        "ax3.spines['bottom'].set_visible(False)\n",
        "ax3.spines['left'].set_visible(False)\n",
        "\n",
        "ax4.spines['top'].set_visible(False)\n",
        "ax4.spines['right'].set_visible(False)\n",
        "ax4.spines['bottom'].set_visible(False)\n",
        "ax4.spines['left'].set_visible(False)"
      ],
      "metadata": {
        "id": "kqIz512AOYKo",
        "colab": {
          "base_uri": "https://localhost:8080/",
          "height": 360
        },
        "outputId": "0805218f-361b-4350-b4e6-7223fbe4357e"
      },
      "execution_count": 19,
      "outputs": [
        {
          "output_type": "stream",
          "name": "stderr",
          "text": [
            "<ipython-input-19-e744c844c7c9>:39: UserWarning: FixedFormatter should only be used together with FixedLocator\n",
            "  ax.set_yticklabels([\"average\", \"today\"], rotation=90, ha='center', rotation_mode='anchor', weight=\"bold\")\n",
            "<ipython-input-19-e744c844c7c9>:40: UserWarning: FixedFormatter should only be used together with FixedLocator\n",
            "  ax.set_xticklabels([lbound,rbound], ha='center', rotation_mode='anchor', weight=\"bold\", color=\"#a6a8a7\")\n"
          ]
        },
        {
          "output_type": "display_data",
          "data": {
            "text/plain": [
              "<Figure size 1800x600 with 4 Axes>"
            ],
            "image/png": "[encoded data removed]"
          },
          "metadata": {}
        }
      ]
    },
    {
      "cell_type": "markdown",
      "source": [
        "This graph is helpful because it gives a quick look at how the participant's daily glucose level statistics match up to their overall weekly trend. It also gives us a view of the summary statistics of the glucose levels."
      ],
      "metadata": {
        "id": "GGvJv2ec-0FO"
      }
    },
    {
      "cell_type": "markdown",
      "source": [
        "# 8. Outlier Detection and Data Cleaning"
      ],
      "metadata": {
        "id": "vQGsyH-EgpKY"
      }
    },
    {
      "cell_type": "markdown",
      "source": [
        "**NOTICE:** If you are using synthetically generated data, the analyses may yield unintuitive results due to the randomly generated nature of the data"
      ],
      "metadata": {
        "id": "ToUoxMQsfzGU"
      }
    },
    {
      "cell_type": "markdown",
      "source": [
        "In this section, we will detect outliers in our extracted data.\n",
        "\n",
        "Since there are currently no outliers (by construction, since it is simulated to have none), we will manually inject a couple into our general sessions dataframe (the method for finding outliers here will work for any heart rate dataframe)."
      ],
      "metadata": {
        "id": "MTh8cTaefz5S"
      }
    },
    {
      "cell_type": "code",
      "source": [
        "import pandas as pd\n",
        "from datetime import datetime, timedelta\n",
        "\n",
        "dToStr = lambda x: datetime.strftime(x,\"%Y-%m-%dT%H:%M:%S\")\n",
        "\n",
        "last = list(data['time'])[len(data)-1]\n",
        "last, apd = last[:19], last[19:]\n",
        "\n",
        "ctime = datetime.strptime(last, \"%Y-%m-%dT%H:%M:%S\")\n",
        "t1, t2 = dToStr(ctime + timedelta(minutes=15))+apd, dToStr(ctime + timedelta(minutes=30)) + apd\n",
        "outliers = {'time': [t1, t2], 'level': [240, 280]}\n",
        "odata = data.append(pd.DataFrame(outliers),ignore_index=True)\n",
        "display(odata)"
      ],
      "metadata": {
        "id": "9c29ORmXMEK-",
        "colab": {
          "base_uri": "https://localhost:8080/",
          "height": 478
        },
        "outputId": "62fa2c68-939a-489f-ee83-cead1ae72e3b"
      },
      "execution_count": 20,
      "outputs": [
        {
          "output_type": "stream",
          "name": "stderr",
          "text": [
            "<ipython-input-20-b12de2019810>:12: FutureWarning: The frame.append method is deprecated and will be removed from pandas in a future version. Use pandas.concat instead.\n",
            "  odata = data.append(pd.DataFrame(outliers),ignore_index=True)\n"
          ]
        },
        {
          "output_type": "display_data",
          "data": {
            "text/plain": [
              "                            time       level interpolated\n",
              "0      2022-03-01T00:15:00-08:00  122.153035        False\n",
              "1      2022-03-01T00:30:00-08:00  144.575065        False\n",
              "2      2022-03-01T00:45:00-08:00  135.063114         True\n",
              "3      2022-03-01T01:00:00-08:00  133.561388        False\n",
              "4      2022-03-01T01:15:00-08:00  132.108973        False\n",
              "...                          ...         ...          ...\n",
              "10460  2022-06-17T23:15:00-08:00  122.887501        False\n",
              "10461  2022-06-17T23:30:00-08:00  107.835660        False\n",
              "10462  2022-06-17T23:45:00-08:00  102.928913         True\n",
              "10463  2022-06-18T00:00:00-08:00  240.000000          NaN\n",
              "10464  2022-06-18T00:15:00-08:00  280.000000          NaN\n",
              "\n",
              "[10465 rows x 3 columns]"
            ],
            "text/html": [
              "\n",
              "  <div id=\"df-1ca5ad16-4c68-4c81-8fd7-ca4df5cb98a2\" class=\"colab-df-container\">\n",
              "    <div>\n",
              "<style scoped>\n",
              "    .dataframe tbody tr th:only-of-type {\n",
              "        vertical-align: middle;\n",
              "    }\n",
              "\n",
              "    .dataframe tbody tr th {\n",
              "        vertical-align: top;\n",
              "    }\n",
              "\n",
              "    .dataframe thead th {\n",
              "        text-align: right;\n",
              "    }\n",
              "</style>\n",
              "<table border=\"1\" class=\"dataframe\">\n",
              "  <thead>\n",
              "    <tr style=\"text-align: right;\">\n",
              "      <th></th>\n",
              "      <th>time</th>\n",
              "      <th>level</th>\n",
              "      <th>interpolated</th>\n",
              "    </tr>\n",
              "  </thead>\n",
              "  <tbody>\n",
              "    <tr>\n",
              "      <th>0</th>\n",
              "      <td>2022-03-01T00:15:00-08:00</td>\n",
              "      <td>122.153035</td>\n",
              "      <td>False</td>\n",
              "    </tr>\n",
              "    <tr>\n",
              "      <th>1</th>\n",
              "      <td>2022-03-01T00:30:00-08:00</td>\n",
              "      <td>144.575065</td>\n",
              "      <td>False</td>\n",
              "    </tr>\n",
              "    <tr>\n",
              "      <th>2</th>\n",
              "      <td>2022-03-01T00:45:00-08:00</td>\n",
              "      <td>135.063114</td>\n",
              "      <td>True</td>\n",
              "    </tr>\n",
              "    <tr>\n",
              "      <th>3</th>\n",
              "      <td>2022-03-01T01:00:00-08:00</td>\n",
              "      <td>133.561388</td>\n",
              "      <td>False</td>\n",
              "    </tr>\n",
              "    <tr>\n",
              "      <th>4</th>\n",
              "      <td>2022-03-01T01:15:00-08:00</td>\n",
              "      <td>132.108973</td>\n",
              "      <td>False</td>\n",
              "    </tr>\n",
              "    <tr>\n",
              "      <th>...</th>\n",
              "      <td>...</td>\n",
              "      <td>...</td>\n",
              "      <td>...</td>\n",
              "    </tr>\n",
              "    <tr>\n",
              "      <th>10460</th>\n",
              "      <td>2022-06-17T23:15:00-08:00</td>\n",
              "      <td>122.887501</td>\n",
              "      <td>False</td>\n",
              "    </tr>\n",
              "    <tr>\n",
              "      <th>10461</th>\n",
              "      <td>2022-06-17T23:30:00-08:00</td>\n",
              "      <td>107.835660</td>\n",
              "      <td>False</td>\n",
              "    </tr>\n",
              "    <tr>\n",
              "      <th>10462</th>\n",
              "      <td>2022-06-17T23:45:00-08:00</td>\n",
              "      <td>102.928913</td>\n",
              "      <td>True</td>\n",
              "    </tr>\n",
              "    <tr>\n",
              "      <th>10463</th>\n",
              "      <td>2022-06-18T00:00:00-08:00</td>\n",
              "      <td>240.000000</td>\n",
              "      <td>NaN</td>\n",
              "    </tr>\n",
              "    <tr>\n",
              "      <th>10464</th>\n",
              "      <td>2022-06-18T00:15:00-08:00</td>\n",
              "      <td>280.000000</td>\n",
              "      <td>NaN</td>\n",
              "    </tr>\n",
              "  </tbody>\n",
              "</table>\n",
              "<p>10465 rows × 3 columns</p>\n",
              "</div>\n",
              "    <div class=\"colab-df-buttons\">\n",
              "\n",
              "  <div class=\"colab-df-container\">\n",
              "    <button class=\"colab-df-convert\" onclick=\"convertToInteractive('df-1ca5ad16-4c68-4c81-8fd7-ca4df5cb98a2')\"\n",
              "            title=\"Convert this dataframe to an interactive table.\"\n",
              "            style=\"display:none;\">\n",
              "\n",
              "  <svg xmlns=\"http://www.w3.org/2000/svg\" height=\"24px\" viewBox=\"0 -960 960 960\">\n",
              "    <path d=\"M120-120v-720h720v720H120Zm60-500h600v-160H180v160Zm220 220h160v-160H400v160Zm0 220h160v-160H400v160ZM180-400h160v-160H180v160Zm440 0h160v-160H620v160ZM180-180h160v-160H180v160Zm440 0h160v-160H620v160Z\"/>\n",
              "  </svg>\n",
              "    </button>\n",
              "\n",
              "  <style>\n",
              "    .colab-df-container {\n",
              "      display:flex;\n",
              "      gap: 12px;\n",
              "    }\n",
              "\n",
              "    .colab-df-convert {\n",
              "      background-color: #E8F0FE;\n",
              "      border: none;\n",
              "      border-radius: 50%;\n",
              "      cursor: pointer;\n",
              "      display: none;\n",
              "      fill: #1967D2;\n",
              "      height: 32px;\n",
              "      padding: 0 0 0 0;\n",
              "      width: 32px;\n",
              "    }\n",
              "\n",
              "    .colab-df-convert:hover {\n",
              "      background-color: #E2EBFA;\n",
              "      box-shadow: 0px 1px 2px rgba(60, 64, 67, 0.3), 0px 1px 3px 1px rgba(60, 64, 67, 0.15);\n",
              "      fill: #174EA6;\n",
              "    }\n",
              "\n",
              "    .colab-df-buttons div {\n",
              "      margin-bottom: 4px;\n",
              "    }\n",
              "\n",
              "    [theme=dark] .colab-df-convert {\n",
              "      background-color: #3B4455;\n",
              "      fill: #D2E3FC;\n",
              "    }\n",
              "\n",
              "    [theme=dark] .colab-df-convert:hover {\n",
              "      background-color: #434B5C;\n",
              "      box-shadow: 0px 1px 3px 1px rgba(0, 0, 0, 0.15);\n",
              "      filter: drop-shadow(0px 1px 2px rgba(0, 0, 0, 0.3));\n",
              "      fill: #FFFFFF;\n",
              "    }\n",
              "  </style>\n",
              "\n",
              "    <script>\n",
              "      const buttonEl =\n",
              "        document.querySelector('#df-1ca5ad16-4c68-4c81-8fd7-ca4df5cb98a2 button.colab-df-convert');\n",
              "      buttonEl.style.display =\n",
              "        google.colab.kernel.accessAllowed ? 'block' : 'none';\n",
              "\n",
              "      async function convertToInteractive(key) {\n",
              "        const element = document.querySelector('#df-1ca5ad16-4c68-4c81-8fd7-ca4df5cb98a2');\n",
              "        const dataTable =\n",
              "          await google.colab.kernel.invokeFunction('convertToInteractive',\n",
              "                                                    [key], {});\n",
              "        if (!dataTable) return;\n",
              "\n",
              "        const docLinkHtml = 'Like what you see? Visit the ' +\n",
              "          '<a target=\"_blank\" href=https://colab.research.google.com/notebooks/data_table.ipynb>data table notebook</a>'\n",
              "          + ' to learn more about interactive tables.';\n",
              "        element.innerHTML = '';\n",
              "        dataTable['output_type'] = 'display_data';\n",
              "        await google.colab.output.renderOutput(dataTable, element);\n",
              "        const docLink = document.createElement('div');\n",
              "        docLink.innerHTML = docLinkHtml;\n",
              "        element.appendChild(docLink);\n",
              "      }\n",
              "    </script>\n",
              "  </div>\n",
              "\n",
              "\n",
              "<div id=\"df-59fc02c1-e822-4292-81bc-d0b5d325f133\">\n",
              "  <button class=\"colab-df-quickchart\" onclick=\"quickchart('df-59fc02c1-e822-4292-81bc-d0b5d325f133')\"\n",
              "            title=\"Suggest charts\"\n",
              "            style=\"display:none;\">\n",
              "\n",
              "<svg xmlns=\"http://www.w3.org/2000/svg\" height=\"24px\"viewBox=\"0 0 24 24\"\n",
              "     width=\"24px\">\n",
              "    <g>\n",
              "        <path d=\"M19 3H5c-1.1 0-2 .9-2 2v14c0 1.1.9 2 2 2h14c1.1 0 2-.9 2-2V5c0-1.1-.9-2-2-2zM9 17H7v-7h2v7zm4 0h-2V7h2v10zm4 0h-2v-4h2v4z\"/>\n",
              "    </g>\n",
              "</svg>\n",
              "  </button>\n",
              "\n",
              "<style>\n",
              "  .colab-df-quickchart {\n",
              "      --bg-color: #E8F0FE;\n",
              "      --fill-color: #1967D2;\n",
              "      --hover-bg-color: #E2EBFA;\n",
              "      --hover-fill-color: #174EA6;\n",
              "      --disabled-fill-color: #AAA;\n",
              "      --disabled-bg-color: #DDD;\n",
              "  }\n",
              "\n",
              "  [theme=dark] .colab-df-quickchart {\n",
              "      --bg-color: #3B4455;\n",
              "      --fill-color: #D2E3FC;\n",
              "      --hover-bg-color: #434B5C;\n",
              "      --hover-fill-color: #FFFFFF;\n",
              "      --disabled-bg-color: #3B4455;\n",
              "      --disabled-fill-color: #666;\n",
              "  }\n",
              "\n",
              "  .colab-df-quickchart {\n",
              "    background-color: var(--bg-color);\n",
              "    border: none;\n",
              "    border-radius: 50%;\n",
              "    cursor: pointer;\n",
              "    display: none;\n",
              "    fill: var(--fill-color);\n",
              "    height: 32px;\n",
              "    padding: 0;\n",
              "    width: 32px;\n",
              "  }\n",
              "\n",
              "  .colab-df-quickchart:hover {\n",
              "    background-color: var(--hover-bg-color);\n",
              "    box-shadow: 0 1px 2px rgba(60, 64, 67, 0.3), 0 1px 3px 1px rgba(60, 64, 67, 0.15);\n",
              "    fill: var(--button-hover-fill-color);\n",
              "  }\n",
              "\n",
              "  .colab-df-quickchart-complete:disabled,\n",
              "  .colab-df-quickchart-complete:disabled:hover {\n",
              "    background-color: var(--disabled-bg-color);\n",
              "    fill: var(--disabled-fill-color);\n",
              "    box-shadow: none;\n",
              "  }\n",
              "\n",
              "  .colab-df-spinner {\n",
              "    border: 2px solid var(--fill-color);\n",
              "    border-color: transparent;\n",
              "    border-bottom-color: var(--fill-color);\n",
              "    animation:\n",
              "      spin 1s steps(1) infinite;\n",
              "  }\n",
              "\n",
              "  @keyframes spin {\n",
              "    0% {\n",
              "      border-color: transparent;\n",
              "      border-bottom-color: var(--fill-color);\n",
              "      border-left-color: var(--fill-color);\n",
              "    }\n",
              "    20% {\n",
              "      border-color: transparent;\n",
              "      border-left-color: var(--fill-color);\n",
              "      border-top-color: var(--fill-color);\n",
              "    }\n",
              "    30% {\n",
              "      border-color: transparent;\n",
              "      border-left-color: var(--fill-color);\n",
              "      border-top-color: var(--fill-color);\n",
              "      border-right-color: var(--fill-color);\n",
              "    }\n",
              "    40% {\n",
              "      border-color: transparent;\n",
              "      border-right-color: var(--fill-color);\n",
              "      border-top-color: var(--fill-color);\n",
              "    }\n",
              "    60% {\n",
              "      border-color: transparent;\n",
              "      border-right-color: var(--fill-color);\n",
              "    }\n",
              "    80% {\n",
              "      border-color: transparent;\n",
              "      border-right-color: var(--fill-color);\n",
              "      border-bottom-color: var(--fill-color);\n",
              "    }\n",
              "    90% {\n",
              "      border-color: transparent;\n",
              "      border-bottom-color: var(--fill-color);\n",
              "    }\n",
              "  }\n",
              "</style>\n",
              "\n",
              "  <script>\n",
              "    async function quickchart(key) {\n",
              "      const quickchartButtonEl =\n",
              "        document.querySelector('#' + key + ' button');\n",
              "      quickchartButtonEl.disabled = true;  // To prevent multiple clicks.\n",
              "      quickchartButtonEl.classList.add('colab-df-spinner');\n",
              "      try {\n",
              "        const charts = await google.colab.kernel.invokeFunction(\n",
              "            'suggestCharts', [key], {});\n",
              "      } catch (error) {\n",
              "        console.error('Error during call to suggestCharts:', error);\n",
              "      }\n",
              "      quickchartButtonEl.classList.remove('colab-df-spinner');\n",
              "      quickchartButtonEl.classList.add('colab-df-quickchart-complete');\n",
              "    }\n",
              "    (() => {\n",
              "      let quickchartButtonEl =\n",
              "        document.querySelector('#df-59fc02c1-e822-4292-81bc-d0b5d325f133 button');\n",
              "      quickchartButtonEl.style.display =\n",
              "        google.colab.kernel.accessAllowed ? 'block' : 'none';\n",
              "    })();\n",
              "  </script>\n",
              "</div>\n",
              "    </div>\n",
              "  </div>\n"
            ]
          },
          "metadata": {}
        }
      ]
    },
    {
      "cell_type": "markdown",
      "source": [
        "Now we need a method to find these outliers. While there are many known methods for finding outliers, one of the quickest ways is to use something known as a z-score.\n",
        "\n",
        "The formula for the z-score is\n",
        "\n",
        "\n",
        "```\n",
        "Z = (data point - mean of data set) / standard deviation\n",
        "```\n",
        "We will compute this formula on every data point in our data set, giving us a massive list of z-score values.\n",
        "\n",
        "What the z score tells us is how far, in terms of standard deviations, any one data point is from the mean. In statistics, data points at increasing standard deviations away from the mean are less likely to occur. This means that the greater our z-score, the more unlikely for the data point to be real.\n",
        "\n",
        "We can decide what distance from the mean constitutes an outlier by setting the **threshold** value, so if a data point's z-score is above that threshold we might guess it to be an outlier.\n",
        "\n",
        "One intuitive idea is that the glucose levels should not vary too much from one second to the next. To capitalize on this, we can improve our analysis by first calculating the distance each glucose level sample is away from neighboring glucose level samples. We can then use the z-scores to determine which glucose levels differ from their neighbors by an unusually large margin. These will likely be our outliers."
      ],
      "metadata": {
        "id": "y1j2EjM9N6UU"
      }
    },
    {
      "cell_type": "code",
      "source": [
        "import math\n",
        "import pandas as pd\n",
        "\n",
        "nx = odata[\"level\"]\n",
        "\n",
        "distances = []\n",
        "\n",
        "f = lambda x: x**2\n",
        "\n",
        "#take the current count, subtract it by the points to its left and right some distance, then\n",
        "#square each of these differences, add, then sqrt\n",
        "for l1, l2, m, r1, r2 in zip(nx[:-4],nx[1:-3],nx[2:-2],nx[3:-1],nx[4:]):\n",
        "  difference = math.sqrt(f(m-l1)+f(m-l2)+f(m-r1)+f(m-r2))\n",
        "  distances.append(difference)"
      ],
      "metadata": {
        "id": "_U42-CwLN5t0"
      },
      "execution_count": 21,
      "outputs": []
    },
    {
      "cell_type": "markdown",
      "source": [
        "Now we can calculate our z-scores for the heart rate data in one training session, and identify those data points that seem like outliers. Luckily, we can save some time by using the [z-score function](https://docs.scipy.org/doc/scipy/reference/generated/scipy.stats.zscore.html) from scipy's statistics library, which will give us a z-score calculation for all data points."
      ],
      "metadata": {
        "id": "8NbGzHxUOHm4"
      }
    },
    {
      "cell_type": "code",
      "source": [
        "from scipy import stats\n",
        "import pandas as pd\n",
        "import numpy as np\n",
        "\n",
        "threshold = 3 #@param{type: \"integer\"}\n",
        "z_scores = np.abs(stats.zscore(nx))\n",
        "odata['z'] = z_scores\n",
        "lcs = list((odata.loc[odata['z'] > threshold]).index)\n",
        "\n",
        "\n",
        "cx = list(odata[\"level\"].values)\n",
        "for idx in odata.index[odata['z'] > threshold].tolist():\n",
        "  vals = cx[idx-3:idx-2]+cx[idx-2:idx-1]+cx[idx+1:idx+2]+cx[idx+2:idx+3]\n",
        "  mean_val = np.mean(vals)\n",
        "  odata.loc[idx, 'level'] = mean_val\n"
      ],
      "metadata": {
        "id": "hJZklD3uOJm-"
      },
      "execution_count": 22,
      "outputs": []
    },
    {
      "cell_type": "markdown",
      "source": [
        "It looks like the code was able to successfully identify the two outliers!"
      ],
      "metadata": {
        "id": "ea-5LSSkOelC"
      }
    },
    {
      "cell_type": "markdown",
      "source": [
        "# 9. Data Analysis"
      ],
      "metadata": {
        "id": "2sHttKpIgs1j"
      }
    },
    {
      "cell_type": "markdown",
      "source": [
        "https://colab.research.google.com/drive/1XTnsQ9DMDU1S7d7mieo2EpOPYAEfOaVb?usp=sharing\n",
        "\n",
        "Dexcom notebook data analysis <-- use similar graph\n",
        "\n",
        "Amount of time above 180 changes over time (\"if\" i changed behavior)\n",
        "\n",
        "Todo:\n",
        "1. Polar verity sense corrections\n",
        "2. finish this\n",
        "3. finish actigraph notebook\n",
        "4. 10 min presentation for what i have done this quarter if i want to continue\n"
      ],
      "metadata": {
        "id": "sKpZATFMgm1v"
      }
    },
    {
      "cell_type": "markdown",
      "source": [
        "## 9.1: Blood glucose level vs. time of day (day vs. night)\n",
        "\n",
        "**This section is the same as the one presented in the dexcom g6 notebook**"
      ],
      "metadata": {
        "id": "Buc3V0bDGA33"
      }
    },
    {
      "cell_type": "markdown",
      "source": [
        "Since people (generally) sleep at night and eat during the day, one hypothesis is that glucose values will be different during the day compared to the night. Let's see if this is true. First, we will get the glucose values for each day and separate them into day time and night time values. We define day time as 9AM to 12AM (midnight) and night time as 12AM (midnight) to 9 am here, although these values can be adjusted as dayStart and dayEnd in the code."
      ],
      "metadata": {
        "id": "4AXQBfN4KDre"
      }
    },
    {
      "cell_type": "code",
      "source": [
        "from datetime import time\n",
        "import scipy.stats as stats\n",
        "\n",
        "df = data\n",
        "\n",
        "dayStart = time(9, 00, 00)\n",
        "dayEnd = time(0, 00, 00)\n",
        "\n",
        "allTimes = pd.to_datetime(df.loc[:,'time']).dt.time\n",
        "\n",
        "if dayStart < dayEnd:\n",
        "    mask = (allTimes >= dayStart) & (allTimes <= dayEnd)\n",
        "else:\n",
        "    mask = (allTimes >= dayStart) | (allTimes <= dayEnd)\n",
        "\n",
        "df[\"Time of Day\"] = mask\n",
        "df[\"Time of Day\"] = df[\"Time of Day\"].map({True: 'Day', False: 'Night'})"
      ],
      "metadata": {
        "id": "VWfrRegdLCje"
      },
      "execution_count": 23,
      "outputs": []
    },
    {
      "cell_type": "markdown",
      "source": [
        "Let's use [seaborn](https://seaborn.pydata.org/) to generate a scatter plot to take an initial look."
      ],
      "metadata": {
        "id": "Twi_M1rbhCAA"
      }
    },
    {
      "cell_type": "code",
      "source": [
        "import seaborn as sns\n",
        "\n",
        "sns.catplot(x=\"Time of Day\", y=\"level\", data=df)"
      ],
      "metadata": {
        "id": "InuS5ksQhDSR",
        "colab": {
          "base_uri": "https://localhost:8080/",
          "height": 524
        },
        "outputId": "37ee9951-cb94-4137-8732-70297074fd8e"
      },
      "execution_count": 24,
      "outputs": [
        {
          "output_type": "execute_result",
          "data": {
            "text/plain": [
              "<seaborn.axisgrid.FacetGrid at 0x79ff1ffa1270>"
            ]
          },
          "metadata": {},
          "execution_count": 24
        },
        {
          "output_type": "display_data",
          "data": {
            "text/plain": [
              "<Figure size 511.111x500 with 1 Axes>"
            ],
            "image/png": "[encoded data removed]"
          },
          "metadata": {}
        }
      ]
    },
    {
      "cell_type": "markdown",
      "source": [
        "Now, since we're compmaring two means, we could use a one-way ANOVA (analysis of variance). For this to be a valid analysis, we have to ensure the data is [independent, normally distributed, and homoscedastic](https://www.statisticssolutions.com/free-resources/directory-of-statistical-analyses/anova/).\n",
        "\n",
        "Let's check normality first."
      ],
      "metadata": {
        "id": "nUmscDzxhEbw"
      }
    },
    {
      "cell_type": "code",
      "source": [
        "import matplotlib.pyplot as plt\n",
        "\n",
        "plt.hist(df.loc[df[\"Time of Day\"] == 'Day']['level'])\n",
        "plt.title(\"Day Time\")\n",
        "plt.show()\n",
        "\n",
        "plt.hist(df.loc[df[\"Time of Day\"] == 'Night']['level'])\n",
        "plt.title(\"Night Time\")\n",
        "plt.show()"
      ],
      "metadata": {
        "id": "bfgmAx-uhGVQ",
        "colab": {
          "base_uri": "https://localhost:8080/",
          "height": 887
        },
        "outputId": "5cf8b0a5-5353-458c-a07a-e02b907d7ec7"
      },
      "execution_count": 25,
      "outputs": [
        {
          "output_type": "display_data",
          "data": {
            "text/plain": [
              "<Figure size 640x480 with 1 Axes>"
            ],
            "image/png": "[encoded data removed]"
          },
          "metadata": {}
        },
        {
          "output_type": "display_data",
          "data": {
            "text/plain": [
              "<Figure size 640x480 with 1 Axes>"
            ],
            "image/png": "[encoded data removed]"
          },
          "metadata": {}
        }
      ]
    },
    {
      "cell_type": "markdown",
      "source": [
        "Since the data do not look normally distributed, we can use a [Kruskal-Wallis test](https://docs.scipy.org/doc/scipy/reference/generated/scipy.stats.kruskal.html#scipy.stats.kruskal) instead of an ANOVA."
      ],
      "metadata": {
        "id": "nMoqa31e3AxD"
      }
    },
    {
      "cell_type": "code",
      "source": [
        "from scipy import stats\n",
        "\n",
        "stats.kruskal(df.loc[df[\"Time of Day\"] == 'Day']['level'],df.loc[df[\"Time of Day\"] == 'Night']['level'])"
      ],
      "metadata": {
        "id": "47JoWn9K3Bjp",
        "colab": {
          "base_uri": "https://localhost:8080/"
        },
        "outputId": "b69255e8-1f3b-4961-bc81-b95ba2794afc"
      },
      "execution_count": 26,
      "outputs": [
        {
          "output_type": "execute_result",
          "data": {
            "text/plain": [
              "KruskalResult(statistic=93.83083717342379, pvalue=3.436755694680777e-22)"
            ]
          },
          "metadata": {},
          "execution_count": 26
        }
      ]
    },
    {
      "cell_type": "markdown",
      "source": [
        "Thus we can reject the null hypothesis that the population medians do not significantly differ (p<\\0.05), and that night time values are different from day time values."
      ],
      "metadata": {
        "id": "JxiYBSWq3PAK"
      }
    },
    {
      "cell_type": "markdown",
      "source": [
        "## 9.2: Blood glucose level after change of behavior\n",
        "\n",
        "Does a patient change their eating habits throughout the course of the study When a patient changes their eating habits in order to keep their glucose levels in check, does it work? One analysis we could do is, given the date at which the patient started implementing changes in eating habits (like eating less sweets), determine if there is a significant difference in the blood glucose levels throughout the day (140 mg/dL).\n",
        "\n",
        "For this type of question, we will use something called a T-Test, a statistical test used to determine compare the mean of some value in two separate groups. Here our first group will be the set of data before the patient changed their eating habits, and the second group will be the data after the patient changed their eating habits.\n",
        "\n",
        "The date of behavioral change below can be modified as needed."
      ],
      "metadata": {
        "id": "crrhB9ZNGVm4"
      }
    },
    {
      "cell_type": "code",
      "source": [
        "#@title Enter date of eating habit change\n",
        "\n",
        "date_of_change = \"2022-03-01T12:00:00\" #@param {type:\"string\"}"
      ],
      "metadata": {
        "id": "UdY_alRYUfJl"
      },
      "execution_count": 27,
      "outputs": []
    },
    {
      "cell_type": "code",
      "source": [
        "import pandas as pd\n",
        "import numpy as np\n",
        "from scipy.stats import ttest_ind\n",
        "from datetime import timedelta, datetime\n",
        "import re\n",
        "\n",
        "df = data\n",
        "\n",
        "pat = date_of_change + \"*(.+)\"\n",
        "\n",
        "split = list(df[\"time\"].str.match(pat).values)\n",
        "split = split.index(True)\n",
        "\n",
        "\n",
        "def differ(df):\n",
        "  rows = len(df.index)\n",
        "  f = df.iloc[range(split)][\"level\"]\n",
        "  s = df.iloc[range(split,rows)][\"level\"]\n",
        "  return ttest_ind(f,s)\n",
        "\n",
        "print(differ(df))"
      ],
      "metadata": {
        "id": "IMpQSV4c7STd",
        "colab": {
          "base_uri": "https://localhost:8080/"
        },
        "outputId": "8e11b0b4-6dd6-48bc-8f00-aba2c1a607d5"
      },
      "execution_count": 28,
      "outputs": [
        {
          "output_type": "stream",
          "name": "stdout",
          "text": [
            "TtestResult(statistic=-1.066404699796087, pvalue=0.2862653487369563, df=10461.0)\n"
          ]
        }
      ]
    },
    {
      "cell_type": "markdown",
      "source": [
        "Since the t-test returned a negative value, this means the sample mean in the first half of the data is less than the sample mean in the second half of the data. Based on the increased glucose levels, it looks like the patient has indeed changed their eating habits, but for the worse!"
      ],
      "metadata": {
        "id": "0jFtWMZl74UY"
      }
    }
  ]
}
