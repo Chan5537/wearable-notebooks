{
  "nbformat": 4,
  "nbformat_minor": 0,
  "metadata": {
    "colab": {
      "provenance": []
    },
    "kernelspec": {
      "name": "python3",
      "display_name": "Python 3"
    },
    "language_info": {
      "name": "python"
    }
  },
  "cells": [
    {
      "cell_type": "markdown",
      "source": [
        "# Nutrisense CGM: Guide to data extraction and analysis"
      ],
      "metadata": {
        "id": "e_dmeLdCgHlO"
      }
    },
    {
      "cell_type": "markdown",
      "source": [
        "<img src=\"https://assets.nutrisense.io/62c477aa7b7db12cfffa5de3/633386632eabe28ff072973d_Activity.webp\" width=\"200px\" />\n",
        "\n"
      ],
      "metadata": {
        "id": "DAn8JGTbFTD4"
      }
    },
    {
      "cell_type": "markdown",
      "source": [
        "The [Nutrisense Continuous Glucose Monitor](https://to.nutrisense.io/cgm-3?g_acctid=195-120-5766&g_adgroupid=145363696209&g_adid=588697352068&g_adtype=search&g_campaign=brand_exact_desktop_tcpa_conv_groups+_low_cpc&g_campaignid=18640003106&g_keyword=nutrisense%20cgm&g_keywordid=kwd-927595745176&g_network=g&utm_adgroup=conv&utm_adpos=&utm_campaign=brand_exact_desktop_tcpa_conv_groups__low_cpc&utm_keyword=nutrisense%20cgm&utm_medium=cpc&utm_source=google&gclid=EAIaIQobChMI_Ie08PTD_QIVsRR9Ch3A_wRrEAAYASAAEgJBPfD_BwE) is a sensor that tracks your blood glucose levels over a period of two weeks. In addition to logging continuous data, purchasing the Nutrisense CGM pairs you with a dietitian who helps you interpret, understand, and manage your glucose levels.\n",
        "\n",
        "Having used the Nutrisense CGM, we'll show you how to extract, visualize, and compute statistics for data collected by the monitor. All you will need for this notebook is your username and password!\n",
        "\n",
        "You can extract the parameters with known sampling frequencies as below:\n",
        "\n",
        "Parameter Name  | Sampling Frequency \n",
        "-------------------|------------------\n",
        "Glucose level      |  15 minutes\n",
        "Glucose Peak |  24 hours\n",
        "Glucose Average |  24 hours\n",
        "Glucose Adaptability | 24 hours\n",
        "Glucose Variability | 24 hours\n",
        "\n",
        "In this guide, we sequentially cover the following **nine** topics to extract from the Nutrisense CGM:\n",
        "1. **Setup**\n",
        "2. **Authentication/Authorization**\n",
        "    - Requires only username and password, no OAuth.\n",
        "3. **Data extraction**\n",
        "    - We get data via `wearipedia` in a couple lines of code.\n",
        "4. **Data Exporting**\n",
        "    - We export all of this data to file formats compatible by R, Excel, and MatLab.\n",
        "5. **Adherence**\n",
        "    - We simulate non-adherence by dynamically removing datapoints from our simulated data.\n",
        "6. **Visualization**\n",
        "    - We create a simple plot to visualize our data.\n",
        "7. **Advanced visualization**\n",
        "    - 7.1: We plot a calendar heatmap of step counts every day, revealing which days the user has worn the watch.\n",
        "    - 7.2: We reproduce a time series plot from the Garmin Connect website of heart rate and activity (steps) throughout a given day.\n",
        "8. **Outlier Detection and Data Cleaning**\n",
        "    - We detect outliers in our data and filter them out.\n",
        "9. **Data analysis**\n",
        "    - 9.1: We test whether activity (step counts) and heart rates within 15 minute intervals are correlated and find a statistically significant relationship.\n",
        "    - 9.2: We check for a correlation between breathing rate and heart rate, and find a statistically significant link.\n",
        "    - Note that we are not making any scientific claims here as our sample size is small and the data collection process was not rigorously vetted (it is our own data), only demonstrating that this code could potentially be used to perform rigorous analyses in the future.\n",
        "\n",
        "Disclaimer: this notebook is purely for educational purposes. All of the data currently stored in this notebook is purely *synthetic*, meaning randomly generated according to rules we created. Despite this, the end-to-end data extraction pipeline has been tested on our own data, meaning that if you enter your own email and password on your own Colab instance, you can visualize your own *real* data. That being said, we were unable to thoroughly test the timezone functionality, though, since we only have one account, so beware.\n",
        "\n"
      ],
      "metadata": {
        "id": "ftAnpNNrgMZy"
      }
    },
    {
      "cell_type": "markdown",
      "source": [
        "# 1. Setup"
      ],
      "metadata": {
        "id": "gxWvBALLgRGS"
      }
    },
    {
      "cell_type": "markdown",
      "source": [
        "# 1. Setup\n",
        "\n",
        "## Participant Setup\n",
        "\n",
        "Dear Participant,\n",
        "\n",
        "Once you unbox your Nutrisense CGM, please set up the device by following the Official Guide: https://support.nutrisense.io/hc/en-us/articles/4402815217687-How-Do-I-Put-on-My-CGM-\n",
        "\n",
        "This guide is also available on the nutrisense app, which is where you will log and view your data.\n",
        "\n",
        "Make sure that your phone is paired to it using the Nutrisense login credentials (email and password) given to you by the data receiver.\n",
        "\n",
        "Best,\n",
        "\n",
        "Wearipedia\n",
        "\n",
        "## Data Receiver Setup\n",
        "\n",
        "Please follow the below steps:\n",
        "\n",
        "1. Create an email address for the participant, for example `foo@email.com`.\n",
        "2. Create a Nutrisense account with the email `foo@email.com` and some random password.\n",
        "3. Keep `foo@email.com` and password stored somewhere safe.\n",
        "4. Distribute the device to the participant and instruct them to follow the participant setup letter above.\n",
        "5. Install the `wearipedia` Python package to easily extract data from this device."
      ],
      "metadata": {
        "id": "Y2ZKhRCp94-0"
      }
    },
    {
      "cell_type": "code",
      "source": [
        "!pip install git+https://github.com/Stanford-Health/wearipedia"
      ],
      "metadata": {
        "colab": {
          "base_uri": "https://localhost:8080/"
        },
        "id": "_V4AjApi-gtQ",
        "outputId": "3d543ddc-6b0f-43a0-d169-5c216ffefde5"
      },
      "execution_count": null,
      "outputs": [
        {
          "output_type": "stream",
          "name": "stdout",
          "text": [
            "Looking in indexes: https://pypi.org/simple, https://us-python.pkg.dev/colab-wheels/public/simple/\n",
            "Collecting git+https://github.com/Stanford-Health/wearipedia\n",
            "  Cloning https://github.com/Stanford-Health/wearipedia to /tmp/pip-req-build-o8lqq3oy\n",
            "  Running command git clone --filter=blob:none --quiet https://github.com/Stanford-Health/wearipedia /tmp/pip-req-build-o8lqq3oy\n",
            "  Resolved https://github.com/Stanford-Health/wearipedia to commit 109515bc187b5a2c2c4cf33648c90fbc277083cd\n",
            "  Installing build dependencies ... \u001b[?25l\u001b[?25hdone\n",
            "  Getting requirements to build wheel ... \u001b[?25l\u001b[?25hdone\n",
            "  Preparing metadata (pyproject.toml) ... \u001b[?25l\u001b[?25hdone\n",
            "Requirement already satisfied: scipy<2.0,>=1.6 in /usr/local/lib/python3.9/dist-packages (from wearipedia==0.1.2) (1.10.1)\n",
            "Collecting wget<4.0,>=3.2\n",
            "  Downloading wget-3.2.zip (10 kB)\n",
            "  Preparing metadata (setup.py) ... \u001b[?25l\u001b[?25hdone\n",
            "Collecting fbm<0.4.0,>=0.3.0\n",
            "  Downloading fbm-0.3.0-py3-none-any.whl (9.4 kB)\n",
            "Requirement already satisfied: pandas<2.0,>=1.1 in /usr/local/lib/python3.9/dist-packages (from wearipedia==0.1.2) (1.4.4)\n",
            "Collecting garminconnect<0.2.0,>=0.1.48\n",
            "  Downloading garminconnect-0.1.54.tar.gz (20 kB)\n",
            "  Preparing metadata (setup.py) ... \u001b[?25l\u001b[?25hdone\n",
            "Requirement already satisfied: tqdm<5.0.0,>=4.64.1 in /usr/local/lib/python3.9/dist-packages (from wearipedia==0.1.2) (4.65.0)\n",
            "Collecting typer[all]<0.7.0,>=0.6.1\n",
            "  Downloading typer-0.6.1-py3-none-any.whl (38 kB)\n",
            "Collecting rich<13.0.0,>=12.6.0\n",
            "  Downloading rich-12.6.0-py3-none-any.whl (237 kB)\n",
            "\u001b[2K     \u001b[90m━━━━━━━━━━━━━━━━━━━━━━━━━━━━━━━━━━━━━━━\u001b[0m \u001b[32m237.5/237.5 KB\u001b[0m \u001b[31m9.3 MB/s\u001b[0m eta \u001b[36m0:00:00\u001b[0m\n",
            "\u001b[?25hRequirement already satisfied: numpy in /usr/local/lib/python3.9/dist-packages (from fbm<0.4.0,>=0.3.0->wearipedia==0.1.2) (1.22.4)\n",
            "Requirement already satisfied: requests in /usr/local/lib/python3.9/dist-packages (from garminconnect<0.2.0,>=0.1.48->wearipedia==0.1.2) (2.27.1)\n",
            "Collecting cloudscraper\n",
            "  Downloading cloudscraper-1.2.69-py2.py3-none-any.whl (99 kB)\n",
            "\u001b[2K     \u001b[90m━━━━━━━━━━━━━━━━━━━━━━━━━━━━━━━━━━━━━━━━\u001b[0m \u001b[32m99.7/99.7 KB\u001b[0m \u001b[31m8.9 MB/s\u001b[0m eta \u001b[36m0:00:00\u001b[0m\n",
            "\u001b[?25hRequirement already satisfied: python-dateutil>=2.8.1 in /usr/local/lib/python3.9/dist-packages (from pandas<2.0,>=1.1->wearipedia==0.1.2) (2.8.2)\n",
            "Requirement already satisfied: pytz>=2020.1 in /usr/local/lib/python3.9/dist-packages (from pandas<2.0,>=1.1->wearipedia==0.1.2) (2022.7.1)\n",
            "Collecting commonmark<0.10.0,>=0.9.0\n",
            "  Downloading commonmark-0.9.1-py2.py3-none-any.whl (51 kB)\n",
            "\u001b[2K     \u001b[90m━━━━━━━━━━━━━━━━━━━━━━━━━━━━━━━━━━━━━━━━\u001b[0m \u001b[32m51.1/51.1 KB\u001b[0m \u001b[31m5.4 MB/s\u001b[0m eta \u001b[36m0:00:00\u001b[0m\n",
            "\u001b[?25hRequirement already satisfied: pygments<3.0.0,>=2.6.0 in /usr/local/lib/python3.9/dist-packages (from rich<13.0.0,>=12.6.0->wearipedia==0.1.2) (2.6.1)\n",
            "Requirement already satisfied: click<9.0.0,>=7.1.1 in /usr/local/lib/python3.9/dist-packages (from typer[all]<0.7.0,>=0.6.1->wearipedia==0.1.2) (8.1.3)\n",
            "Collecting shellingham<2.0.0,>=1.3.0\n",
            "  Downloading shellingham-1.5.0.post1-py2.py3-none-any.whl (9.4 kB)\n",
            "Collecting colorama<0.5.0,>=0.4.3\n",
            "  Downloading colorama-0.4.6-py2.py3-none-any.whl (25 kB)\n",
            "Requirement already satisfied: six>=1.5 in /usr/local/lib/python3.9/dist-packages (from python-dateutil>=2.8.1->pandas<2.0,>=1.1->wearipedia==0.1.2) (1.16.0)\n",
            "Collecting requests-toolbelt>=0.9.1\n",
            "  Downloading requests_toolbelt-0.10.1-py2.py3-none-any.whl (54 kB)\n",
            "\u001b[2K     \u001b[90m━━━━━━━━━━━━━━━━━━━━━━━━━━━━━━━━━━━━━━━━\u001b[0m \u001b[32m54.5/54.5 KB\u001b[0m \u001b[31m5.9 MB/s\u001b[0m eta \u001b[36m0:00:00\u001b[0m\n",
            "\u001b[?25hRequirement already satisfied: pyparsing>=2.4.7 in /usr/local/lib/python3.9/dist-packages (from cloudscraper->garminconnect<0.2.0,>=0.1.48->wearipedia==0.1.2) (3.0.9)\n",
            "Requirement already satisfied: charset-normalizer~=2.0.0 in /usr/local/lib/python3.9/dist-packages (from requests->garminconnect<0.2.0,>=0.1.48->wearipedia==0.1.2) (2.0.12)\n",
            "Requirement already satisfied: urllib3<1.27,>=1.21.1 in /usr/local/lib/python3.9/dist-packages (from requests->garminconnect<0.2.0,>=0.1.48->wearipedia==0.1.2) (1.26.15)\n",
            "Requirement already satisfied: certifi>=2017.4.17 in /usr/local/lib/python3.9/dist-packages (from requests->garminconnect<0.2.0,>=0.1.48->wearipedia==0.1.2) (2022.12.7)\n",
            "Requirement already satisfied: idna<4,>=2.5 in /usr/local/lib/python3.9/dist-packages (from requests->garminconnect<0.2.0,>=0.1.48->wearipedia==0.1.2) (3.4)\n",
            "Building wheels for collected packages: wearipedia, garminconnect, wget\n",
            "  Building wheel for wearipedia (pyproject.toml) ... \u001b[?25l\u001b[?25hdone\n",
            "  Created wheel for wearipedia: filename=wearipedia-0.1.2-py3-none-any.whl size=51992 sha256=ec527d703ad114eeed1fa2ea099cfd880642e1b583dcbc80859b76920e7e1c1b\n",
            "  Stored in directory: /tmp/pip-ephem-wheel-cache-b9yr1hk6/wheels/2f/96/30/8777e9ebf1774ada434910b96324288fe0eadced9f142d4fbc\n",
            "  Building wheel for garminconnect (setup.py) ... \u001b[?25l\u001b[?25hdone\n",
            "  Created wheel for garminconnect: filename=garminconnect-0.1.54-py3-none-any.whl size=13614 sha256=2c5e08cfbdbf29415759ad0bf6dc71217643ec2d2fdde787bf83cbdecb902fe0\n",
            "  Stored in directory: /root/.cache/pip/wheels/d9/3b/2a/0a0197cc2be72da01e358dc415929a0fc322de18c96c58b68d\n",
            "  Building wheel for wget (setup.py) ... \u001b[?25l\u001b[?25hdone\n",
            "  Created wheel for wget: filename=wget-3.2-py3-none-any.whl size=9676 sha256=2e07e117b6877607b285e6b56002df1dff00b68553667925fa53462eea586760\n",
            "  Stored in directory: /root/.cache/pip/wheels/04/5f/3e/46cc37c5d698415694d83f607f833f83f0149e49b3af9d0f38\n",
            "Successfully built wearipedia garminconnect wget\n",
            "Installing collected packages: wget, commonmark, typer, shellingham, rich, fbm, colorama, requests-toolbelt, cloudscraper, garminconnect, wearipedia\n",
            "  Attempting uninstall: typer\n",
            "    Found existing installation: typer 0.7.0\n",
            "    Uninstalling typer-0.7.0:\n",
            "      Successfully uninstalled typer-0.7.0\n",
            "Successfully installed cloudscraper-1.2.69 colorama-0.4.6 commonmark-0.9.1 fbm-0.3.0 garminconnect-0.1.54 requests-toolbelt-0.10.1 rich-12.6.0 shellingham-1.5.0.post1 typer-0.6.1 wearipedia-0.1.2 wget-3.2\n"
          ]
        }
      ]
    },
    {
      "cell_type": "markdown",
      "source": [
        "# 2. Authentication/Authorization\n",
        "\n",
        "To obtain access to data, authorization is required. All you'll need to do here is just put in your email and password for your nutrisense account. We'll use this username and password to extract the data in the sections below."
      ],
      "metadata": {
        "id": "MYztPubjgX_f"
      }
    },
    {
      "cell_type": "code",
      "source": [
        "#@title Enter Nutrisense login credentials\n",
        "email_address = \"jjhung66@stanford.edu\" #@param {type:\"string\"}\n",
        "password = \"Nutrisense2023\" #@param {type:\"string\"}"
      ],
      "metadata": {
        "id": "hAbsFbuZhBiP",
        "cellView": "form"
      },
      "execution_count": null,
      "outputs": []
    },
    {
      "cell_type": "markdown",
      "source": [
        "# 3. Data Extraction\n",
        "\n",
        "Data can be extracted via [wearipedia](https://github.com/Stanford-Health/wearipedia/), our open-source Python package that unifies dozens of complex wearable device APIs into one simple, common interface.\n",
        "\n",
        "First, we'll set a date range and then extract all of the data within that date range. You can select whether you would like synthetic data or not with the checkbox."
      ],
      "metadata": {
        "id": "6iHF2-kagcQc"
      }
    },
    {
      "cell_type": "code",
      "source": [
        "#@title Enter start and end dates (in the format yyyy-mm-dd)\n",
        "\n",
        "#set start and end dates - this will give you all the data from 2000-01-01 (January 1st, 2000) to 2100-02-03 (February 3rd, 2100), for example\n",
        "start_date='2023-02-10' #@param {type:\"string\"}\n",
        "end_date='2023-02-10' #@param {type:\"string\"}\n",
        "synthetic = False #@param {type:\"boolean\"}"
      ],
      "metadata": {
        "id": "puUo4f7bhYk8",
        "cellView": "form"
      },
      "execution_count": null,
      "outputs": []
    },
    {
      "cell_type": "code",
      "source": [
        "import wearipedia\n",
        "\n",
        "device = wearipedia.get_device(\"nutrisense/cgm\")\n",
        "\n",
        "if not synthetic:\n",
        "    device.authenticate({\"email\": email_address, \"password\": password})\n",
        "\n",
        "params = {\"start_date\": start_date, \"end_date\": end_date}\n",
        "\n",
        "continuous = device.get_data(\"continuous\", params=params)\n",
        "statistics = device.get_data(\"statistics\", params=params)\n",
        "scoremain = device.get_data(\"scores\", params=params)\n",
        "summary = device.get_data(\"summary\", params=params)\n",
        "print(scoremain)"
      ],
      "metadata": {
        "id": "-3yf-G4CPyZ6",
        "colab": {
          "base_uri": "https://localhost:8080/"
        },
        "outputId": "d7cbdf66-b98a-46dc-ef72-105ba743471e"
      },
      "execution_count": null,
      "outputs": [
        {
          "output_type": "stream",
          "name": "stdout",
          "text": [
            "{'scoreTimeOutsideRange': 3, 'scorePeak': 1, 'scoreMean': 3, 'scoreStdDev': 8, 'score': 4, '__typename': 'DailyScore'}\n"
          ]
        }
      ]
    },
    {
      "cell_type": "markdown",
      "source": [
        "# 4. Data Exporting"
      ],
      "metadata": {
        "id": "TyC9aya7gd2f"
      }
    },
    {
      "cell_type": "markdown",
      "source": [
        "In this section, we export all of this data to formats compatible with popular scientific computing software (R, Excel, Google Sheets, Matlab). Specifically, we will first export to JSON, which can be read by R and Matlab. Then, we will export to CSV, which can be consumed by Excel, Google Sheets, and every other popular programming language.\n",
        "\n",
        "## Exporting to JSON (R, Matlab, etc.)\n",
        "\n",
        "Exporting to JSON is fairly simple. We export each datatype separately and also export a complete version that includes all simultaneously."
      ],
      "metadata": {
        "id": "qOkOh_7y-4tk"
      }
    },
    {
      "cell_type": "code",
      "source": [
        "import json\n",
        "\n",
        "json.dump(continuous, open(\"continuous.json\", \"w\"))\n",
        "json.dump(statistics, open(\"statistics.json\", \"w\"))\n",
        "json.dump(scoremain, open(\"scores.json\", \"w\"))\n",
        "json.dump(summary, open(\"summary.json\", \"w\"))\n",
        "\n",
        "complete = {\n",
        "    \"continuous\": continuous,\n",
        "    \"statistics\": statistics,\n",
        "    \"scores\": scoremain,\n",
        "    \"summary\": summary\n",
        "}\n",
        "\n",
        "json.dump(complete, open(\"complete.json\", \"w\"))"
      ],
      "metadata": {
        "id": "F-YvOQ9b_ASD"
      },
      "execution_count": null,
      "outputs": []
    },
    {
      "cell_type": "markdown",
      "source": [
        "Feel free to open the file viewer (see left pane) to look at the outputs!\n",
        "\n",
        "## Exporting to CSV and XLSX (Excel, Google Sheets, R, Matlab, etc.)\n",
        "\n",
        "Exporting to CSV/XLSX requires a bit more processing, since they enforce a pretty restrictive schema.\n",
        "\n",
        "Here we will put the continuous glucose data into a dataframe."
      ],
      "metadata": {
        "id": "PfJ-NuNl_Avl"
      }
    },
    {
      "cell_type": "code",
      "source": [
        "import pandas as pd\n",
        "import copy\n",
        "\n",
        "# glucose scores dataframe\n",
        "data = None\n",
        "for elem in continuous:\n",
        "  t = pd.DataFrame({'time': [elem['x']], 'level': [elem['y']], 'interpolated': [elem['interpolated']]})\n",
        "  if str(type(data)) == \"<class 'NoneType'>\":\n",
        "    data = t\n",
        "  else:\n",
        "    data = data.append(copy.deepcopy(t))\n",
        "\n",
        "display(data)"
      ],
      "metadata": {
        "colab": {
          "base_uri": "https://localhost:8080/",
          "height": 1000
        },
        "id": "nTHM-QzTAFRd",
        "outputId": "721714dc-ac92-4c34-95ef-f5aa1a81faa7"
      },
      "execution_count": null,
      "outputs": [
        {
          "output_type": "stream",
          "name": "stderr",
          "text": [
            "<ipython-input-6-9ce4063f7c7a>:11: FutureWarning: The frame.append method is deprecated and will be removed from pandas in a future version. Use pandas.concat instead.\n",
            "  data = data.append(copy.deepcopy(t))\n",
            "<ipython-input-6-9ce4063f7c7a>:11: FutureWarning: The frame.append method is deprecated and will be removed from pandas in a future version. Use pandas.concat instead.\n",
            "  data = data.append(copy.deepcopy(t))\n",
            "<ipython-input-6-9ce4063f7c7a>:11: FutureWarning: The frame.append method is deprecated and will be removed from pandas in a future version. Use pandas.concat instead.\n",
            "  data = data.append(copy.deepcopy(t))\n",
            "<ipython-input-6-9ce4063f7c7a>:11: FutureWarning: The frame.append method is deprecated and will be removed from pandas in a future version. Use pandas.concat instead.\n",
            "  data = data.append(copy.deepcopy(t))\n",
            "<ipython-input-6-9ce4063f7c7a>:11: FutureWarning: The frame.append method is deprecated and will be removed from pandas in a future version. Use pandas.concat instead.\n",
            "  data = data.append(copy.deepcopy(t))\n",
            "<ipython-input-6-9ce4063f7c7a>:11: FutureWarning: The frame.append method is deprecated and will be removed from pandas in a future version. Use pandas.concat instead.\n",
            "  data = data.append(copy.deepcopy(t))\n",
            "<ipython-input-6-9ce4063f7c7a>:11: FutureWarning: The frame.append method is deprecated and will be removed from pandas in a future version. Use pandas.concat instead.\n",
            "  data = data.append(copy.deepcopy(t))\n",
            "<ipython-input-6-9ce4063f7c7a>:11: FutureWarning: The frame.append method is deprecated and will be removed from pandas in a future version. Use pandas.concat instead.\n",
            "  data = data.append(copy.deepcopy(t))\n",
            "<ipython-input-6-9ce4063f7c7a>:11: FutureWarning: The frame.append method is deprecated and will be removed from pandas in a future version. Use pandas.concat instead.\n",
            "  data = data.append(copy.deepcopy(t))\n",
            "<ipython-input-6-9ce4063f7c7a>:11: FutureWarning: The frame.append method is deprecated and will be removed from pandas in a future version. Use pandas.concat instead.\n",
            "  data = data.append(copy.deepcopy(t))\n",
            "<ipython-input-6-9ce4063f7c7a>:11: FutureWarning: The frame.append method is deprecated and will be removed from pandas in a future version. Use pandas.concat instead.\n",
            "  data = data.append(copy.deepcopy(t))\n",
            "<ipython-input-6-9ce4063f7c7a>:11: FutureWarning: The frame.append method is deprecated and will be removed from pandas in a future version. Use pandas.concat instead.\n",
            "  data = data.append(copy.deepcopy(t))\n",
            "<ipython-input-6-9ce4063f7c7a>:11: FutureWarning: The frame.append method is deprecated and will be removed from pandas in a future version. Use pandas.concat instead.\n",
            "  data = data.append(copy.deepcopy(t))\n",
            "<ipython-input-6-9ce4063f7c7a>:11: FutureWarning: The frame.append method is deprecated and will be removed from pandas in a future version. Use pandas.concat instead.\n",
            "  data = data.append(copy.deepcopy(t))\n",
            "<ipython-input-6-9ce4063f7c7a>:11: FutureWarning: The frame.append method is deprecated and will be removed from pandas in a future version. Use pandas.concat instead.\n",
            "  data = data.append(copy.deepcopy(t))\n",
            "<ipython-input-6-9ce4063f7c7a>:11: FutureWarning: The frame.append method is deprecated and will be removed from pandas in a future version. Use pandas.concat instead.\n",
            "  data = data.append(copy.deepcopy(t))\n",
            "<ipython-input-6-9ce4063f7c7a>:11: FutureWarning: The frame.append method is deprecated and will be removed from pandas in a future version. Use pandas.concat instead.\n",
            "  data = data.append(copy.deepcopy(t))\n",
            "<ipython-input-6-9ce4063f7c7a>:11: FutureWarning: The frame.append method is deprecated and will be removed from pandas in a future version. Use pandas.concat instead.\n",
            "  data = data.append(copy.deepcopy(t))\n",
            "<ipython-input-6-9ce4063f7c7a>:11: FutureWarning: The frame.append method is deprecated and will be removed from pandas in a future version. Use pandas.concat instead.\n",
            "  data = data.append(copy.deepcopy(t))\n",
            "<ipython-input-6-9ce4063f7c7a>:11: FutureWarning: The frame.append method is deprecated and will be removed from pandas in a future version. Use pandas.concat instead.\n",
            "  data = data.append(copy.deepcopy(t))\n",
            "<ipython-input-6-9ce4063f7c7a>:11: FutureWarning: The frame.append method is deprecated and will be removed from pandas in a future version. Use pandas.concat instead.\n",
            "  data = data.append(copy.deepcopy(t))\n",
            "<ipython-input-6-9ce4063f7c7a>:11: FutureWarning: The frame.append method is deprecated and will be removed from pandas in a future version. Use pandas.concat instead.\n",
            "  data = data.append(copy.deepcopy(t))\n",
            "<ipython-input-6-9ce4063f7c7a>:11: FutureWarning: The frame.append method is deprecated and will be removed from pandas in a future version. Use pandas.concat instead.\n",
            "  data = data.append(copy.deepcopy(t))\n",
            "<ipython-input-6-9ce4063f7c7a>:11: FutureWarning: The frame.append method is deprecated and will be removed from pandas in a future version. Use pandas.concat instead.\n",
            "  data = data.append(copy.deepcopy(t))\n",
            "<ipython-input-6-9ce4063f7c7a>:11: FutureWarning: The frame.append method is deprecated and will be removed from pandas in a future version. Use pandas.concat instead.\n",
            "  data = data.append(copy.deepcopy(t))\n",
            "<ipython-input-6-9ce4063f7c7a>:11: FutureWarning: The frame.append method is deprecated and will be removed from pandas in a future version. Use pandas.concat instead.\n",
            "  data = data.append(copy.deepcopy(t))\n",
            "<ipython-input-6-9ce4063f7c7a>:11: FutureWarning: The frame.append method is deprecated and will be removed from pandas in a future version. Use pandas.concat instead.\n",
            "  data = data.append(copy.deepcopy(t))\n",
            "<ipython-input-6-9ce4063f7c7a>:11: FutureWarning: The frame.append method is deprecated and will be removed from pandas in a future version. Use pandas.concat instead.\n",
            "  data = data.append(copy.deepcopy(t))\n",
            "<ipython-input-6-9ce4063f7c7a>:11: FutureWarning: The frame.append method is deprecated and will be removed from pandas in a future version. Use pandas.concat instead.\n",
            "  data = data.append(copy.deepcopy(t))\n",
            "<ipython-input-6-9ce4063f7c7a>:11: FutureWarning: The frame.append method is deprecated and will be removed from pandas in a future version. Use pandas.concat instead.\n",
            "  data = data.append(copy.deepcopy(t))\n",
            "<ipython-input-6-9ce4063f7c7a>:11: FutureWarning: The frame.append method is deprecated and will be removed from pandas in a future version. Use pandas.concat instead.\n",
            "  data = data.append(copy.deepcopy(t))\n",
            "<ipython-input-6-9ce4063f7c7a>:11: FutureWarning: The frame.append method is deprecated and will be removed from pandas in a future version. Use pandas.concat instead.\n",
            "  data = data.append(copy.deepcopy(t))\n",
            "<ipython-input-6-9ce4063f7c7a>:11: FutureWarning: The frame.append method is deprecated and will be removed from pandas in a future version. Use pandas.concat instead.\n",
            "  data = data.append(copy.deepcopy(t))\n",
            "<ipython-input-6-9ce4063f7c7a>:11: FutureWarning: The frame.append method is deprecated and will be removed from pandas in a future version. Use pandas.concat instead.\n",
            "  data = data.append(copy.deepcopy(t))\n",
            "<ipython-input-6-9ce4063f7c7a>:11: FutureWarning: The frame.append method is deprecated and will be removed from pandas in a future version. Use pandas.concat instead.\n",
            "  data = data.append(copy.deepcopy(t))\n",
            "<ipython-input-6-9ce4063f7c7a>:11: FutureWarning: The frame.append method is deprecated and will be removed from pandas in a future version. Use pandas.concat instead.\n",
            "  data = data.append(copy.deepcopy(t))\n",
            "<ipython-input-6-9ce4063f7c7a>:11: FutureWarning: The frame.append method is deprecated and will be removed from pandas in a future version. Use pandas.concat instead.\n",
            "  data = data.append(copy.deepcopy(t))\n",
            "<ipython-input-6-9ce4063f7c7a>:11: FutureWarning: The frame.append method is deprecated and will be removed from pandas in a future version. Use pandas.concat instead.\n",
            "  data = data.append(copy.deepcopy(t))\n",
            "<ipython-input-6-9ce4063f7c7a>:11: FutureWarning: The frame.append method is deprecated and will be removed from pandas in a future version. Use pandas.concat instead.\n",
            "  data = data.append(copy.deepcopy(t))\n",
            "<ipython-input-6-9ce4063f7c7a>:11: FutureWarning: The frame.append method is deprecated and will be removed from pandas in a future version. Use pandas.concat instead.\n",
            "  data = data.append(copy.deepcopy(t))\n",
            "<ipython-input-6-9ce4063f7c7a>:11: FutureWarning: The frame.append method is deprecated and will be removed from pandas in a future version. Use pandas.concat instead.\n",
            "  data = data.append(copy.deepcopy(t))\n",
            "<ipython-input-6-9ce4063f7c7a>:11: FutureWarning: The frame.append method is deprecated and will be removed from pandas in a future version. Use pandas.concat instead.\n",
            "  data = data.append(copy.deepcopy(t))\n",
            "<ipython-input-6-9ce4063f7c7a>:11: FutureWarning: The frame.append method is deprecated and will be removed from pandas in a future version. Use pandas.concat instead.\n",
            "  data = data.append(copy.deepcopy(t))\n",
            "<ipython-input-6-9ce4063f7c7a>:11: FutureWarning: The frame.append method is deprecated and will be removed from pandas in a future version. Use pandas.concat instead.\n",
            "  data = data.append(copy.deepcopy(t))\n",
            "<ipython-input-6-9ce4063f7c7a>:11: FutureWarning: The frame.append method is deprecated and will be removed from pandas in a future version. Use pandas.concat instead.\n",
            "  data = data.append(copy.deepcopy(t))\n",
            "<ipython-input-6-9ce4063f7c7a>:11: FutureWarning: The frame.append method is deprecated and will be removed from pandas in a future version. Use pandas.concat instead.\n",
            "  data = data.append(copy.deepcopy(t))\n",
            "<ipython-input-6-9ce4063f7c7a>:11: FutureWarning: The frame.append method is deprecated and will be removed from pandas in a future version. Use pandas.concat instead.\n",
            "  data = data.append(copy.deepcopy(t))\n",
            "<ipython-input-6-9ce4063f7c7a>:11: FutureWarning: The frame.append method is deprecated and will be removed from pandas in a future version. Use pandas.concat instead.\n",
            "  data = data.append(copy.deepcopy(t))\n",
            "<ipython-input-6-9ce4063f7c7a>:11: FutureWarning: The frame.append method is deprecated and will be removed from pandas in a future version. Use pandas.concat instead.\n",
            "  data = data.append(copy.deepcopy(t))\n",
            "<ipython-input-6-9ce4063f7c7a>:11: FutureWarning: The frame.append method is deprecated and will be removed from pandas in a future version. Use pandas.concat instead.\n",
            "  data = data.append(copy.deepcopy(t))\n",
            "<ipython-input-6-9ce4063f7c7a>:11: FutureWarning: The frame.append method is deprecated and will be removed from pandas in a future version. Use pandas.concat instead.\n",
            "  data = data.append(copy.deepcopy(t))\n",
            "<ipython-input-6-9ce4063f7c7a>:11: FutureWarning: The frame.append method is deprecated and will be removed from pandas in a future version. Use pandas.concat instead.\n",
            "  data = data.append(copy.deepcopy(t))\n",
            "<ipython-input-6-9ce4063f7c7a>:11: FutureWarning: The frame.append method is deprecated and will be removed from pandas in a future version. Use pandas.concat instead.\n",
            "  data = data.append(copy.deepcopy(t))\n",
            "<ipython-input-6-9ce4063f7c7a>:11: FutureWarning: The frame.append method is deprecated and will be removed from pandas in a future version. Use pandas.concat instead.\n",
            "  data = data.append(copy.deepcopy(t))\n",
            "<ipython-input-6-9ce4063f7c7a>:11: FutureWarning: The frame.append method is deprecated and will be removed from pandas in a future version. Use pandas.concat instead.\n",
            "  data = data.append(copy.deepcopy(t))\n",
            "<ipython-input-6-9ce4063f7c7a>:11: FutureWarning: The frame.append method is deprecated and will be removed from pandas in a future version. Use pandas.concat instead.\n",
            "  data = data.append(copy.deepcopy(t))\n",
            "<ipython-input-6-9ce4063f7c7a>:11: FutureWarning: The frame.append method is deprecated and will be removed from pandas in a future version. Use pandas.concat instead.\n",
            "  data = data.append(copy.deepcopy(t))\n",
            "<ipython-input-6-9ce4063f7c7a>:11: FutureWarning: The frame.append method is deprecated and will be removed from pandas in a future version. Use pandas.concat instead.\n",
            "  data = data.append(copy.deepcopy(t))\n",
            "<ipython-input-6-9ce4063f7c7a>:11: FutureWarning: The frame.append method is deprecated and will be removed from pandas in a future version. Use pandas.concat instead.\n",
            "  data = data.append(copy.deepcopy(t))\n",
            "<ipython-input-6-9ce4063f7c7a>:11: FutureWarning: The frame.append method is deprecated and will be removed from pandas in a future version. Use pandas.concat instead.\n",
            "  data = data.append(copy.deepcopy(t))\n",
            "<ipython-input-6-9ce4063f7c7a>:11: FutureWarning: The frame.append method is deprecated and will be removed from pandas in a future version. Use pandas.concat instead.\n",
            "  data = data.append(copy.deepcopy(t))\n",
            "<ipython-input-6-9ce4063f7c7a>:11: FutureWarning: The frame.append method is deprecated and will be removed from pandas in a future version. Use pandas.concat instead.\n",
            "  data = data.append(copy.deepcopy(t))\n",
            "<ipython-input-6-9ce4063f7c7a>:11: FutureWarning: The frame.append method is deprecated and will be removed from pandas in a future version. Use pandas.concat instead.\n",
            "  data = data.append(copy.deepcopy(t))\n",
            "<ipython-input-6-9ce4063f7c7a>:11: FutureWarning: The frame.append method is deprecated and will be removed from pandas in a future version. Use pandas.concat instead.\n",
            "  data = data.append(copy.deepcopy(t))\n",
            "<ipython-input-6-9ce4063f7c7a>:11: FutureWarning: The frame.append method is deprecated and will be removed from pandas in a future version. Use pandas.concat instead.\n",
            "  data = data.append(copy.deepcopy(t))\n",
            "<ipython-input-6-9ce4063f7c7a>:11: FutureWarning: The frame.append method is deprecated and will be removed from pandas in a future version. Use pandas.concat instead.\n",
            "  data = data.append(copy.deepcopy(t))\n",
            "<ipython-input-6-9ce4063f7c7a>:11: FutureWarning: The frame.append method is deprecated and will be removed from pandas in a future version. Use pandas.concat instead.\n",
            "  data = data.append(copy.deepcopy(t))\n",
            "<ipython-input-6-9ce4063f7c7a>:11: FutureWarning: The frame.append method is deprecated and will be removed from pandas in a future version. Use pandas.concat instead.\n",
            "  data = data.append(copy.deepcopy(t))\n",
            "<ipython-input-6-9ce4063f7c7a>:11: FutureWarning: The frame.append method is deprecated and will be removed from pandas in a future version. Use pandas.concat instead.\n",
            "  data = data.append(copy.deepcopy(t))\n",
            "<ipython-input-6-9ce4063f7c7a>:11: FutureWarning: The frame.append method is deprecated and will be removed from pandas in a future version. Use pandas.concat instead.\n",
            "  data = data.append(copy.deepcopy(t))\n",
            "<ipython-input-6-9ce4063f7c7a>:11: FutureWarning: The frame.append method is deprecated and will be removed from pandas in a future version. Use pandas.concat instead.\n",
            "  data = data.append(copy.deepcopy(t))\n",
            "<ipython-input-6-9ce4063f7c7a>:11: FutureWarning: The frame.append method is deprecated and will be removed from pandas in a future version. Use pandas.concat instead.\n",
            "  data = data.append(copy.deepcopy(t))\n",
            "<ipython-input-6-9ce4063f7c7a>:11: FutureWarning: The frame.append method is deprecated and will be removed from pandas in a future version. Use pandas.concat instead.\n",
            "  data = data.append(copy.deepcopy(t))\n",
            "<ipython-input-6-9ce4063f7c7a>:11: FutureWarning: The frame.append method is deprecated and will be removed from pandas in a future version. Use pandas.concat instead.\n",
            "  data = data.append(copy.deepcopy(t))\n",
            "<ipython-input-6-9ce4063f7c7a>:11: FutureWarning: The frame.append method is deprecated and will be removed from pandas in a future version. Use pandas.concat instead.\n",
            "  data = data.append(copy.deepcopy(t))\n",
            "<ipython-input-6-9ce4063f7c7a>:11: FutureWarning: The frame.append method is deprecated and will be removed from pandas in a future version. Use pandas.concat instead.\n",
            "  data = data.append(copy.deepcopy(t))\n",
            "<ipython-input-6-9ce4063f7c7a>:11: FutureWarning: The frame.append method is deprecated and will be removed from pandas in a future version. Use pandas.concat instead.\n",
            "  data = data.append(copy.deepcopy(t))\n",
            "<ipython-input-6-9ce4063f7c7a>:11: FutureWarning: The frame.append method is deprecated and will be removed from pandas in a future version. Use pandas.concat instead.\n",
            "  data = data.append(copy.deepcopy(t))\n",
            "<ipython-input-6-9ce4063f7c7a>:11: FutureWarning: The frame.append method is deprecated and will be removed from pandas in a future version. Use pandas.concat instead.\n",
            "  data = data.append(copy.deepcopy(t))\n",
            "<ipython-input-6-9ce4063f7c7a>:11: FutureWarning: The frame.append method is deprecated and will be removed from pandas in a future version. Use pandas.concat instead.\n",
            "  data = data.append(copy.deepcopy(t))\n",
            "<ipython-input-6-9ce4063f7c7a>:11: FutureWarning: The frame.append method is deprecated and will be removed from pandas in a future version. Use pandas.concat instead.\n",
            "  data = data.append(copy.deepcopy(t))\n",
            "<ipython-input-6-9ce4063f7c7a>:11: FutureWarning: The frame.append method is deprecated and will be removed from pandas in a future version. Use pandas.concat instead.\n",
            "  data = data.append(copy.deepcopy(t))\n",
            "<ipython-input-6-9ce4063f7c7a>:11: FutureWarning: The frame.append method is deprecated and will be removed from pandas in a future version. Use pandas.concat instead.\n",
            "  data = data.append(copy.deepcopy(t))\n",
            "<ipython-input-6-9ce4063f7c7a>:11: FutureWarning: The frame.append method is deprecated and will be removed from pandas in a future version. Use pandas.concat instead.\n",
            "  data = data.append(copy.deepcopy(t))\n",
            "<ipython-input-6-9ce4063f7c7a>:11: FutureWarning: The frame.append method is deprecated and will be removed from pandas in a future version. Use pandas.concat instead.\n",
            "  data = data.append(copy.deepcopy(t))\n",
            "<ipython-input-6-9ce4063f7c7a>:11: FutureWarning: The frame.append method is deprecated and will be removed from pandas in a future version. Use pandas.concat instead.\n",
            "  data = data.append(copy.deepcopy(t))\n",
            "<ipython-input-6-9ce4063f7c7a>:11: FutureWarning: The frame.append method is deprecated and will be removed from pandas in a future version. Use pandas.concat instead.\n",
            "  data = data.append(copy.deepcopy(t))\n",
            "<ipython-input-6-9ce4063f7c7a>:11: FutureWarning: The frame.append method is deprecated and will be removed from pandas in a future version. Use pandas.concat instead.\n",
            "  data = data.append(copy.deepcopy(t))\n",
            "<ipython-input-6-9ce4063f7c7a>:11: FutureWarning: The frame.append method is deprecated and will be removed from pandas in a future version. Use pandas.concat instead.\n",
            "  data = data.append(copy.deepcopy(t))\n",
            "<ipython-input-6-9ce4063f7c7a>:11: FutureWarning: The frame.append method is deprecated and will be removed from pandas in a future version. Use pandas.concat instead.\n",
            "  data = data.append(copy.deepcopy(t))\n",
            "<ipython-input-6-9ce4063f7c7a>:11: FutureWarning: The frame.append method is deprecated and will be removed from pandas in a future version. Use pandas.concat instead.\n",
            "  data = data.append(copy.deepcopy(t))\n",
            "<ipython-input-6-9ce4063f7c7a>:11: FutureWarning: The frame.append method is deprecated and will be removed from pandas in a future version. Use pandas.concat instead.\n",
            "  data = data.append(copy.deepcopy(t))\n",
            "<ipython-input-6-9ce4063f7c7a>:11: FutureWarning: The frame.append method is deprecated and will be removed from pandas in a future version. Use pandas.concat instead.\n",
            "  data = data.append(copy.deepcopy(t))\n",
            "<ipython-input-6-9ce4063f7c7a>:11: FutureWarning: The frame.append method is deprecated and will be removed from pandas in a future version. Use pandas.concat instead.\n",
            "  data = data.append(copy.deepcopy(t))\n",
            "<ipython-input-6-9ce4063f7c7a>:11: FutureWarning: The frame.append method is deprecated and will be removed from pandas in a future version. Use pandas.concat instead.\n",
            "  data = data.append(copy.deepcopy(t))\n"
          ]
        },
        {
          "output_type": "display_data",
          "data": {
            "text/plain": [
              "                         time  level  interpolated\n",
              "0   2023-02-10T00:00:00-08:00  128.0          True\n",
              "0   2023-02-10T00:03:33-08:00  128.0         False\n",
              "0   2023-02-10T00:18:33-08:00  111.0         False\n",
              "0   2023-02-10T00:33:33-08:00  106.0         False\n",
              "0   2023-02-10T00:48:33-08:00  109.0         False\n",
              "..                        ...    ...           ...\n",
              "0   2023-02-10T23:04:22-08:00  114.0         False\n",
              "0   2023-02-10T23:19:22-08:00  107.0         False\n",
              "0   2023-02-10T23:34:22-08:00  121.0         False\n",
              "0   2023-02-10T23:49:22-08:00  151.0         False\n",
              "0   2023-02-10T23:59:59-08:00  151.0          True\n",
              "\n",
              "[97 rows x 3 columns]"
            ],
            "text/html": [
              "\n",
              "  <div id=\"df-f86439e7-8e00-4d06-ae92-54625e262613\">\n",
              "    <div class=\"colab-df-container\">\n",
              "      <div>\n",
              "<style scoped>\n",
              "    .dataframe tbody tr th:only-of-type {\n",
              "        vertical-align: middle;\n",
              "    }\n",
              "\n",
              "    .dataframe tbody tr th {\n",
              "        vertical-align: top;\n",
              "    }\n",
              "\n",
              "    .dataframe thead th {\n",
              "        text-align: right;\n",
              "    }\n",
              "</style>\n",
              "<table border=\"1\" class=\"dataframe\">\n",
              "  <thead>\n",
              "    <tr style=\"text-align: right;\">\n",
              "      <th></th>\n",
              "      <th>time</th>\n",
              "      <th>level</th>\n",
              "      <th>interpolated</th>\n",
              "    </tr>\n",
              "  </thead>\n",
              "  <tbody>\n",
              "    <tr>\n",
              "      <th>0</th>\n",
              "      <td>2023-02-10T00:00:00-08:00</td>\n",
              "      <td>128.0</td>\n",
              "      <td>True</td>\n",
              "    </tr>\n",
              "    <tr>\n",
              "      <th>0</th>\n",
              "      <td>2023-02-10T00:03:33-08:00</td>\n",
              "      <td>128.0</td>\n",
              "      <td>False</td>\n",
              "    </tr>\n",
              "    <tr>\n",
              "      <th>0</th>\n",
              "      <td>2023-02-10T00:18:33-08:00</td>\n",
              "      <td>111.0</td>\n",
              "      <td>False</td>\n",
              "    </tr>\n",
              "    <tr>\n",
              "      <th>0</th>\n",
              "      <td>2023-02-10T00:33:33-08:00</td>\n",
              "      <td>106.0</td>\n",
              "      <td>False</td>\n",
              "    </tr>\n",
              "    <tr>\n",
              "      <th>0</th>\n",
              "      <td>2023-02-10T00:48:33-08:00</td>\n",
              "      <td>109.0</td>\n",
              "      <td>False</td>\n",
              "    </tr>\n",
              "    <tr>\n",
              "      <th>...</th>\n",
              "      <td>...</td>\n",
              "      <td>...</td>\n",
              "      <td>...</td>\n",
              "    </tr>\n",
              "    <tr>\n",
              "      <th>0</th>\n",
              "      <td>2023-02-10T23:04:22-08:00</td>\n",
              "      <td>114.0</td>\n",
              "      <td>False</td>\n",
              "    </tr>\n",
              "    <tr>\n",
              "      <th>0</th>\n",
              "      <td>2023-02-10T23:19:22-08:00</td>\n",
              "      <td>107.0</td>\n",
              "      <td>False</td>\n",
              "    </tr>\n",
              "    <tr>\n",
              "      <th>0</th>\n",
              "      <td>2023-02-10T23:34:22-08:00</td>\n",
              "      <td>121.0</td>\n",
              "      <td>False</td>\n",
              "    </tr>\n",
              "    <tr>\n",
              "      <th>0</th>\n",
              "      <td>2023-02-10T23:49:22-08:00</td>\n",
              "      <td>151.0</td>\n",
              "      <td>False</td>\n",
              "    </tr>\n",
              "    <tr>\n",
              "      <th>0</th>\n",
              "      <td>2023-02-10T23:59:59-08:00</td>\n",
              "      <td>151.0</td>\n",
              "      <td>True</td>\n",
              "    </tr>\n",
              "  </tbody>\n",
              "</table>\n",
              "<p>97 rows × 3 columns</p>\n",
              "</div>\n",
              "      <button class=\"colab-df-convert\" onclick=\"convertToInteractive('df-f86439e7-8e00-4d06-ae92-54625e262613')\"\n",
              "              title=\"Convert this dataframe to an interactive table.\"\n",
              "              style=\"display:none;\">\n",
              "        \n",
              "  <svg xmlns=\"http://www.w3.org/2000/svg\" height=\"24px\"viewBox=\"0 0 24 24\"\n",
              "       width=\"24px\">\n",
              "    <path d=\"M0 0h24v24H0V0z\" fill=\"none\"/>\n",
              "    <path d=\"M18.56 5.44l.94 2.06.94-2.06 2.06-.94-2.06-.94-.94-2.06-.94 2.06-2.06.94zm-11 1L8.5 8.5l.94-2.06 2.06-.94-2.06-.94L8.5 2.5l-.94 2.06-2.06.94zm10 10l.94 2.06.94-2.06 2.06-.94-2.06-.94-.94-2.06-.94 2.06-2.06.94z\"/><path d=\"M17.41 7.96l-1.37-1.37c-.4-.4-.92-.59-1.43-.59-.52 0-1.04.2-1.43.59L10.3 9.45l-7.72 7.72c-.78.78-.78 2.05 0 2.83L4 21.41c.39.39.9.59 1.41.59.51 0 1.02-.2 1.41-.59l7.78-7.78 2.81-2.81c.8-.78.8-2.07 0-2.86zM5.41 20L4 18.59l7.72-7.72 1.47 1.35L5.41 20z\"/>\n",
              "  </svg>\n",
              "      </button>\n",
              "      \n",
              "  <style>\n",
              "    .colab-df-container {\n",
              "      display:flex;\n",
              "      flex-wrap:wrap;\n",
              "      gap: 12px;\n",
              "    }\n",
              "\n",
              "    .colab-df-convert {\n",
              "      background-color: #E8F0FE;\n",
              "      border: none;\n",
              "      border-radius: 50%;\n",
              "      cursor: pointer;\n",
              "      display: none;\n",
              "      fill: #1967D2;\n",
              "      height: 32px;\n",
              "      padding: 0 0 0 0;\n",
              "      width: 32px;\n",
              "    }\n",
              "\n",
              "    .colab-df-convert:hover {\n",
              "      background-color: #E2EBFA;\n",
              "      box-shadow: 0px 1px 2px rgba(60, 64, 67, 0.3), 0px 1px 3px 1px rgba(60, 64, 67, 0.15);\n",
              "      fill: #174EA6;\n",
              "    }\n",
              "\n",
              "    [theme=dark] .colab-df-convert {\n",
              "      background-color: #3B4455;\n",
              "      fill: #D2E3FC;\n",
              "    }\n",
              "\n",
              "    [theme=dark] .colab-df-convert:hover {\n",
              "      background-color: #434B5C;\n",
              "      box-shadow: 0px 1px 3px 1px rgba(0, 0, 0, 0.15);\n",
              "      filter: drop-shadow(0px 1px 2px rgba(0, 0, 0, 0.3));\n",
              "      fill: #FFFFFF;\n",
              "    }\n",
              "  </style>\n",
              "\n",
              "      <script>\n",
              "        const buttonEl =\n",
              "          document.querySelector('#df-f86439e7-8e00-4d06-ae92-54625e262613 button.colab-df-convert');\n",
              "        buttonEl.style.display =\n",
              "          google.colab.kernel.accessAllowed ? 'block' : 'none';\n",
              "\n",
              "        async function convertToInteractive(key) {\n",
              "          const element = document.querySelector('#df-f86439e7-8e00-4d06-ae92-54625e262613');\n",
              "          const dataTable =\n",
              "            await google.colab.kernel.invokeFunction('convertToInteractive',\n",
              "                                                     [key], {});\n",
              "          if (!dataTable) return;\n",
              "\n",
              "          const docLinkHtml = 'Like what you see? Visit the ' +\n",
              "            '<a target=\"_blank\" href=https://colab.research.google.com/notebooks/data_table.ipynb>data table notebook</a>'\n",
              "            + ' to learn more about interactive tables.';\n",
              "          element.innerHTML = '';\n",
              "          dataTable['output_type'] = 'display_data';\n",
              "          await google.colab.output.renderOutput(dataTable, element);\n",
              "          const docLink = document.createElement('div');\n",
              "          docLink.innerHTML = docLinkHtml;\n",
              "          element.appendChild(docLink);\n",
              "        }\n",
              "      </script>\n",
              "    </div>\n",
              "  </div>\n",
              "  "
            ]
          },
          "metadata": {}
        }
      ]
    },
    {
      "cell_type": "markdown",
      "source": [
        "# 5. Adherence\n",
        "\n",
        "Since the Nutrisense CGM only holds around 8 hours of data at a time, if the user forgets to sync their data to their phone on time, there'll likely be a gap with missing data. Take it from us, it happens more than you might think!\n",
        "\n",
        "In this section, we will simulate this non-adherence over different periods of time from the participant.\n",
        "\n",
        "Then, we will detect this non-adherence and give a Pandas DataFrame that concisely describes when the participant has had their device on and off throughout the entirety of the time period, allowing you to calculate how long they've had it on/off etc.\n",
        "\n",
        "We will first delete a certain % of blocks, with user input."
      ],
      "metadata": {
        "id": "59pl2tLwgg8b"
      }
    },
    {
      "cell_type": "code",
      "source": [
        "#@title Non-adherence simulation\n",
        "adherence_percent = 0.65 #@param {type:\"slider\", min:0, max:1, step:0.01}"
      ],
      "metadata": {
        "id": "dSWRLMQwG_BU"
      },
      "execution_count": null,
      "outputs": []
    },
    {
      "cell_type": "code",
      "source": [
        "import numpy as np\n",
        "import pandas as pd\n",
        "from datetime import datetime, timedelta\n",
        "import copy\n",
        "import random\n",
        "\n",
        "#every 32 periods is 8 hours. non adherence can only occur at these times\n",
        "points = int(len(continuous) / 32) # must meet non adherence in A sections, A < points\n",
        "remove = int(len(continuous)*(1-adherence_percent))\n",
        "partition = np.array([np.random.rand() for _ in range(points)])\n",
        "partition = partition / sum(partition) * remove\n",
        "\n",
        "dToStr = lambda x: datetime.strftime(x,\"%Y-%m-%dT%H:%M:%S\") \n",
        "\n",
        "valid = 0\n",
        "adhered = []\n",
        "for i in range(len(partition)):\n",
        "  remove = int(valid + np.random.rand()*32)\n",
        "  middle = []\n",
        "  ctime, apd = continuous[remove]['x'][:19], continuous[remove]['x'][19:]\n",
        "  ctime = datetime.strptime(ctime,\"%Y-%m-%dT%H:%M:%S\")\n",
        "  for j in range(len(continuous[remove:remove+int(partition[i])])):\n",
        "    ctime = ctime + timedelta(minutes=15)\n",
        "    item = {'x': dToStr(ctime), 'y': dToStr(ctime)+apd, 'interpolated': True, '__typename': 'TimePair'}\n",
        "    middle.append(item)\n",
        "  new = continuous[valid:remove] + middle + continuous[remove+int(partition[i]):valid+32]\n",
        "  adhered += list(new)\n",
        "  valid += 32\n",
        "\n",
        "print(len(adhered))"
      ],
      "metadata": {
        "colab": {
          "base_uri": "https://localhost:8080/"
        },
        "id": "QxV7YYEKNgQ7",
        "outputId": "95a21d42-2a9f-4a36-c293-2cadd22b9edc"
      },
      "execution_count": null,
      "outputs": [
        {
          "output_type": "stream",
          "name": "stdout",
          "text": [
            "96\n"
          ]
        }
      ]
    },
    {
      "cell_type": "markdown",
      "source": [
        "Now let's detect non-adherence. We will plot the periods when the participant syncs their data."
      ],
      "metadata": {
        "id": "0bOICDIfXSpm"
      }
    },
    {
      "cell_type": "code",
      "source": [
        "import matplotlib.pyplot as plt\n",
        "from datetime import datetime\n",
        "import pandas as pd\n",
        "\n",
        "datelist = pd.date_range(start_date,datetime.strftime(datetime.strptime(end_date,\"%Y-%m-%d\")+timedelta(days=1),\"%Y-%m-%d\"), freq=\"15min\")\n",
        "valid = []\n",
        "for point in adhered:\n",
        "  if point['y'] == 70:\n",
        "    valid.append(0)\n",
        "  else:\n",
        "    valid.append(1)\n",
        "\n",
        "plt.figure(figsize=(12, 6))\n",
        "datelist = datelist[:len(valid)]\n",
        "plt.plot(datelist,valid,drawstyle=\"steps-mid\")"
      ],
      "metadata": {
        "colab": {
          "base_uri": "https://localhost:8080/",
          "height": 391
        },
        "id": "S8CwR-4Hawlr",
        "outputId": "ed3e5dcd-d156-4b60-b74a-38b4171e4faa"
      },
      "execution_count": null,
      "outputs": [
        {
          "output_type": "execute_result",
          "data": {
            "text/plain": [
              "[<matplotlib.lines.Line2D at 0x7f6cf69478b0>]"
            ]
          },
          "metadata": {},
          "execution_count": 105
        },
        {
          "output_type": "display_data",
          "data": {
            "text/plain": [
              "<Figure size 864x432 with 1 Axes>"
            ],
            "image/png": "[encoded data removed]"
          },
          "metadata": {
            "needs_background": "light"
          }
        }
      ]
    },
    {
      "cell_type": "markdown",
      "source": [
        "# 6. Visualization"
      ],
      "metadata": {
        "id": "rwxfl8stgkCP"
      }
    },
    {
      "cell_type": "markdown",
      "source": [
        "We've extracted lots of data, but what does it look like?\n",
        "\n",
        "In this section, we will be visualizing our three kinds of data in a simple, customizable plot! This plot is intended to provide a starter example for plotting, whereas later examples emphasize deep control and aesthetics."
      ],
      "metadata": {
        "id": "USB3t03SP9c2"
      }
    },
    {
      "cell_type": "code",
      "source": [
        "#@title Basic Plot\n",
        "feature = \"continuous\" #@param [\"continuous\"]\n",
        "start_date = \"2023-02-10\" #@param {type:\"date\"}\n",
        "periods = 96 #@param {type:\"slider\", min:0, max:96, step:1}\n",
        "smoothness = 0.04 #@param {type:\"slider\", min:0, max:1, step:0.01}\n",
        "smooth_plot = True #@param {type:\"boolean\"}\n",
        "\n",
        "\n",
        "from scipy.special import y0\n",
        "import matplotlib.dates as mdates\n",
        "import matplotlib.pyplot as plt\n",
        "from datetime import datetime, timedelta\n",
        "import pandas as pd\n",
        "from scipy.ndimage.filters import gaussian_filter1d\n",
        "\n",
        "datelist = pd.date_range(start_date,datetime.strftime(datetime.strptime(start_date,\"%Y-%m-%d\")+timedelta(minutes=15*periods),\"%Y-%m-%d\"), freq=\"15min\")\n",
        "start = datelist[0]\n",
        "end = datelist[len(datelist)-1]\n",
        "title_fillin = \"Continuous Glucose Data\"\n",
        "\n",
        "\n",
        "tempdf = data[data[\"time\"].map(lambda x: datetime.strptime(x[:19],\"%Y-%m-%dT%H:%M:%S\") >= start and datetime.strptime(x[:19],\"%Y-%m-%dT%H:%M:%S\") <= end)]\n",
        "tempdf.loc[tempdf[\"interpolated\"] == True, \"level\"] = 0\n",
        "y = tempdf[\"level\"]\n",
        "x = tempdf[\"time\"]\n",
        "sigma = 200*smoothness\n",
        "\n",
        "if smooth_plot:\n",
        "  y = list(gaussian_filter1d(y, sigma=sigma))\n",
        "plt.figure(figsize=(16,10))\n",
        "\n",
        "plt.plot(x, y)\n",
        "plt.ylim(40,200)\n",
        "\n",
        "plt.title(f\"{title_fillin} from {start_date} to {datetime.strftime(end,'%Y-%m-%d')}\",fontsize=20)\n",
        "plt.xlabel(\"Time\")\n",
        "plt.ylabel(title_fillin[:-1])"
      ],
      "metadata": {
        "colab": {
          "base_uri": "https://localhost:8080/",
          "height": 699
        },
        "id": "C-tfx2OGavTy",
        "outputId": "35f9e38e-f8db-45a4-fd0a-ca28286f3d86"
      },
      "execution_count": null,
      "outputs": [
        {
          "output_type": "stream",
          "name": "stderr",
          "text": [
            "<ipython-input-110-45de1fd4f8b1>:14: DeprecationWarning: Please use `gaussian_filter1d` from the `scipy.ndimage` namespace, the `scipy.ndimage.filters` namespace is deprecated.\n",
            "  from scipy.ndimage.filters import gaussian_filter1d\n"
          ]
        },
        {
          "output_type": "execute_result",
          "data": {
            "text/plain": [
              "Text(0, 0.5, 'Continuous Glucose Dat')"
            ]
          },
          "metadata": {},
          "execution_count": 110
        },
        {
          "output_type": "display_data",
          "data": {
            "text/plain": [
              "<Figure size 1152x720 with 1 Axes>"
            ],
            "image/png": "[encoded data removed]"
          },
          "metadata": {
            "needs_background": "light"
          }
        }
      ]
    },
    {
      "cell_type": "markdown",
      "source": [
        "# 7. Advanced Visualization"
      ],
      "metadata": {
        "id": "uiaccbddglyJ"
      }
    },
    {
      "cell_type": "markdown",
      "source": [
        "## 7.1 Glucose levels over a day"
      ],
      "metadata": {
        "id": "DMGIGfYEiTkC"
      }
    },
    {
      "cell_type": "markdown",
      "source": [
        "Here we will be graphing a more highly stylized plot, specifically the glucose levels chart displayed in the main screen of the official Nutrisense app. This graph shows the glucose levels (mg/dL) at each time of day."
      ],
      "metadata": {
        "id": "CUjo-lgytxoM"
      }
    },
    {
      "cell_type": "markdown",
      "source": [
        "<img src=\"https://i.imgur.com/I60vYHU.png\" width='750px'>"
      ],
      "metadata": {
        "id": "5d6sCznqtswr"
      }
    },
    {
      "cell_type": "markdown",
      "source": [
        "The darker green sections of the graph denote healthy levels of glucose, which is defined as being between 70 mg/dL and 140 mg/dL. Anything outside of this range is colored light green. \n",
        "\n",
        "To make this plot, we can extract the glucose levels data from our pandas dataframe and the associated time from the dataframe as well."
      ],
      "metadata": {
        "id": "7zRZ_Bu_6PnQ"
      }
    },
    {
      "cell_type": "code",
      "source": [
        "from datetime import datetime, timedelta\n",
        "import copy\n",
        "\n",
        "# convert string to date\n",
        "def strToD(s):\n",
        "  c = s[:19]\n",
        "  return datetime.strptime(c, \"%Y-%m-%dT%H:%M:%S\")\n",
        "\n",
        "# extract the necessary data. notice we must convert\n",
        "# the dates in the dataframe from string to actual datetime object\n",
        "x = list(data['time'].apply(strToD))\n",
        "cp = copy.deepcopy(data)\n",
        "\n",
        "# for datapoints that were \"interpolated\" (i.e. made up), \n",
        "# set the value to a very large negative. This behavior\n",
        "# matches how nutrisense deals with missing datapoints\n",
        "cp.loc[cp[\"interpolated\"] == True, \"level\"] = -float('inf')\n",
        "y1 = list(cp['level'])\n",
        "x = x[:len(y1)]"
      ],
      "metadata": {
        "id": "MsTn8tELPeij"
      },
      "execution_count": null,
      "outputs": []
    },
    {
      "cell_type": "markdown",
      "source": [
        "Having extracted the necessary data, we can use a matplotlib plot to get the basic shape of the desired graph. The remaining work is in the styling!"
      ],
      "metadata": {
        "id": "f3crlPTs7B5J"
      }
    },
    {
      "cell_type": "code",
      "source": [
        "import matplotlib.pyplot as plt\n",
        "from scipy.ndimage.filters import gaussian_filter1d\n",
        "import numpy as np\n",
        "import matplotlib.dates as mdates\n",
        "\n",
        "healthy = 140\n",
        "\n",
        "figsize = (10, 6)\n",
        "fig = plt.figure(figsize=figsize, facecolor=\"#1d2525\")\n",
        "\n",
        "# set the grid style\n",
        "ax = plt.axes()\n",
        "# ax.yaxis.grid(linewidth='2', ls=\":\", dashes=(1,3,1,3), color=\"#7c7d7d\")\n",
        "ax.yaxis.grid(linewidth='1', ls=\":\", dashes=(0.5,5,0.5,5), color=\"#7c7d7d\")\n",
        "\n",
        "# remove frame\n",
        "ax.spines['top'].set_visible(False)\n",
        "ax.spines['right'].set_visible(False)\n",
        "ax.spines['bottom'].set_visible(False)\n",
        "ax.spines['left'].set_visible(False)\n",
        "\n",
        "# set colors\n",
        "ax.set_facecolor(\"#1d2525\")\n",
        "\n",
        "# set the range and style of ticks\n",
        "plt.yticks(np.arange(70.0, max(y1)+10, 10.0), color=\"#7c7d7d\", fontsize=10)\n",
        "plt.xticks(color=\"#7c7d7d\")\n",
        "plt.ylim(70, max(y1)+10)\n",
        "plt.xlim(x[0], x[len(x)-1])\n",
        "\n",
        "# set the xaxis labels to the time\n",
        "xts = list(pd.date_range(start_date,datetime.strftime(datetime.strptime(end_date,\"%Y-%m-%d\")+timedelta(days=1),\"%Y-%m-%d\"), freq=\"3H\"))\n",
        "ax.set_xticks(xts)\n",
        "ax.set_xticklabels(xts, weight='bold')\n",
        "ax.xaxis.set_major_formatter(mdates.DateFormatter('%l%p'))\n",
        "\n",
        "\n",
        "# smooth the plot points\n",
        "y = list(gaussian_filter1d(y1, sigma=0.01*5))\n",
        "\n",
        "# plot the graph and fill in the correct colors\n",
        "plt.plot(x,y,color=\"#76885f\", alpha=.0)\n",
        "plt.plot(np.where(np.array(y)>= healthy, np.array(y), None), color=\"#c1c59a\", label=\"1\", alpha=.0)\n",
        "plt.plot(np.where(np.array(y)<= healthy, np.array(y), None), color=\"#76885f\", label=\"1\", alpha=.0)\n",
        "\n",
        "lower = np.array(y).clip(max=healthy)\n",
        "upper = np.array(y)\n",
        "#ax.fill_between(x, y, 0, color='#76885f', alpha=.8)\n",
        "\n",
        "ax.fill_between(x, lower, upper, color='#c1c59a', alpha=.8)\n",
        "ax.fill_between(x, 0, lower, color='#76885f', alpha=.8)"
      ],
      "metadata": {
        "colab": {
          "base_uri": "https://localhost:8080/",
          "height": 446
        },
        "id": "B2J8dbk7iXgU",
        "outputId": "9799ee1f-d877-4a19-ca70-9d47b7887b1c"
      },
      "execution_count": null,
      "outputs": [
        {
          "output_type": "stream",
          "name": "stderr",
          "text": [
            "<ipython-input-16-b882f4babdc7>:2: DeprecationWarning: Please use `gaussian_filter1d` from the `scipy.ndimage` namespace, the `scipy.ndimage.filters` namespace is deprecated.\n",
            "  from scipy.ndimage.filters import gaussian_filter1d\n"
          ]
        },
        {
          "output_type": "execute_result",
          "data": {
            "text/plain": [
              "<matplotlib.collections.PolyCollection at 0x7f4cb6680a60>"
            ]
          },
          "metadata": {},
          "execution_count": 16
        },
        {
          "output_type": "display_data",
          "data": {
            "text/plain": [
              "<Figure size 720x432 with 1 Axes>"
            ],
            "image/png": "[encoded data removed]"
          },
          "metadata": {}
        }
      ]
    },
    {
      "cell_type": "markdown",
      "source": [
        "This plot is important because it quickly helps us visualize all of the continuous data collected by the monitor, as well as identify healthy ranges of glucose levels, spikes, and times when the participant failed to log data."
      ],
      "metadata": {
        "id": "a0E_RboQ7vsl"
      }
    },
    {
      "cell_type": "markdown",
      "source": [
        "## 7.2 Glucose Scores"
      ],
      "metadata": {
        "id": "r8eKQTw2iZpb"
      }
    },
    {
      "cell_type": "markdown",
      "source": [
        "For our second chart, we will be attempting to replicate the glucose scores summary, which displays various statistics about your daily glucose levels."
      ],
      "metadata": {
        "id": "gAZrEz_Nt3tY"
      }
    },
    {
      "cell_type": "markdown",
      "source": [
        "<img src=\"https://i.imgur.com/4k5hgln.png\" width='750px'>"
      ],
      "metadata": {
        "id": "1s7KzEpBZWCg"
      }
    },
    {
      "cell_type": "markdown",
      "source": [
        "The only data we will need here are the summary scores taken from the `scoremain` dictionary variable which we created during data extraction.\n",
        "\n",
        "Here will begin by setting up the colors and score arrays:"
      ],
      "metadata": {
        "id": "_H7gRjlduFEM"
      }
    },
    {
      "cell_type": "code",
      "source": [
        "import pandas as pd\n",
        "import numpy as np\n",
        "\n",
        "# colors dict: put a color for every index\n",
        "# we will do: (0) peak, (1) average, (2) adaptability, (3) variability\n",
        "\n",
        "scores = [scoremain[\"scorePeak\"], scoremain[\"scoreMean\"], scoremain[\"scoreTimeOutsideRange\"], scoremain[\"scoreStdDev\"]]\n",
        "lpos = [-0.112,-0.06,0.0,-0.03]\n",
        "\n",
        "# This will give us our desired 10-block bar chart\n",
        "basescore = [0.1]*10\n",
        "base2 = {'peak': basescore}\n",
        "bg2 =pd.DataFrame(base2).transpose()\n",
        "\n",
        "# the labels for the plots\n",
        "lsb = [\"Peak\", \"Average\", \"Adaptability\", \"Variability\"]\n",
        "\n",
        "# set an array of colors which will be used to determine partition coloring\n",
        "colors = ['#343e33']\n",
        "for score in scores:\n",
        "  # divisions: 0-4, 5-7, \n",
        "  if score <= 4:\n",
        "    colors.append('#ff3e4d')\n",
        "  elif score <= 7:\n",
        "    colors.append('#ef893f')\n",
        "  else:\n",
        "    colors.append('#a9c180')\n",
        "colors.append('#343e33')"
      ],
      "metadata": {
        "id": "pJiz_TN4C2Kp"
      },
      "execution_count": null,
      "outputs": []
    },
    {
      "cell_type": "markdown",
      "source": [
        "All that is left for us to do now is tons of plotting and styling!"
      ],
      "metadata": {
        "id": "M5E0Qu1bu435"
      }
    },
    {
      "cell_type": "code",
      "source": [
        "# position will tell matplotlib where to place each plot, figsize is dynamic based off of our number of plots\n",
        "from collections import defaultdict\n",
        "from matplotlib.patches import FancyBboxPatch\n",
        "\n",
        "# initialize the figure \n",
        "Position = range(1,5)\n",
        "figsize = (18, 3*(4//3+1))\n",
        "fig = plt.figure(figsize=figsize, facecolor=\"#1d2525\")\n",
        "\n",
        "for i in range(4):\n",
        "\n",
        "  # color array that will be applied to the current plot\n",
        "  cs = []\n",
        "  for j in range(scores[i]):\n",
        "    cs.append(colors[i+1])\n",
        "  while len(cs) < 10:\n",
        "    cs.append(colors[0])\n",
        "  \n",
        "  # add one bar chart for each statistic\n",
        "  ax2 = fig.add_subplot(4, 1, Position[i], facecolor=\"#1d2525\")\n",
        "  ax = bg2.plot(kind='barh', stacked=True, legend=False, secondary_y=True, ax = ax2, xlim=(-0.4,1.), color=cs) # #343e33\n",
        "  \n",
        "  # redo the plot's elements to style it\n",
        "  new_patches = []\n",
        "  for patch in reversed(ax.patches):\n",
        "    bb = patch.get_bbox()\n",
        "    color=patch.get_facecolor()\n",
        "\n",
        "    # the fancy bbox patch module gives us additional ways to customize\n",
        "    p_bbox = FancyBboxPatch((bb.xmin, bb.ymin),\n",
        "                        abs(bb.width), abs(bb.height),\n",
        "                        boxstyle=\"round,pad=-0.0030,rounding_size=0.010\",\n",
        "                        ec=\"none\", fc=color,\n",
        "                        mutation_aspect= 4\n",
        "                        )\n",
        "    patch.remove()\n",
        "    new_patches.append(p_bbox)\n",
        "  for patch in new_patches:\n",
        "    ax.add_patch(patch)\n",
        "\n",
        "  # set the ylabel and ylabel position\n",
        "  ax.set_ylabel(lsb[i], color=\"white\", fontsize=64, rotation=0, position=(0,0))\n",
        "  ax.yaxis.set_label_coords(lpos[i],-0.1)\n",
        "  ax.yaxis.set_label_position(\"left\")\n",
        "\n",
        "  plt.text(1.05,-0.2, str(int(scores[i])), fontsize=64, color=\"white\")\n",
        "\n",
        "  # remove frame\n",
        "  ax.spines['top'].set_visible(False)\n",
        "  ax.spines['right'].set_visible(False)\n",
        "  ax.spines['bottom'].set_visible(False)\n",
        "  ax.spines['left'].set_visible(False)\n",
        "\n",
        "  # remove frame\n",
        "  ax2.spines['top'].set_visible(False)\n",
        "  ax2.spines['right'].set_visible(False)\n",
        "  ax2.spines['bottom'].set_visible(False)\n",
        "  ax2.spines['left'].set_visible(False)\n",
        "\n",
        "  # hide the ticks and tick labels\n",
        "  plt.setp( ax.get_xticklabels(), visible=False)\n",
        "  plt.setp( ax2.get_xticklabels(), visible=False)\n",
        "  plt.setp( ax.get_yticklabels(), visible=False)\n",
        "  plt.setp( ax2.get_yticklabels(), visible=False)\n",
        "  plt.xticks([])\n",
        "  plt.yticks([])"
      ],
      "metadata": {
        "colab": {
          "base_uri": "https://localhost:8080/",
          "height": 364
        },
        "id": "ZBSP-_LWNbmZ",
        "outputId": "7c705154-533b-4cb8-a6f4-11859bf56111"
      },
      "execution_count": null,
      "outputs": [
        {
          "output_type": "display_data",
          "data": {
            "text/plain": [
              "<Figure size 1296x432 with 8 Axes>"
            ],
            "image/png": "[encoded data removed]"
          },
          "metadata": {}
        }
      ]
    },
    {
      "cell_type": "markdown",
      "source": [
        "This plot gives us a simple and visually appealing way to visualize summary statistics for a patient's glucose levels, allowing us to easily identify which scores are considered bad and which are good depending on color coding. "
      ],
      "metadata": {
        "id": "j84ncZjZ8Do3"
      }
    },
    {
      "cell_type": "markdown",
      "source": [
        "## 7.3 Glucose Summary"
      ],
      "metadata": {
        "id": "xS9JMLrpidwo"
      }
    },
    {
      "cell_type": "markdown",
      "source": [
        "The following is a box plot summarizing the daily glucose statistics. The text on the green rectangle gives the `Mean / Standard Deviation` and the caps represent the maximum/minimum.\n",
        "\n",
        "The weekly is compared with the daily in this graph"
      ],
      "metadata": {
        "id": "ZLFqsRey8wNJ"
      }
    },
    {
      "cell_type": "markdown",
      "source": [
        "<img src=\"https://i.imgur.com/X6lXdk7.png\"/>"
      ],
      "metadata": {
        "id": "vE2H6Y9s4DyM"
      }
    },
    {
      "cell_type": "markdown",
      "source": [
        "For this graph, the data we need will all come from the statistics variable we extracted at the start of this notebook. "
      ],
      "metadata": {
        "id": "yn46sK7G9ZL7"
      }
    },
    {
      "cell_type": "code",
      "source": [
        "s = [statistics[\"today\"], statistics[\"average\"]][::-1]"
      ],
      "metadata": {
        "id": "ahPslVqRRgMH"
      },
      "execution_count": null,
      "outputs": []
    },
    {
      "cell_type": "markdown",
      "source": [
        "Since matplotlib's default boxplot looks a farcry from the beautiful plot featured, we have some extra work to do!\n",
        "\n",
        "Since we are plotting this chart straight from precalculated statistics, we will be using the `bxp` function rather than the standard `boxplot`."
      ],
      "metadata": {
        "id": "9y7yPlo39lIU"
      }
    },
    {
      "cell_type": "code",
      "source": [
        "import matplotlib.pyplot as plt\n",
        "from matplotlib.patches import FancyBboxPatch\n",
        "\n",
        "# boxplot for daily and weekly\n",
        "# bottom line is healthy range\n",
        "# daily is min and max\n",
        "\n",
        "# plt.boxplot()\n",
        "figsize = (18, 6)\n",
        "\n",
        "# healthy range:\n",
        "lbound, rbound = 70.0, 140.0\n",
        "\n",
        "# vars\n",
        "labels = [\"average\", \"today\"]\n",
        "medianprops = {\"linestyle\":'none'}\n",
        "whiskerprops = {\"color\": \"#a6a8a7\",\"linewidth\":2.2}\n",
        "capprops = {\"color\": \"white\",\"linewidth\":2.2}\n",
        "\n",
        "stat_data = []\n",
        "for i in range(len(s)):\n",
        "  d = s[i]\n",
        "  mn, mx = d[\"min\"], d[\"max\"]\n",
        "  avg, sd = d[\"mean\"], d[\"standardDeviation\"]\n",
        "  q1, q3 = d[\"q1\"], d[\"q3\"]\n",
        "\n",
        "  stat_data.append({'med': avg, 'q1': q1, 'q3':q3, 'whislo': mn, 'whishi': mx, 'label': labels[i]})\n",
        "\n",
        "fig, ax = plt.subplots(nrows=1, ncols=1, figsize=figsize, facecolor=\"#1d2525\")\n",
        "ax.yaxis.grid(linewidth='2', ls=\":\", dashes=(1,3,1,3), color=\"#7c7d7d\")\n",
        "ax.set_axisbelow(True)\n",
        "\n",
        "ax.tick_params(axis='y',colors='white', labelrotation=90, labelsize=12, pad=10)\n",
        "\n",
        "# might want to change below into a self drawn patch tick\n",
        "ax.tick_params(axis='x',colors='red', width=4.0, length=10.0, labelsize=12, pad=10, bottom=100)\n",
        "\n",
        "\n",
        "ax.set_yticklabels([\"average\", \"today\"], rotation=90, ha='center', rotation_mode='anchor', weight=\"bold\")\n",
        "ax.set_xticklabels([lbound,rbound], ha='center', rotation_mode='anchor', weight=\"bold\", color=\"#a6a8a7\")\n",
        "plt.tick_params(left = False)\n",
        "\n",
        "bplot = ax.bxp(\n",
        "    stat_data,\n",
        "    showfliers=False,\n",
        "    vert=False,\n",
        "    patch_artist=True,\n",
        "    medianprops=medianprops,\n",
        "    whiskerprops=whiskerprops,\n",
        "    capprops=capprops,\n",
        "    )\n",
        "\n",
        "new_patches = []\n",
        "\n",
        "for patch in bplot['boxes']:\n",
        "  bb = patch.get_path().get_extents()\n",
        "  p_bbox = FancyBboxPatch((bb.xmin, bb.ymin),\n",
        "                        abs(bb.width), abs(bb.height),\n",
        "                        boxstyle=\"round,pad=0,rounding_size=0.2\",\n",
        "                        ec=\"#a9c180\", fc=\"#a9c180\",\n",
        "                        mutation_aspect=0.1)\n",
        "  patch.remove()\n",
        "  new_patches.append(p_bbox)\n",
        "\n",
        "for i in range(len(new_patches)):\n",
        "  patch = new_patches[i]\n",
        "  ax.add_patch(patch)\n",
        "  l, r = patch.get_x(), patch.get_x() + patch.get_width()\n",
        "  h = patch.get_y() + patch.get_height()\n",
        "  plt.text((l+r)/2-3, h+0.01, str(int(s[i]['mean']))+\"/\"+str(int(s[i]['standardDeviation'])), color=\"#a6a8a7\", fontweight='semibold')\n",
        "  plt.text(s[i]['min']-0.9,h+0.01, str(int(s[i]['min'])), color=\"#a6a8a7\", fontweight='semibold')\n",
        "  plt.text(s[i]['max']-0.9,h+0.01, str(int(s[i]['max'])), color=\"#a6a8a7\", fontweight='semibold')\n",
        "\n",
        "plt.xlim(60.0, max(s[0]['max'], s[1]['max'])+10)\n",
        "plt.xticks([lbound, rbound])\n",
        "\n",
        "# set colors\n",
        "ax.set_facecolor(\"#1d2525\")\n",
        "\n",
        "# remove frame\n",
        "ax.spines['top'].set_visible(False)\n",
        "ax.spines['right'].set_visible(False)\n",
        "ax.spines['bottom'].set(color=\"#a6a8a7\", linewidth=2.0)\n",
        "ax.spines['left'].set_visible(False)\n",
        "\n",
        "# add the inner side to the ticks\n",
        "ax2 = ax.twiny()\n",
        "ax2.axis('off')\n",
        "\n",
        "ax4 = ax2.twiny()\n",
        "ax4.tick_params(axis=\"x\",direction=\"out\", pad=-15, bottom = True, top=False)\n",
        "ax4.spines['bottom'].set(color=\"#a6a8a7\", linewidth=2.0)\n",
        "ax4.tick_params(axis='x',colors='red', width=4.0, length=10.0, labelsize=12, pad=10, bottom=100)\n",
        "ax4.xaxis.set_ticklabels([])\n",
        "ax4.set_xlim(ax.get_xlim())\n",
        "ax4.set_xticks([lbound,rbound])\n",
        "\n",
        "ax3 = ax2.twiny()\n",
        "ax3.tick_params(axis=\"x\",direction=\"in\", pad=-15, bottom = True, top=False)\n",
        "ax3.spines['bottom'].set(color=\"#a6a8a7\", linewidth=2.0)\n",
        "ax3.tick_params(axis='x',colors='red', width=4.0, length=10.0, labelsize=12, pad=10, bottom=100)\n",
        "ax3.xaxis.set_ticklabels([])\n",
        "ax3.set_xlim(ax.get_xlim())\n",
        "ax3.set_xticks([lbound,rbound])\n",
        "\n",
        "ax3.spines['top'].set_visible(False)\n",
        "ax3.spines['right'].set_visible(False)\n",
        "ax3.spines['bottom'].set_visible(False)\n",
        "ax3.spines['left'].set_visible(False)\n",
        "\n",
        "ax4.spines['top'].set_visible(False)\n",
        "ax4.spines['right'].set_visible(False)\n",
        "ax4.spines['bottom'].set_visible(False)\n",
        "ax4.spines['left'].set_visible(False)"
      ],
      "metadata": {
        "id": "kqIz512AOYKo",
        "colab": {
          "base_uri": "https://localhost:8080/",
          "height": 459
        },
        "outputId": "d67c43cc-d8ca-4509-c127-8aa646eafb21"
      },
      "execution_count": null,
      "outputs": [
        {
          "output_type": "stream",
          "name": "stderr",
          "text": [
            "<ipython-input-91-e744c844c7c9>:39: UserWarning: FixedFormatter should only be used together with FixedLocator\n",
            "  ax.set_yticklabels([\"average\", \"today\"], rotation=90, ha='center', rotation_mode='anchor', weight=\"bold\")\n",
            "<ipython-input-91-e744c844c7c9>:40: UserWarning: FixedFormatter should only be used together with FixedLocator\n",
            "  ax.set_xticklabels([lbound,rbound], ha='center', rotation_mode='anchor', weight=\"bold\", color=\"#a6a8a7\")\n"
          ]
        },
        {
          "output_type": "display_data",
          "data": {
            "text/plain": [
              "<Figure size 1296x432 with 4 Axes>"
            ],
            "image/png": "[encoded data removed]"
          },
          "metadata": {}
        }
      ]
    },
    {
      "cell_type": "markdown",
      "source": [
        "This graph is helpful because it gives a quick look at how the participant's daily glucose level statistics match up to their overall weekly trend. It also gives us a view of the summary statistics of the glucose levels."
      ],
      "metadata": {
        "id": "GGvJv2ec-0FO"
      }
    },
    {
      "cell_type": "markdown",
      "source": [
        "# 8. Outlier Detection and Data Cleaning"
      ],
      "metadata": {
        "id": "vQGsyH-EgpKY"
      }
    },
    {
      "cell_type": "markdown",
      "source": [
        "**NOTICE:** If you are using synthetically generated data, the analyses may yield unintuitive results due to the randomly generated nature of the data"
      ],
      "metadata": {
        "id": "ToUoxMQsfzGU"
      }
    },
    {
      "cell_type": "markdown",
      "source": [
        "In this section, we will detect outliers in our extracted data.\n",
        "\n",
        "Since there are currently no outliers (by construction, since it is simulated to have none), we will manually inject a couple into our general sessions dataframe (the method for finding outliers here will work for any heart rate dataframe)."
      ],
      "metadata": {
        "id": "MTh8cTaefz5S"
      }
    },
    {
      "cell_type": "code",
      "source": [
        "import pandas as pd\n",
        "from datetime import datetime, timedelta\n",
        "\n",
        "dToStr = lambda x: datetime.strftime(x,\"%Y-%m-%dT%H:%M:%S\") \n",
        "\n",
        "last = list(data['time'])[len(data)-1]\n",
        "last, apd = last[:19], last[19:]\n",
        "\n",
        "ctime = datetime.strptime(last, \"%Y-%m-%dT%H:%M:%S\")\n",
        "t1, t2 = dToStr(ctime + timedelta(minutes=15))+apd, dToStr(ctime + timedelta(minutes=30)) + apd\n",
        "outliers = {'time': [t1, t2], 'level': [240, 280]}\n",
        "odata = data.append(pd.DataFrame(outliers),ignore_index=True)\n",
        "display(odata)"
      ],
      "metadata": {
        "colab": {
          "base_uri": "https://localhost:8080/",
          "height": 424
        },
        "id": "9c29ORmXMEK-",
        "outputId": "59635715-a503-4ead-df7e-b9f0012ae9f6"
      },
      "execution_count": null,
      "outputs": [
        {
          "output_type": "display_data",
          "data": {
            "text/plain": [
              "                         time  level\n",
              "0   2023-02-14T00:00:00-08:00   95.0\n",
              "1   2023-02-14T00:02:01-08:00   95.0\n",
              "2   2023-02-14T00:17:01-08:00  110.0\n",
              "3   2023-02-14T00:32:01-08:00  112.0\n",
              "4   2023-02-14T00:47:01-08:00   99.0\n",
              "..                        ...    ...\n",
              "93  2023-02-14T23:34:52-08:00   97.0\n",
              "94  2023-02-14T23:49:52-08:00   96.0\n",
              "95  2023-02-14T23:59:59-08:00   96.0\n",
              "96  2023-02-15T00:14:59-08:00  240.0\n",
              "97  2023-02-15T00:29:59-08:00  280.0\n",
              "\n",
              "[98 rows x 2 columns]"
            ],
            "text/html": [
              "\n",
              "  <div id=\"df-4b534426-5c0b-442d-b833-c90238e31601\">\n",
              "    <div class=\"colab-df-container\">\n",
              "      <div>\n",
              "<style scoped>\n",
              "    .dataframe tbody tr th:only-of-type {\n",
              "        vertical-align: middle;\n",
              "    }\n",
              "\n",
              "    .dataframe tbody tr th {\n",
              "        vertical-align: top;\n",
              "    }\n",
              "\n",
              "    .dataframe thead th {\n",
              "        text-align: right;\n",
              "    }\n",
              "</style>\n",
              "<table border=\"1\" class=\"dataframe\">\n",
              "  <thead>\n",
              "    <tr style=\"text-align: right;\">\n",
              "      <th></th>\n",
              "      <th>time</th>\n",
              "      <th>level</th>\n",
              "    </tr>\n",
              "  </thead>\n",
              "  <tbody>\n",
              "    <tr>\n",
              "      <th>0</th>\n",
              "      <td>2023-02-14T00:00:00-08:00</td>\n",
              "      <td>95.0</td>\n",
              "    </tr>\n",
              "    <tr>\n",
              "      <th>1</th>\n",
              "      <td>2023-02-14T00:02:01-08:00</td>\n",
              "      <td>95.0</td>\n",
              "    </tr>\n",
              "    <tr>\n",
              "      <th>2</th>\n",
              "      <td>2023-02-14T00:17:01-08:00</td>\n",
              "      <td>110.0</td>\n",
              "    </tr>\n",
              "    <tr>\n",
              "      <th>3</th>\n",
              "      <td>2023-02-14T00:32:01-08:00</td>\n",
              "      <td>112.0</td>\n",
              "    </tr>\n",
              "    <tr>\n",
              "      <th>4</th>\n",
              "      <td>2023-02-14T00:47:01-08:00</td>\n",
              "      <td>99.0</td>\n",
              "    </tr>\n",
              "    <tr>\n",
              "      <th>...</th>\n",
              "      <td>...</td>\n",
              "      <td>...</td>\n",
              "    </tr>\n",
              "    <tr>\n",
              "      <th>93</th>\n",
              "      <td>2023-02-14T23:34:52-08:00</td>\n",
              "      <td>97.0</td>\n",
              "    </tr>\n",
              "    <tr>\n",
              "      <th>94</th>\n",
              "      <td>2023-02-14T23:49:52-08:00</td>\n",
              "      <td>96.0</td>\n",
              "    </tr>\n",
              "    <tr>\n",
              "      <th>95</th>\n",
              "      <td>2023-02-14T23:59:59-08:00</td>\n",
              "      <td>96.0</td>\n",
              "    </tr>\n",
              "    <tr>\n",
              "      <th>96</th>\n",
              "      <td>2023-02-15T00:14:59-08:00</td>\n",
              "      <td>240.0</td>\n",
              "    </tr>\n",
              "    <tr>\n",
              "      <th>97</th>\n",
              "      <td>2023-02-15T00:29:59-08:00</td>\n",
              "      <td>280.0</td>\n",
              "    </tr>\n",
              "  </tbody>\n",
              "</table>\n",
              "<p>98 rows × 2 columns</p>\n",
              "</div>\n",
              "      <button class=\"colab-df-convert\" onclick=\"convertToInteractive('df-4b534426-5c0b-442d-b833-c90238e31601')\"\n",
              "              title=\"Convert this dataframe to an interactive table.\"\n",
              "              style=\"display:none;\">\n",
              "        \n",
              "  <svg xmlns=\"http://www.w3.org/2000/svg\" height=\"24px\"viewBox=\"0 0 24 24\"\n",
              "       width=\"24px\">\n",
              "    <path d=\"M0 0h24v24H0V0z\" fill=\"none\"/>\n",
              "    <path d=\"M18.56 5.44l.94 2.06.94-2.06 2.06-.94-2.06-.94-.94-2.06-.94 2.06-2.06.94zm-11 1L8.5 8.5l.94-2.06 2.06-.94-2.06-.94L8.5 2.5l-.94 2.06-2.06.94zm10 10l.94 2.06.94-2.06 2.06-.94-2.06-.94-.94-2.06-.94 2.06-2.06.94z\"/><path d=\"M17.41 7.96l-1.37-1.37c-.4-.4-.92-.59-1.43-.59-.52 0-1.04.2-1.43.59L10.3 9.45l-7.72 7.72c-.78.78-.78 2.05 0 2.83L4 21.41c.39.39.9.59 1.41.59.51 0 1.02-.2 1.41-.59l7.78-7.78 2.81-2.81c.8-.78.8-2.07 0-2.86zM5.41 20L4 18.59l7.72-7.72 1.47 1.35L5.41 20z\"/>\n",
              "  </svg>\n",
              "      </button>\n",
              "      \n",
              "  <style>\n",
              "    .colab-df-container {\n",
              "      display:flex;\n",
              "      flex-wrap:wrap;\n",
              "      gap: 12px;\n",
              "    }\n",
              "\n",
              "    .colab-df-convert {\n",
              "      background-color: #E8F0FE;\n",
              "      border: none;\n",
              "      border-radius: 50%;\n",
              "      cursor: pointer;\n",
              "      display: none;\n",
              "      fill: #1967D2;\n",
              "      height: 32px;\n",
              "      padding: 0 0 0 0;\n",
              "      width: 32px;\n",
              "    }\n",
              "\n",
              "    .colab-df-convert:hover {\n",
              "      background-color: #E2EBFA;\n",
              "      box-shadow: 0px 1px 2px rgba(60, 64, 67, 0.3), 0px 1px 3px 1px rgba(60, 64, 67, 0.15);\n",
              "      fill: #174EA6;\n",
              "    }\n",
              "\n",
              "    [theme=dark] .colab-df-convert {\n",
              "      background-color: #3B4455;\n",
              "      fill: #D2E3FC;\n",
              "    }\n",
              "\n",
              "    [theme=dark] .colab-df-convert:hover {\n",
              "      background-color: #434B5C;\n",
              "      box-shadow: 0px 1px 3px 1px rgba(0, 0, 0, 0.15);\n",
              "      filter: drop-shadow(0px 1px 2px rgba(0, 0, 0, 0.3));\n",
              "      fill: #FFFFFF;\n",
              "    }\n",
              "  </style>\n",
              "\n",
              "      <script>\n",
              "        const buttonEl =\n",
              "          document.querySelector('#df-4b534426-5c0b-442d-b833-c90238e31601 button.colab-df-convert');\n",
              "        buttonEl.style.display =\n",
              "          google.colab.kernel.accessAllowed ? 'block' : 'none';\n",
              "\n",
              "        async function convertToInteractive(key) {\n",
              "          const element = document.querySelector('#df-4b534426-5c0b-442d-b833-c90238e31601');\n",
              "          const dataTable =\n",
              "            await google.colab.kernel.invokeFunction('convertToInteractive',\n",
              "                                                     [key], {});\n",
              "          if (!dataTable) return;\n",
              "\n",
              "          const docLinkHtml = 'Like what you see? Visit the ' +\n",
              "            '<a target=\"_blank\" href=https://colab.research.google.com/notebooks/data_table.ipynb>data table notebook</a>'\n",
              "            + ' to learn more about interactive tables.';\n",
              "          element.innerHTML = '';\n",
              "          dataTable['output_type'] = 'display_data';\n",
              "          await google.colab.output.renderOutput(dataTable, element);\n",
              "          const docLink = document.createElement('div');\n",
              "          docLink.innerHTML = docLinkHtml;\n",
              "          element.appendChild(docLink);\n",
              "        }\n",
              "      </script>\n",
              "    </div>\n",
              "  </div>\n",
              "  "
            ]
          },
          "metadata": {}
        }
      ]
    },
    {
      "cell_type": "markdown",
      "source": [
        "Now we need a method to find these outliers. While there are many known methods for finding outliers, one of the quickest ways is to use something known as a z-score.\n",
        "\n",
        "The formula for the z-score is \n",
        "\n",
        "\n",
        "```\n",
        "Z = (data point - mean of data set) / standard deviation\n",
        "```\n",
        "We will compute this formula on every data point in our data set, giving us a massive list of z-score values. \n",
        "\n",
        "What the z score tells us is how far, in terms of standard deviations, any one data point is from the mean. In statistics, data points at increasing standard deviations away from the mean are less likely to occur. This means that the greater our z-score, the more unlikely for the data point to be real. \n",
        "\n",
        "We can decide what distance from the mean constitutes an outlier by setting the **threshold** value, so if a data point's z-score is above that threshold we might guess it to be an outlier.\n",
        "\n",
        "One intuitive idea is that the glucose levels should not vary too much from one second to the next. To capitalize on this, we can improve our analysis by first calculating the distance each glucose level sample is away from neighboring glucose level samples. We can then use the z-scores to determine which glucose levels differ from their neighbors by an unusually large margin. These will likely be our outliers."
      ],
      "metadata": {
        "id": "y1j2EjM9N6UU"
      }
    },
    {
      "cell_type": "code",
      "source": [
        "import math\n",
        "import pandas as pd\n",
        "\n",
        "nx = odata[\"level\"]\n",
        "\n",
        "distances = []\n",
        "\n",
        "f = lambda x: x**2\n",
        "\n",
        "#take the current count, subtract it by the points to its left and right some distance, then \n",
        "#square each of these differences, add, then sqrt\n",
        "for l1, l2, m, r1, r2 in zip(nx[:-4],nx[1:-3],nx[2:-2],nx[3:-1],nx[4:]):\n",
        "  difference = math.sqrt(f(m-l1)+f(m-l2)+f(m-r1)+f(m-r2))\n",
        "  distances.append(difference)"
      ],
      "metadata": {
        "id": "_U42-CwLN5t0"
      },
      "execution_count": null,
      "outputs": []
    },
    {
      "cell_type": "markdown",
      "source": [
        "Now we can calculate our z-scores for the heart rate data in one training session, and identify those data points that seem like outliers. Luckily, we can save some time by using the [z-score function](https://docs.scipy.org/doc/scipy/reference/generated/scipy.stats.zscore.html) from scipy's statistics library, which will give us a z-score calculation for all data points."
      ],
      "metadata": {
        "id": "8NbGzHxUOHm4"
      }
    },
    {
      "cell_type": "code",
      "source": [
        "from scipy import stats\n",
        "import pandas as pd\n",
        "import numpy as np\n",
        "\n",
        "threshold = 3 #@param{type: \"integer\"}\n",
        "z_scores = np.abs(stats.zscore(nx))\n",
        "odata['z'] = z_scores\n",
        "lcs = list((odata.loc[odata['z'] > threshold]).index)\n",
        "\n",
        "\n",
        "cx = list(odata[\"level\"].values)\n",
        "for idx in odata.index[odata['z'] > threshold].tolist():\n",
        "  vals = cx[idx-3:idx-2]+cx[idx-2:idx-1]+cx[idx+1:idx+2]+cx[idx+2:idx+3]\n",
        "  mean_val = np.mean(vals)\n",
        "  odata.loc[idx, 'level'] = mean_val\n"
      ],
      "metadata": {
        "id": "hJZklD3uOJm-"
      },
      "execution_count": null,
      "outputs": []
    },
    {
      "cell_type": "markdown",
      "source": [
        "It looks like the code was able to successfully identify the two outliers!"
      ],
      "metadata": {
        "id": "ea-5LSSkOelC"
      }
    },
    {
      "cell_type": "markdown",
      "source": [
        "# 9. Data Analysis"
      ],
      "metadata": {
        "id": "2sHttKpIgs1j"
      }
    },
    {
      "cell_type": "markdown",
      "source": [
        "https://colab.research.google.com/drive/1XTnsQ9DMDU1S7d7mieo2EpOPYAEfOaVb?usp=sharing\n",
        "\n",
        "Dexcom notebook data analysis <-- use similar graph\n",
        "\n",
        "Amount of time above 180 changes over time (\"if\" i changed behavior)\n",
        "\n",
        "Todo:\n",
        "1. Polar verity sense corrections\n",
        "2. finish this\n",
        "3. finish actigraph notebook\n",
        "4. 10 min presentation for what i have done this quarter if i want to continue\n"
      ],
      "metadata": {
        "id": "sKpZATFMgm1v"
      }
    },
    {
      "cell_type": "markdown",
      "source": [
        "## 9.1: Blood glucose level vs. time of day (day vs. night) \n",
        "\n",
        "**This section is the same as the one presented in the dexcom g6 notebook**"
      ],
      "metadata": {
        "id": "Buc3V0bDGA33"
      }
    },
    {
      "cell_type": "markdown",
      "source": [
        "Since people (generally) sleep at night and eat during the day, one hypothesis is that glucose values will be different during the day compared to the night. Let's see if this is true. First, we will get the glucose values for each day and separate them into day time and night time values. We define day time as 9AM to 12AM (midnight) and night time as 12AM (midnight) to 9 am here, although these values can be adjusted as dayStart and dayEnd in the code."
      ],
      "metadata": {
        "id": "4AXQBfN4KDre"
      }
    },
    {
      "cell_type": "code",
      "source": [
        "from datetime import time\n",
        "import scipy.stats as stats\n",
        "\n",
        "df = data\n",
        "\n",
        "dayStart = time(9, 00, 00)\n",
        "dayEnd = time(0, 00, 00)\n",
        "\n",
        "allTimes = pd.to_datetime(df.loc[:,'time']).dt.time\n",
        "\n",
        "if dayStart < dayEnd:\n",
        "    mask = (allTimes >= dayStart) & (allTimes <= dayEnd)\n",
        "else:\n",
        "    mask = (allTimes >= dayStart) | (allTimes <= dayEnd)\n",
        "\n",
        "df[\"Time of Day\"] = mask\n",
        "df[\"Time of Day\"] = df[\"Time of Day\"].map({True: 'Day', False: 'Night'})"
      ],
      "metadata": {
        "id": "VWfrRegdLCje"
      },
      "execution_count": null,
      "outputs": []
    },
    {
      "cell_type": "markdown",
      "source": [
        "Let's use [seaborn](https://seaborn.pydata.org/) to generate a scatter plot to take an initial look."
      ],
      "metadata": {
        "id": "Twi_M1rbhCAA"
      }
    },
    {
      "cell_type": "code",
      "source": [
        "import seaborn as sns\n",
        "\n",
        "sns.catplot(x=\"Time of Day\", y=\"level\", data=df)"
      ],
      "metadata": {
        "colab": {
          "base_uri": "https://localhost:8080/",
          "height": 386
        },
        "id": "InuS5ksQhDSR",
        "outputId": "15af4c49-6127-4f77-b402-18fa84dd2af4"
      },
      "execution_count": null,
      "outputs": [
        {
          "output_type": "execute_result",
          "data": {
            "text/plain": [
              "<seaborn.axisgrid.FacetGrid at 0x7f29821142b0>"
            ]
          },
          "metadata": {},
          "execution_count": 9
        },
        {
          "output_type": "display_data",
          "data": {
            "text/plain": [
              "<Figure size 360x360 with 1 Axes>"
            ],
            "image/png": "[encoded data removed]"
          },
          "metadata": {
            "needs_background": "light"
          }
        }
      ]
    },
    {
      "cell_type": "markdown",
      "source": [
        "Now, since we're compmaring two means, we could use a one-way ANOVA (analysis of variance). For this to be a valid analysis, we have to ensure the data is [independent, normally distributed, and homoscedastic](https://www.statisticssolutions.com/free-resources/directory-of-statistical-analyses/anova/).\n",
        "\n",
        "Let's check normality first."
      ],
      "metadata": {
        "id": "nUmscDzxhEbw"
      }
    },
    {
      "cell_type": "code",
      "source": [
        "import matplotlib.pyplot as plt\n",
        "\n",
        "plt.hist(df.loc[df[\"Time of Day\"] == 'Day']['level'])\n",
        "plt.title(\"Day Time\")\n",
        "plt.show()\n",
        "\n",
        "plt.hist(df.loc[df[\"Time of Day\"] == 'Night']['level'])\n",
        "plt.title(\"Night Time\")\n",
        "plt.show()"
      ],
      "metadata": {
        "colab": {
          "base_uri": "https://localhost:8080/",
          "height": 545
        },
        "id": "bfgmAx-uhGVQ",
        "outputId": "b1417387-4238-447c-dd0a-d011bd32e677"
      },
      "execution_count": null,
      "outputs": [
        {
          "output_type": "display_data",
          "data": {
            "text/plain": [
              "<Figure size 432x288 with 1 Axes>"
            ],
            "image/png": "[encoded data removed]"
          },
          "metadata": {
            "needs_background": "light"
          }
        },
        {
          "output_type": "display_data",
          "data": {
            "text/plain": [
              "<Figure size 432x288 with 1 Axes>"
            ],
            "image/png": "[encoded data removed]"
          },
          "metadata": {
            "needs_background": "light"
          }
        }
      ]
    },
    {
      "cell_type": "markdown",
      "source": [
        "Since the data do not look normally distributed, we can use a [Kruskal-Wallis test](https://docs.scipy.org/doc/scipy/reference/generated/scipy.stats.kruskal.html#scipy.stats.kruskal) instead of an ANOVA."
      ],
      "metadata": {
        "id": "nMoqa31e3AxD"
      }
    },
    {
      "cell_type": "code",
      "source": [
        "from scipy import stats\n",
        "\n",
        "stats.kruskal(df.loc[df[\"Time of Day\"] == 'Day']['level'],df.loc[df[\"Time of Day\"] == 'Night']['level'])"
      ],
      "metadata": {
        "colab": {
          "base_uri": "https://localhost:8080/"
        },
        "id": "47JoWn9K3Bjp",
        "outputId": "c9c478f5-9ad3-4b63-cefa-d5d82e697643"
      },
      "execution_count": null,
      "outputs": [
        {
          "output_type": "execute_result",
          "data": {
            "text/plain": [
              "KruskalResult(statistic=21.499488625098433, pvalue=3.5392303061464117e-06)"
            ]
          },
          "metadata": {},
          "execution_count": 15
        }
      ]
    },
    {
      "cell_type": "markdown",
      "source": [
        "Thus we can reject the null hypothesis that the population medians do not significantly differ (p<\\0.05), and that night time values are different from day time values."
      ],
      "metadata": {
        "id": "JxiYBSWq3PAK"
      }
    },
    {
      "cell_type": "markdown",
      "source": [
        "## 9.2: Blood glucose level after change of behavior\n",
        "\n",
        "Does a patient change their eating habits throughout the course of the study When a patient changes their eating habits in order to keep their glucose levels in check, does it work? One analysis we could do is, given the date at which the patient started implementing changes in eating habits (like eating less sweets), determine if there is a significant difference in the blood glucose levels throughout the day (140 mg/dL). \n",
        "\n",
        "For this type of question, we will use something called a T-Test, a statistical test used to determine compare the mean of some value in two separate groups. Here our first group will be the set of data before the patient changed their eating habits, and the second group will be the data after the patient changed their eating habits. \n",
        "\n",
        "The date of behavioral change below can be modified as needed."
      ],
      "metadata": {
        "id": "crrhB9ZNGVm4"
      }
    },
    {
      "cell_type": "code",
      "source": [
        "#@title Enter date of eating habit change\n",
        "\n",
        "date_of_change = \"2023-02-10T12:00:00\" #@param {type:\"string\"}"
      ],
      "metadata": {
        "id": "UdY_alRYUfJl"
      },
      "execution_count": null,
      "outputs": []
    },
    {
      "cell_type": "code",
      "source": [
        "import pandas as pd\n",
        "import numpy as np\n",
        "from scipy.stats import ttest_ind\n",
        "from datetime import timedelta, datetime\n",
        "import re\n",
        "\n",
        "df = data\n",
        "\n",
        "pat = date_of_change + \"*(.+)\"\n",
        "\n",
        "split = list(df[\"time\"].str.match(pat).values)\n",
        "split = split.index(True)\n",
        "\n",
        "\n",
        "def differ(df):\n",
        "  rows = len(df.index)\n",
        "  f = df.iloc[range(split)][\"level\"]\n",
        "  s = df.iloc[range(split,rows)][\"level\"]\n",
        "  return ttest_ind(f,s)\n",
        "\n",
        "print(differ(df))"
      ],
      "metadata": {
        "colab": {
          "base_uri": "https://localhost:8080/"
        },
        "id": "IMpQSV4c7STd",
        "outputId": "998746a5-b687-4b36-c4bc-2e6de651da03"
      },
      "execution_count": null,
      "outputs": [
        {
          "output_type": "stream",
          "name": "stdout",
          "text": [
            "Ttest_indResult(statistic=-8.312470160946482, pvalue=6.582193099179201e-13)\n"
          ]
        }
      ]
    },
    {
      "cell_type": "markdown",
      "source": [
        "Since the t-test returned a negative value, this means the sample mean in the first half of the data is less than the sample mean in the second half of the data. Based on the increased glucose levels, it looks like the patient has indeed changed their eating habits, but for the worse!"
      ],
      "metadata": {
        "id": "0jFtWMZl74UY"
      }
    }
  ]
}